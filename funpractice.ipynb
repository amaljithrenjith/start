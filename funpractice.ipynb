{
 "cells": [
  {
   "cell_type": "code",
   "execution_count": 2,
   "id": "64489a51",
   "metadata": {},
   "outputs": [
    {
     "name": "stdout",
     "output_type": "stream",
     "text": [
      "-5\n"
     ]
    }
   ],
   "source": [
    "def substraction(a,b,c):\n",
    "    return a-b*c\n",
    "print(substraction(10,5,3))"
   ]
  },
  {
   "cell_type": "code",
   "execution_count": 3,
   "id": "88e9216b",
   "metadata": {},
   "outputs": [
    {
     "name": "stdout",
     "output_type": "stream",
     "text": [
      "-47\n"
     ]
    }
   ],
   "source": [
    "def substraction(a,b,c):\n",
    "    return a-b*c\n",
    "print(substraction(b=10,a=3,c=5))"
   ]
  },
  {
   "cell_type": "code",
   "execution_count": 4,
   "id": "efd4c0e7",
   "metadata": {},
   "outputs": [
    {
     "name": "stdout",
     "output_type": "stream",
     "text": [
      "5\n"
     ]
    }
   ],
   "source": [
    "def substraction(a,b,c=1):\n",
    "    return a-b*c\n",
    "print(substraction(10,5))"
   ]
  },
  {
   "cell_type": "code",
   "execution_count": 5,
   "id": "2bf39b0e",
   "metadata": {},
   "outputs": [
    {
     "name": "stdout",
     "output_type": "stream",
     "text": [
      "-5\n"
     ]
    }
   ],
   "source": [
    "def substraction(a,b,c=1):\n",
    "    return a-b*c\n",
    "print(substraction(10,5,3))"
   ]
  },
  {
   "cell_type": "code",
   "execution_count": 7,
   "id": "64cc0d69",
   "metadata": {},
   "outputs": [
    {
     "name": "stdout",
     "output_type": "stream",
     "text": [
      "hello ('arun', 'jagan', 'amal', 'deysh')\n"
     ]
    }
   ],
   "source": [
    "def name(*args):\n",
    "    print('hello',args)\n",
    "name('arun','jagan','amal','deysh')"
   ]
  },
  {
   "cell_type": "code",
   "execution_count": 9,
   "id": "0acdbaaf",
   "metadata": {},
   "outputs": [
    {
     "name": "stdout",
     "output_type": "stream",
     "text": [
      "hi arun\n",
      "hi jagan\n",
      "hi amal\n",
      "hi deysh\n"
     ]
    }
   ],
   "source": [
    "def name(*args):\n",
    "    for i in args:\n",
    "        print('hi',i)\n",
    "name('arun','jagan','amal','deysh')"
   ]
  },
  {
   "cell_type": "code",
   "execution_count": 10,
   "id": "ac5b4b27",
   "metadata": {},
   "outputs": [
    {
     "name": "stdout",
     "output_type": "stream",
     "text": [
      "enter the breadth 5\n",
      "enetr the height 6\n"
     ]
    },
    {
     "ename": "NameError",
     "evalue": "name 'area' is not defined",
     "output_type": "error",
     "traceback": [
      "\u001b[1;31m---------------------------------------------------------------------------\u001b[0m",
      "\u001b[1;31mNameError\u001b[0m                                 Traceback (most recent call last)",
      "Input \u001b[1;32mIn [10]\u001b[0m, in \u001b[0;36m<cell line: 3>\u001b[1;34m()\u001b[0m\n\u001b[0;32m      1\u001b[0m b\u001b[38;5;241m=\u001b[39m\u001b[38;5;28mint\u001b[39m(\u001b[38;5;28minput\u001b[39m(\u001b[38;5;124m'\u001b[39m\u001b[38;5;124menter the breadth \u001b[39m\u001b[38;5;124m'\u001b[39m))\n\u001b[0;32m      2\u001b[0m h\u001b[38;5;241m=\u001b[39m\u001b[38;5;28mint\u001b[39m(\u001b[38;5;28minput\u001b[39m(\u001b[38;5;124m'\u001b[39m\u001b[38;5;124menetr the height \u001b[39m\u001b[38;5;124m'\u001b[39m))\n\u001b[1;32m----> 3\u001b[0m \u001b[43marea\u001b[49m(b,h)\n\u001b[0;32m      4\u001b[0m \u001b[38;5;28;01mdef\u001b[39;00m \u001b[38;5;21marea\u001b[39m(b,h):\n\u001b[0;32m      5\u001b[0m     \u001b[38;5;28mprint\u001b[39m(\u001b[38;5;241m0.5\u001b[39m\u001b[38;5;241m*\u001b[39mb\u001b[38;5;241m*\u001b[39mh)\n",
      "\u001b[1;31mNameError\u001b[0m: name 'area' is not defined"
     ]
    }
   ],
   "source": [
    "b=int(input('enter the breadth '))\n",
    "h=int(input('enetr the height '))\n",
    "area(b,h)\n",
    "def area(b,h):\n",
    "    print(0.5*b*h)"
   ]
  },
  {
   "cell_type": "code",
   "execution_count": 11,
   "id": "4d067b46",
   "metadata": {},
   "outputs": [
    {
     "name": "stdout",
     "output_type": "stream",
     "text": [
      "enter the breadth 5\n",
      "enetr the height 6\n",
      "15.0\n"
     ]
    }
   ],
   "source": [
    "def area(b,h):\n",
    "    print(0.5*b*h)\n",
    "b=int(input('enter the breadth '))\n",
    "h=int(input('enetr the height '))\n",
    "area(b,h)"
   ]
  },
  {
   "cell_type": "code",
   "execution_count": 15,
   "id": "0d3dd3f7",
   "metadata": {},
   "outputs": [
    {
     "name": "stdout",
     "output_type": "stream",
     "text": [
      "enter the weight 5\n",
      "enter the height 6\n",
      "5.0\n"
     ]
    }
   ],
   "source": [
    "def bmi(w,h):\n",
    "    print(w/h*h)\n",
    "w=float(input('enter the weight '))\n",
    "h=float(input('enter the height '))\n",
    "bmi(w,h)"
   ]
  },
  {
   "cell_type": "code",
   "execution_count": 22,
   "id": "c210550d",
   "metadata": {},
   "outputs": [
    {
     "name": "stdout",
     "output_type": "stream",
     "text": [
      "200\n",
      "250\n"
     ]
    }
   ],
   "source": [
    "def wage(w_hrs):\n",
    "    return w_hrs*25\n",
    "def wage_bouns(w_hrs):\n",
    "    return wage(w_hrs)+50\n",
    "    \n",
    "print(wage(8))\n",
    "print(wage_bouns(8))"
   ]
  },
  {
   "cell_type": "code",
   "execution_count": 24,
   "id": "6199718e",
   "metadata": {},
   "outputs": [
    {
     "name": "stdout",
     "output_type": "stream",
     "text": [
      "85.5\n"
     ]
    }
   ],
   "source": [
    "def student_discount(prize):\n",
    "    std_dis=prize-(prize*10)/100\n",
    "    return std_dis\n",
    "def additional_discount(new_prize):\n",
    "    add_dis=new_prize-(new_prize*5)/100\n",
    "    return add_dis\n",
    "selling_prize=100\n",
    "print(additional_discount(student_discount(selling_prize)))"
   ]
  },
  {
   "cell_type": "code",
   "execution_count": 1,
   "id": "3eb7c00e",
   "metadata": {},
   "outputs": [
    {
     "name": "stdout",
     "output_type": "stream",
     "text": [
      "enter the first number 5\n",
      "enter the second number5\n",
      "1 for adition \n",
      "2 for substraction \n",
      "3 for multiplication \n",
      "4 for division5\n",
      "The operation is wrong\n"
     ]
    }
   ],
   "source": [
    "def adition(a,b):\n",
    "    print('reselt is ',a+b)\n",
    "def substracion(a,b):\n",
    "    print('reselt is ',a-b)\n",
    "def multiplication(a,b):\n",
    "    print('reselt is ',a*b)\n",
    "def division(a,b):\n",
    "    print('reselt is ',a/b)\n",
    "    \n",
    "num1=int(input('enter the first number '))\n",
    "num2=int(input('enter the second number'))\n",
    "operation=int(input('1 for adition \\n2 for substraction \\n3 for multiplication \\n4 for division '))\n",
    "if operation==1:\n",
    "    adition(num1,num2)\n",
    "elif operation==2:\n",
    "    substraction(num1,num2)\n",
    "elif operation==3:\n",
    "    multiplication(num1,num2)\n",
    "elif operation==4:\n",
    "    division(num1,num2)\n",
    "else:\n",
    "    print('The operation is wrong')\n",
    "    "
   ]
  },
  {
   "cell_type": "code",
   "execution_count": 4,
   "id": "1b8dc30f",
   "metadata": {},
   "outputs": [
    {
     "name": "stdout",
     "output_type": "stream",
     "text": [
      "3\n",
      "Werid\n"
     ]
    }
   ],
   "source": [
    "n = int(input())\n",
    "if (n%2==0):\n",
    "    if (n<=5):\n",
    "        print('Not Weird')\n",
    "    if (n<=20):\n",
    "        print('Weired')\n",
    "    else:\n",
    "        print('Not Weired')\n",
    "elif (n%2==1):\n",
    "        print('Werid')\n",
    "        \n"
   ]
  },
  {
   "cell_type": "code",
   "execution_count": 1,
   "id": "5e939812",
   "metadata": {},
   "outputs": [
    {
     "name": "stdout",
     "output_type": "stream",
     "text": [
      "750\n"
     ]
    }
   ],
   "source": [
    "x=5,6,54,85,96,750\n",
    "print(max(x))"
   ]
  },
  {
   "cell_type": "code",
   "execution_count": 8,
   "id": "1074cedb",
   "metadata": {},
   "outputs": [
    {
     "name": "stdout",
     "output_type": "stream",
     "text": [
      "enter the syring james\n",
      "jms\n"
     ]
    }
   ],
   "source": [
    "name=input('enter the syring ')\n",
    "res=name[0]\n",
    "length=len(name)\n",
    "md=int(length/2)\n",
    "res=res+name[md]\n",
    "res=res+name[length-1]\n",
    "print(res)"
   ]
  },
  {
   "cell_type": "code",
   "execution_count": 10,
   "id": "9df992b6",
   "metadata": {},
   "outputs": [
    {
     "name": "stdout",
     "output_type": "stream",
     "text": [
      "enter the string amaljith\n",
      "ajh\n"
     ]
    }
   ],
   "source": [
    "def string_middile(name):\n",
    "    res=name[0]\n",
    "    length=len(name)\n",
    "    md=int(length/2)\n",
    "    res=res+name[md]\n",
    "    res=res+name[-1]\n",
    "    print(res)\n",
    "name=input('enter the string ')\n",
    "string_middile(name)"
   ]
  },
  {
   "cell_type": "code",
   "execution_count": 16,
   "id": "8367c413",
   "metadata": {},
   "outputs": [
    {
     "name": "stdout",
     "output_type": "stream",
     "text": [
      "enter the string amaljith\n",
      "lji\n"
     ]
    }
   ],
   "source": [
    "def middile_string_name(name):\n",
    "    #length=len(name)\n",
    "    res=int(len(name)/2)\n",
    "    print(name[res-1:res+2])\n",
    "    \n",
    "\n",
    "\n",
    "name=input('enter the string ')\n",
    "middile_string_name(name)"
   ]
  },
  {
   "cell_type": "code",
   "execution_count": 20,
   "id": "e6ad466a",
   "metadata": {},
   "outputs": [
    {
     "name": "stdout",
     "output_type": "stream",
     "text": [
      "[4, 6, 8, 10, 12, 14, 16, 18, 20, 22, 24, 26, 28, 30, 32, 34, 36, 38, 40]\n"
     ]
    }
   ],
   "source": [
    "def print_number():\n",
    "    #for i in range(4,41,2):\n",
    "    print(list(range(4,41,2)))\n",
    "        \n",
    "print_number()\n",
    "        \n",
    "        "
   ]
  },
  {
   "cell_type": "code",
   "execution_count": 22,
   "id": "9ad8248f",
   "metadata": {},
   "outputs": [
    {
     "name": "stdout",
     "output_type": "stream",
     "text": [
      "789\n"
     ]
    }
   ],
   "source": [
    "x=[45,45,23,34,56,789,98]\n",
    "print(max(x))"
   ]
  },
  {
   "cell_type": "code",
   "execution_count": null,
   "id": "369c481d",
   "metadata": {},
   "outputs": [],
   "source": [
    "def table(n,i):\n",
    "    print(n*i)\n",
    "    i=+1\n",
    "    if i<=10:\n",
    "        table(n,i)\n",
    "        \n",
    "table(12,1)"
   ]
  },
  {
   "cell_type": "code",
   "execution_count": 7,
   "id": "fc408d87",
   "metadata": {},
   "outputs": [
    {
     "name": "stdout",
     "output_type": "stream",
     "text": [
      "enter the number 12\n",
      "1 * 12 = 12\n",
      "2 * 12 = 24\n",
      "3 * 12 = 36\n",
      "4 * 12 = 48\n",
      "5 * 12 = 60\n",
      "6 * 12 = 72\n",
      "7 * 12 = 84\n",
      "8 * 12 = 96\n",
      "9 * 12 = 108\n",
      "10 * 12 = 120\n"
     ]
    }
   ],
   "source": [
    "def mul_table(num1):\n",
    "    for i in range(1,11):\n",
    "        print(i,'*',num1,'=',i*num1)\n",
    "\n",
    "num1=int(input('enter the number '))\n",
    "mul_table(num1)\n"
   ]
  },
  {
   "cell_type": "code",
   "execution_count": 10,
   "id": "507735c0",
   "metadata": {},
   "outputs": [
    {
     "name": "stdout",
     "output_type": "stream",
     "text": [
      "enter the name amaljith\n",
      "enter the age 4\n",
      "amaljith is not eligibile for voting \n"
     ]
    }
   ],
   "source": [
    "def vote_aligible(age,name):\n",
    "    if age>18:\n",
    "        print(name,'is eligible for voting ')\n",
    "    else:\n",
    "        print(name,'is not eligibile for voting ')\n",
    "        \n",
    "\n",
    "name=input('enter the name ')\n",
    "age=int(input('enter the age '))\n",
    "vote_aligible(age,name)"
   ]
  },
  {
   "cell_type": "code",
   "execution_count": 13,
   "id": "b55dc3af",
   "metadata": {},
   "outputs": [
    {
     "ename": "TypeError",
     "evalue": "unsupported operand type(s) for +: 'int' and 'str'",
     "output_type": "error",
     "traceback": [
      "\u001b[1;31m---------------------------------------------------------------------------\u001b[0m",
      "\u001b[1;31mTypeError\u001b[0m                                 Traceback (most recent call last)",
      "Input \u001b[1;32mIn [13]\u001b[0m, in \u001b[0;36m<cell line: 1>\u001b[1;34m()\u001b[0m\n\u001b[0;32m      3\u001b[0m \u001b[38;5;28msum\u001b[39m\u001b[38;5;241m=\u001b[39m\u001b[38;5;241m0\u001b[39m\n\u001b[0;32m      4\u001b[0m \u001b[38;5;28;01mif\u001b[39;00m \u001b[38;5;124m'\u001b[39m\u001b[38;5;124m'\u001b[39m\u001b[38;5;241m.\u001b[39mjoin(\u001b[38;5;28mreversed\u001b[39m(num)):\n\u001b[1;32m----> 5\u001b[0m     \u001b[38;5;28msum\u001b[39m\u001b[38;5;241m=\u001b[39m\u001b[38;5;28;43msum\u001b[39;49m\u001b[38;5;241;43m+\u001b[39;49m\u001b[43mnum\u001b[49m\n\u001b[0;32m      6\u001b[0m \u001b[38;5;28;01mif\u001b[39;00m \u001b[38;5;28msum\u001b[39m\u001b[38;5;241m%\u001b[39m\u001b[38;5;241m2\u001b[39m\u001b[38;5;241m==\u001b[39m\u001b[38;5;241m0\u001b[39m:\n\u001b[0;32m      7\u001b[0m     \u001b[38;5;28mprint\u001b[39m(\u001b[38;5;28msum\u001b[39m)\n",
      "\u001b[1;31mTypeError\u001b[0m: unsupported operand type(s) for +: 'int' and 'str'"
     ]
    }
   ],
   "source": [
    "for i in range(100,200):\n",
    "    num=str(i)\n",
    "    sum=0\n",
    "    if ''.join(reversed(num)):\n",
    "        sum=sum+num\n",
    "    if sum%2==0:\n",
    "        print(sum)"
   ]
  },
  {
   "cell_type": "code",
   "execution_count": 12,
   "id": "fc74cfba",
   "metadata": {},
   "outputs": [
    {
     "name": "stdout",
     "output_type": "stream",
     "text": [
      "100\n",
      "102\n",
      "104\n",
      "106\n",
      "108\n",
      "110\n",
      "112\n",
      "114\n",
      "116\n",
      "118\n",
      "120\n",
      "122\n",
      "124\n",
      "126\n",
      "128\n",
      "130\n",
      "132\n",
      "134\n",
      "136\n",
      "138\n",
      "140\n",
      "142\n",
      "144\n",
      "146\n",
      "148\n",
      "150\n",
      "152\n",
      "154\n",
      "156\n",
      "158\n",
      "160\n",
      "162\n",
      "164\n",
      "166\n",
      "168\n",
      "170\n",
      "172\n",
      "174\n",
      "176\n",
      "178\n",
      "180\n",
      "182\n",
      "184\n",
      "186\n",
      "188\n",
      "190\n",
      "192\n",
      "194\n",
      "196\n",
      "198\n"
     ]
    }
   ],
   "source": [
    "for i in range(100,200):\n",
    "    num=i\n",
    "    sum=0\n",
    "    if num!=0:\n",
    "        digit=num%10\n",
    "        sum=sum+digit\n",
    "        num=num//10\n",
    "    if (sum%2==0):\n",
    "        print(i)"
   ]
  },
  {
   "cell_type": "code",
   "execution_count": 4,
   "id": "55125bfb",
   "metadata": {},
   "outputs": [
    {
     "name": "stdout",
     "output_type": "stream",
     "text": [
      "ener the number 60\n",
      "48\n",
      "12\n"
     ]
    }
   ],
   "source": [
    "import math\n",
    "num1=int(input('ener the number '))\n",
    "num2=int(input())\n",
    "reselt=math.gcd(num1,num2)\n",
    "print(reselt)"
   ]
  },
  {
   "cell_type": "code",
   "execution_count": 1,
   "id": "dc8b7de3",
   "metadata": {},
   "outputs": [
    {
     "name": "stdout",
     "output_type": "stream",
     "text": [
      "8\n",
      "7\n",
      "6\n",
      "5\n",
      "4\n",
      "3\n",
      "2\n",
      "1\n"
     ]
    }
   ],
   "source": [
    "def print_no(n):\n",
    "    if n==0:\n",
    "        return\n",
    "    print(n)\n",
    "    n=n-1\n",
    "    print_no(n)\n",
    "print_no(8)"
   ]
  },
  {
   "cell_type": "code",
   "execution_count": 2,
   "id": "1c6d8586",
   "metadata": {},
   "outputs": [
    {
     "name": "stdout",
     "output_type": "stream",
     "text": [
      "amaljith\n",
      "amaljit\n",
      "amalji\n",
      "amalj\n",
      "amal\n",
      "ama\n",
      "am\n",
      "a\n",
      "jagan\n",
      "jaga\n",
      "jag\n",
      "ja\n",
      "j\n",
      "dayesh\n",
      "dayes\n",
      "daye\n",
      "day\n",
      "da\n",
      "d\n"
     ]
    }
   ],
   "source": [
    "def str1(name):\n",
    "    if len(name)==0:\n",
    "        return\n",
    "    print(name)\n",
    "    name=name[:len(name)-1]\n",
    "    str1(name)\n",
    "str1('amaljith')\n",
    "\n",
    "str1('jagan')\n",
    "str1('dayesh')\n",
    "    "
   ]
  },
  {
   "cell_type": "code",
   "execution_count": 4,
   "id": "356d38f5",
   "metadata": {},
   "outputs": [
    {
     "name": "stdout",
     "output_type": "stream",
     "text": [
      "how many numbers 3\n",
      "enter the number 2\n",
      "enter the number 3\n",
      "enter the number 5\n",
      "reselt is  10\n"
     ]
    }
   ],
   "source": [
    "numbers=[]\n",
    "num=int(input('how many numbers '))\n",
    "for i in range(num):\n",
    "    x=int(input('enter the number '))\n",
    "    numbers.append(x)\n",
    "print('reselt is ',sum(numbers))"
   ]
  },
  {
   "cell_type": "code",
   "execution_count": 7,
   "id": "362366aa",
   "metadata": {},
   "outputs": [
    {
     "name": "stdout",
     "output_type": "stream",
     "text": [
      "5\n",
      "5\n"
     ]
    },
    {
     "ename": "TypeError",
     "evalue": "'int' object is not iterable",
     "output_type": "error",
     "traceback": [
      "\u001b[1;31m---------------------------------------------------------------------------\u001b[0m",
      "\u001b[1;31mTypeError\u001b[0m                                 Traceback (most recent call last)",
      "Input \u001b[1;32mIn [7]\u001b[0m, in \u001b[0;36m<cell line: 3>\u001b[1;34m()\u001b[0m\n\u001b[0;32m      1\u001b[0m num1\u001b[38;5;241m=\u001b[39m\u001b[38;5;28mint\u001b[39m(\u001b[38;5;28minput\u001b[39m())\n\u001b[0;32m      2\u001b[0m num2\u001b[38;5;241m=\u001b[39m\u001b[38;5;28mint\u001b[39m(\u001b[38;5;28minput\u001b[39m())\n\u001b[1;32m----> 3\u001b[0m \u001b[38;5;28mprint\u001b[39m(\u001b[38;5;28;43msum\u001b[39;49m\u001b[43m(\u001b[49m\u001b[43mnum1\u001b[49m\u001b[43m,\u001b[49m\u001b[43mnum2\u001b[49m\u001b[43m)\u001b[49m)\n",
      "\u001b[1;31mTypeError\u001b[0m: 'int' object is not iterable"
     ]
    }
   ],
   "source": [
    "num1=int(input())\n",
    "num2=int(input())\n",
    "print(sum(num1,num2))"
   ]
  },
  {
   "cell_type": "code",
   "execution_count": 8,
   "id": "51a46e13",
   "metadata": {},
   "outputs": [
    {
     "name": "stdout",
     "output_type": "stream",
     "text": [
      "45\n"
     ]
    }
   ],
   "source": [
    "a=(1,2,3,4,5,6,7,8,9)\n",
    "print(sum(a))"
   ]
  }
 ],
 "metadata": {
  "kernelspec": {
   "display_name": "Python 3 (ipykernel)",
   "language": "python",
   "name": "python3"
  },
  "language_info": {
   "codemirror_mode": {
    "name": "ipython",
    "version": 3
   },
   "file_extension": ".py",
   "mimetype": "text/x-python",
   "name": "python",
   "nbconvert_exporter": "python",
   "pygments_lexer": "ipython3",
   "version": "3.10.3"
  }
 },
 "nbformat": 4,
 "nbformat_minor": 5
}
