{
 "cells": [
  {
   "cell_type": "code",
   "execution_count": 1,
   "id": "ec0470c7",
   "metadata": {},
   "outputs": [
    {
     "name": "stdout",
     "output_type": "stream",
     "text": [
      "enter the number 5\n",
      "it is prime\n"
     ]
    }
   ],
   "source": [
    "num=int(input(\"enter the number \"))\n",
    "c=0\n",
    "for i in range(2,num):\n",
    "    if num%i==0:\n",
    "        c=1\n",
    "        break\n",
    "if c==1:\n",
    "    print(\"it is not prime\")\n",
    "if c==0:\n",
    "    print(\"it is prime\")"
   ]
  },
  {
   "cell_type": "code",
   "execution_count": 4,
   "id": "da3cde02",
   "metadata": {},
   "outputs": [
    {
     "name": "stdout",
     "output_type": "stream",
     "text": [
      "c\n",
      "o\n",
      "m\n"
     ]
    }
   ],
   "source": [
    "str1=\"computer\"\n",
    "for i in str1:\n",
    "    if i=='p':\n",
    "        break\n",
    "    else:\n",
    "        print(i)\n",
    "    "
   ]
  },
  {
   "cell_type": "code",
   "execution_count": 5,
   "id": "5466bcc4",
   "metadata": {},
   "outputs": [
    {
     "name": "stdout",
     "output_type": "stream",
     "text": [
      "c\n",
      "o\n",
      "m\n",
      "u\n",
      "t\n",
      "e\n",
      "r\n"
     ]
    }
   ],
   "source": [
    "str1='computer'\n",
    "for i in str1:\n",
    "    if i==\"p\":\n",
    "        continue\n",
    "    else:\n",
    "        print(i)"
   ]
  },
  {
   "cell_type": "code",
   "execution_count": 6,
   "id": "04fa2e52",
   "metadata": {},
   "outputs": [
    {
     "name": "stdout",
     "output_type": "stream",
     "text": [
      "1\n",
      "2\n",
      "3\n",
      "4\n",
      "5\n",
      "6\n",
      "7\n",
      "8\n",
      "9\n",
      "10\n"
     ]
    }
   ],
   "source": [
    "#while loop\n",
    "i=1\n",
    "while (i<11):\n",
    "    print(i)\n",
    "    i=i+1"
   ]
  },
  {
   "cell_type": "code",
   "execution_count": 2,
   "id": "e5aa5a88",
   "metadata": {},
   "outputs": [
    {
     "name": "stdout",
     "output_type": "stream",
     "text": [
      "enter the number 5\n",
      "10\n"
     ]
    }
   ],
   "source": [
    "num=int(input(\"enter the number \"))\n",
    "sum=0\n",
    "for i in range(1,num):\n",
    "    sum=sum+i\n",
    "print(sum)"
   ]
  },
  {
   "cell_type": "code",
   "execution_count": 13,
   "id": "8e1d86c5",
   "metadata": {},
   "outputs": [
    {
     "name": "stdout",
     "output_type": "stream",
     "text": [
      "10\n"
     ]
    }
   ],
   "source": [
    "#sum of natural no up to 5\n",
    "num=5\n",
    "i=1\n",
    "while (i<=num):\n",
    "    sum=i+num\n",
    "    i=i+1\n",
    "print(sum)\n"
   ]
  },
  {
   "cell_type": "code",
   "execution_count": 3,
   "id": "2eb1195b",
   "metadata": {},
   "outputs": [
    {
     "name": "stdout",
     "output_type": "stream",
     "text": [
      "enyer the number 5\n",
      "2\n",
      "6\n"
     ]
    }
   ],
   "source": [
    "num=int(input(\"enyer the number \"))\n",
    "sum=0\n",
    "for i in range(1,num):\n",
    "    if i%2==0:\n",
    "        sum=sum+i\n",
    "        print(sum)"
   ]
  },
  {
   "cell_type": "code",
   "execution_count": 18,
   "id": "d1fa9b75",
   "metadata": {},
   "outputs": [
    {
     "name": "stdout",
     "output_type": "stream",
     "text": [
      "6\n"
     ]
    }
   ],
   "source": [
    "#sum ofodd number up to 5\n",
    "num=5\n",
    "i=1\n",
    "sum=0\n",
    "while (i<6):\n",
    "    if (i%2==0):\n",
    "        sum=sum+i\n",
    "    i=i+1\n",
    "print(sum)\n",
    "        \n",
    "   "
   ]
  },
  {
   "cell_type": "code",
   "execution_count": 20,
   "id": "1cd994aa",
   "metadata": {},
   "outputs": [
    {
     "name": "stdout",
     "output_type": "stream",
     "text": [
      "25\n"
     ]
    }
   ],
   "source": [
    "#sum of even numbers up to 10\n",
    "num=10\n",
    "i=1\n",
    "sum=0\n",
    "while (i<11):\n",
    "    if(i%2==1):\n",
    "        sum=sum+i\n",
    "    i=i+1\n",
    "print(sum)"
   ]
  },
  {
   "cell_type": "code",
   "execution_count": 22,
   "id": "29384204",
   "metadata": {},
   "outputs": [
    {
     "name": "stdout",
     "output_type": "stream",
     "text": [
      "enter the number123\n",
      "6\n"
     ]
    }
   ],
   "source": [
    "#sum of digits of anumber\n",
    "num=int(input(\"enter the number\"))\n",
    "sum=0\n",
    "while (num>0):\n",
    "    d=num%10\n",
    "    sum=sum+d\n",
    "    num=num//10\n",
    "print(sum)"
   ]
  },
  {
   "cell_type": "code",
   "execution_count": 23,
   "id": "a0191bff",
   "metadata": {},
   "outputs": [
    {
     "name": "stdout",
     "output_type": "stream",
     "text": [
      "enter the number123\n",
      "6\n"
     ]
    }
   ],
   "source": [
    "#in fo loop\n",
    "num=input(\"enter the number\")\n",
    "sum=0\n",
    "for i in num:\n",
    "    sum=sum+int(i)\n",
    "print(sum)"
   ]
  },
  {
   "cell_type": "code",
   "execution_count": 24,
   "id": "4d15d9bf",
   "metadata": {},
   "outputs": [
    {
     "name": "stdout",
     "output_type": "stream",
     "text": [
      "enter the number 123\n",
      "14\n"
     ]
    }
   ],
   "source": [
    "num=int(input(\"enter the number \"))\n",
    "sum=0\n",
    "while(num>0):\n",
    "    d=(num*num)%10\n",
    "    sum=sum+d\n",
    "    num=num//10\n",
    "print(sum)"
   ]
  },
  {
   "cell_type": "code",
   "execution_count": 30,
   "id": "a41fec58",
   "metadata": {},
   "outputs": [
    {
     "name": "stdout",
     "output_type": "stream",
     "text": [
      "enter the number 123\n",
      "3\n"
     ]
    }
   ],
   "source": [
    "num=int(input(\"enter the number \"))\n",
    "count=0\n",
    "while (num!=0):\n",
    "    num=num//10\n",
    "    count=count+1\n",
    "print(count)"
   ]
  },
  {
   "cell_type": "code",
   "execution_count": 34,
   "id": "d908a8ef",
   "metadata": {},
   "outputs": [
    {
     "name": "stdout",
     "output_type": "stream",
     "text": [
      "enter the number 153\n",
      "amstrong\n"
     ]
    }
   ],
   "source": [
    "num=int(input(\"enter the number \"))\n",
    "n=num\n",
    "sum=0\n",
    "while(num>0):\n",
    "    d=num%10\n",
    "    sum=sum+(d*d*d)\n",
    "    num=num//10\n",
    "    \n",
    "if sum==n:\n",
    "    print(\"amstrong\")\n",
    "else:\n",
    "    print(\"not amstrong\")"
   ]
  },
  {
   "cell_type": "code",
   "execution_count": 39,
   "id": "b2ffa27a",
   "metadata": {},
   "outputs": [
    {
     "name": "stdout",
     "output_type": "stream",
     "text": [
      "enter the number 145\n",
      "strong number\n"
     ]
    }
   ],
   "source": [
    "num=int(input(\"enter the number \"))\n",
    "n=num\n",
    "sum=0\n",
    "import math\n",
    "while num!=0:\n",
    "    d=num%10\n",
    "    sum=sum+math.factorial(d)\n",
    "    num=num//10\n",
    "if n==sum:\n",
    "    print(\"strong number\")\n",
    "else:\n",
    "    print(\"not strong\")"
   ]
  },
  {
   "cell_type": "code",
   "execution_count": 21,
   "id": "d1b298a1",
   "metadata": {},
   "outputs": [
    {
     "name": "stdout",
     "output_type": "stream",
     "text": [
      "enter the number 5\n",
      " *  \n",
      " \n",
      " *  *  \n",
      " \n",
      " *  *  *  \n",
      " \n",
      " *  *  *  *  \n",
      " \n",
      " *  *  *  *  *  \n",
      " \n"
     ]
    }
   ],
   "source": [
    "num=int(input(\"enter the number \"))\n",
    "for i in range(1,num+1):\n",
    "    for j in range(1,i+1):\n",
    "        print(\" * \", end=\"\")\n",
    "        \n",
    "    print(\" \\n \")\n",
    "        "
   ]
  }
 ],
 "metadata": {
  "kernelspec": {
   "display_name": "Python 3 (ipykernel)",
   "language": "python",
   "name": "python3"
  },
  "language_info": {
   "codemirror_mode": {
    "name": "ipython",
    "version": 3
   },
   "file_extension": ".py",
   "mimetype": "text/x-python",
   "name": "python",
   "nbconvert_exporter": "python",
   "pygments_lexer": "ipython3",
   "version": "3.10.3"
  }
 },
 "nbformat": 4,
 "nbformat_minor": 5
}
