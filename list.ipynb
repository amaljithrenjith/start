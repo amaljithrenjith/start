{
 "cells": [
  {
   "cell_type": "code",
   "execution_count": 6,
   "id": "175b0523",
   "metadata": {},
   "outputs": [
    {
     "name": "stdout",
     "output_type": "stream",
     "text": [
      "[90.0, 180.0, 135.0, 225.0, 270.0]\n"
     ]
    }
   ],
   "source": [
    "def discount(p):\n",
    "    return p-((p*10)/100)\n",
    "prize=[100,200,150,250,300]\n",
    "print(list(map(discount,prize)))\n"
   ]
  },
  {
   "cell_type": "code",
   "execution_count": 42,
   "id": "24bd8c6c",
   "metadata": {},
   "outputs": [
    {
     "name": "stdout",
     "output_type": "stream",
     "text": [
      "(2, 3, 3)\n"
     ]
    }
   ],
   "source": [
    "empt=[]\n",
    "empt=2,3,3\n",
    "print(empt)"
   ]
  },
  {
   "cell_type": "code",
   "execution_count": 9,
   "id": "4591a1ad",
   "metadata": {},
   "outputs": [
    {
     "name": "stdout",
     "output_type": "stream",
     "text": [
      "[1, 2, 3, 5, 6, 4]\n"
     ]
    }
   ],
   "source": [
    "list1=[1,2,3,5,6,4]\n",
    "print(list1)"
   ]
  },
  {
   "cell_type": "code",
   "execution_count": 11,
   "id": "b9325a36",
   "metadata": {},
   "outputs": [
    {
     "name": "stdout",
     "output_type": "stream",
     "text": [
      "['a', 'm', 'a', 'l']\n"
     ]
    }
   ],
   "source": [
    "list2=list('amal')\n",
    "print(list2)"
   ]
  },
  {
   "cell_type": "code",
   "execution_count": 12,
   "id": "da99d355",
   "metadata": {},
   "outputs": [
    {
     "name": "stdout",
     "output_type": "stream",
     "text": [
      "[10, 20, 30, 50]\n"
     ]
    }
   ],
   "source": [
    "list3=list([10,20,30,50])\n",
    "print(list3)"
   ]
  },
  {
   "cell_type": "code",
   "execution_count": 13,
   "id": "9d4ced9a",
   "metadata": {},
   "outputs": [
    {
     "name": "stdout",
     "output_type": "stream",
     "text": [
      "amal\n",
      "jith\n",
      "45\n"
     ]
    }
   ],
   "source": [
    "nez=['amal',23,['jith',30,45]]\n",
    "print(nez[0])\n",
    "print(nez[2][0])\n",
    "print(nez[2][2])"
   ]
  },
  {
   "cell_type": "code",
   "execution_count": 14,
   "id": "625ee1f7",
   "metadata": {},
   "outputs": [
    {
     "name": "stdout",
     "output_type": "stream",
     "text": [
      "['asd', 100, 3.45]\n"
     ]
    }
   ],
   "source": [
    "l3=['asd',100,3.45]\n",
    "print(l3)"
   ]
  },
  {
   "cell_type": "code",
   "execution_count": 39,
   "id": "bdbb4914",
   "metadata": {},
   "outputs": [
    {
     "name": "stdout",
     "output_type": "stream",
     "text": [
      "['arun'] [1, 2, 3]\n"
     ]
    }
   ],
   "source": [
    "l1=['arun']\n",
    "l2=[1,2,3]\n",
    "print(l1,l2)"
   ]
  },
  {
   "cell_type": "code",
   "execution_count": 15,
   "id": "b0474bd4",
   "metadata": {},
   "outputs": [
    {
     "name": "stdout",
     "output_type": "stream",
     "text": [
      "['asd', 'dfg', 'fgh']\n"
     ]
    }
   ],
   "source": [
    "l4=['asd','dfg','fgh']\n",
    "print(l4)"
   ]
  },
  {
   "cell_type": "code",
   "execution_count": 17,
   "id": "ad0335c2",
   "metadata": {},
   "outputs": [
    {
     "name": "stdout",
     "output_type": "stream",
     "text": [
      "kingisher\n",
      "kingisher\n"
     ]
    }
   ],
   "source": [
    "birds=['cuckoo','crow','parrout','eagle','kingisher']\n",
    "print(birds[4])\n",
    "print(birds[-1])"
   ]
  },
  {
   "cell_type": "code",
   "execution_count": 19,
   "id": "512e48ce",
   "metadata": {},
   "outputs": [
    {
     "name": "stdout",
     "output_type": "stream",
     "text": [
      "['crow', 'parrout', 'eagle']\n",
      "['parrout', 'eagle']\n",
      "['cuckoo', 'crow', 'parrout']\n",
      "['parrout', 'eagle', 'kingisher']\n",
      "['cuckoo', 'crow', 'parrout', 'eagle', 'kingisher']\n"
     ]
    }
   ],
   "source": [
    "birds=['cuckoo','crow','parrout','eagle','kingisher']\n",
    "print(birds[1:4])\n",
    "print(birds[2:4])\n",
    "print(birds[:3])\n",
    "print(birds[2:])\n",
    "print(birds[:])"
   ]
  },
  {
   "cell_type": "code",
   "execution_count": 22,
   "id": "a9dbeea7",
   "metadata": {},
   "outputs": [
    {
     "name": "stdout",
     "output_type": "stream",
     "text": [
      "[1, 2, 3, 4, 5, 6]\n"
     ]
    }
   ],
   "source": [
    "a=[1,2,3]\n",
    "b=[4,5,6]\n",
    "print(a+b)"
   ]
  },
  {
   "cell_type": "code",
   "execution_count": 23,
   "id": "8e4b1f88",
   "metadata": {},
   "outputs": [
    {
     "data": {
      "text/plain": [
       "[1, 2, 3, 1, 2, 3, 1, 2, 3]"
      ]
     },
     "execution_count": 23,
     "metadata": {},
     "output_type": "execute_result"
    }
   ],
   "source": [
    "a=[1,2,3]\n",
    "a*3"
   ]
  },
  {
   "cell_type": "code",
   "execution_count": 24,
   "id": "eed2c8aa",
   "metadata": {},
   "outputs": [
    {
     "data": {
      "text/plain": [
       "True"
      ]
     },
     "execution_count": 24,
     "metadata": {},
     "output_type": "execute_result"
    }
   ],
   "source": [
    "a=['a','b','c','d']\n",
    "'c' in a"
   ]
  },
  {
   "cell_type": "code",
   "execution_count": 25,
   "id": "b0bb421f",
   "metadata": {},
   "outputs": [
    {
     "data": {
      "text/plain": [
       "False"
      ]
     },
     "execution_count": 25,
     "metadata": {},
     "output_type": "execute_result"
    }
   ],
   "source": [
    "a=['a','b','c','d']\n",
    "'c'not in a"
   ]
  },
  {
   "cell_type": "code",
   "execution_count": 27,
   "id": "851177f3",
   "metadata": {},
   "outputs": [
    {
     "name": "stdout",
     "output_type": "stream",
     "text": [
      "[10, 20, 30, 40]\n"
     ]
    }
   ],
   "source": [
    "t1=[10,20,30]\n",
    "t1.append(40)\n",
    "print(t1)"
   ]
  },
  {
   "cell_type": "code",
   "execution_count": 29,
   "id": "7b25537e",
   "metadata": {},
   "outputs": [
    {
     "name": "stdout",
     "output_type": "stream",
     "text": [
      "[10]\n"
     ]
    }
   ],
   "source": [
    "empty=[]\n",
    "empty.append(10)\n",
    "print(empty)"
   ]
  },
  {
   "cell_type": "code",
   "execution_count": 34,
   "id": "2cde022b",
   "metadata": {},
   "outputs": [
    {
     "name": "stdout",
     "output_type": "stream",
     "text": [
      "[10, 20, 30, 40, 50]\n"
     ]
    }
   ],
   "source": [
    "t1=[10,20,30]\n",
    "t2=[40,50]\n",
    "t1.extend(t2)\n",
    "print(t1)"
   ]
  },
  {
   "cell_type": "code",
   "execution_count": 35,
   "id": "cdf5465d",
   "metadata": {},
   "outputs": [
    {
     "name": "stdout",
     "output_type": "stream",
     "text": [
      "[10, 15, 20, 30]\n"
     ]
    }
   ],
   "source": [
    "t1=[10,20,30]\n",
    "t1.insert(1,15)\n",
    "print(t1)\n"
   ]
  },
  {
   "cell_type": "code",
   "execution_count": 36,
   "id": "e00fa211",
   "metadata": {},
   "outputs": [
    {
     "name": "stdout",
     "output_type": "stream",
     "text": [
      "[1, 2, 3, 5, 6]\n"
     ]
    }
   ],
   "source": [
    "a=[1,2,3,4,5,6]\n",
    "a.remove(4)\n",
    "print(a)"
   ]
  },
  {
   "cell_type": "code",
   "execution_count": 41,
   "id": "c706a5e4",
   "metadata": {},
   "outputs": [
    {
     "name": "stdout",
     "output_type": "stream",
     "text": [
      "[2, 3, 4, 5, 6]\n"
     ]
    }
   ],
   "source": [
    "a=[1,2,3,4,5,6]\n",
    "a.pop(0)\n",
    "print(a)"
   ]
  },
  {
   "cell_type": "code",
   "execution_count": 38,
   "id": "c646d4f1",
   "metadata": {},
   "outputs": [
    {
     "name": "stdout",
     "output_type": "stream",
     "text": [
      "[]\n"
     ]
    }
   ],
   "source": [
    "a=[1,2,3,4,5,6]\n",
    "a.clear()\n",
    "print(a)"
   ]
  },
  {
   "cell_type": "code",
   "execution_count": 42,
   "id": "3ed8bc8f",
   "metadata": {},
   "outputs": [
    {
     "name": "stdout",
     "output_type": "stream",
     "text": [
      "[1, 2, 4, 5, 6]\n"
     ]
    }
   ],
   "source": [
    "a=[1,2,3,4,5,6]\n",
    "del a[2]\n",
    "print(a)"
   ]
  },
  {
   "cell_type": "code",
   "execution_count": 43,
   "id": "49efdca1",
   "metadata": {},
   "outputs": [
    {
     "name": "stdout",
     "output_type": "stream",
     "text": [
      "[1, 2, 3, 6]\n"
     ]
    }
   ],
   "source": [
    "a=[1,2,3,4,5,6]\n",
    "del a[3:5]\n",
    "print(a)"
   ]
  },
  {
   "cell_type": "code",
   "execution_count": 46,
   "id": "d0d3bf75",
   "metadata": {},
   "outputs": [
    {
     "name": "stdout",
     "output_type": "stream",
     "text": [
      "[]\n"
     ]
    }
   ],
   "source": [
    "a=[1,2,3,4,5,6]\n",
    "del a[:]\n",
    "print(a)"
   ]
  },
  {
   "cell_type": "code",
   "execution_count": 48,
   "id": "622e3abf",
   "metadata": {},
   "outputs": [
    {
     "name": "stdout",
     "output_type": "stream",
     "text": [
      "[]\n"
     ]
    }
   ],
   "source": [
    "a=[1,2,3,4,5,6]\n",
    "a[:]=[]\n",
    "print(a)"
   ]
  },
  {
   "cell_type": "code",
   "execution_count": 47,
   "id": "4abb6391",
   "metadata": {},
   "outputs": [
    {
     "ename": "NameError",
     "evalue": "name 'a' is not defined",
     "output_type": "error",
     "traceback": [
      "\u001b[1;31m---------------------------------------------------------------------------\u001b[0m",
      "\u001b[1;31mNameError\u001b[0m                                 Traceback (most recent call last)",
      "Input \u001b[1;32mIn [47]\u001b[0m, in \u001b[0;36m<cell line: 3>\u001b[1;34m()\u001b[0m\n\u001b[0;32m      1\u001b[0m a\u001b[38;5;241m=\u001b[39m[\u001b[38;5;241m1\u001b[39m,\u001b[38;5;241m2\u001b[39m,\u001b[38;5;241m3\u001b[39m,\u001b[38;5;241m4\u001b[39m,\u001b[38;5;241m5\u001b[39m,\u001b[38;5;241m6\u001b[39m]\n\u001b[0;32m      2\u001b[0m \u001b[38;5;28;01mdel\u001b[39;00m a\n\u001b[1;32m----> 3\u001b[0m \u001b[38;5;28mprint\u001b[39m(\u001b[43ma\u001b[49m)\n",
      "\u001b[1;31mNameError\u001b[0m: name 'a' is not defined"
     ]
    }
   ],
   "source": [
    "a=[1,2,3,4,5,6]\n",
    "del a\n",
    "print(a)"
   ]
  },
  {
   "cell_type": "code",
   "execution_count": 5,
   "id": "0f8e3333",
   "metadata": {},
   "outputs": [
    {
     "name": "stdout",
     "output_type": "stream",
     "text": [
      "[6, 5, 4, 3, 1]\n"
     ]
    }
   ],
   "source": [
    "d=[1,3,4,5,6]\n",
    "d.sort(reverse=True)\n",
    "print(d)\n"
   ]
  },
  {
   "cell_type": "code",
   "execution_count": 11,
   "id": "9a375a6f",
   "metadata": {},
   "outputs": [
    {
     "name": "stdout",
     "output_type": "stream",
     "text": [
      "[1, 2, 3, 4, 5]\n"
     ]
    }
   ],
   "source": [
    "d=[1,2,3,4,5]\n",
    "sorted(d,reverse=True)\n",
    "print(d)"
   ]
  },
  {
   "cell_type": "code",
   "execution_count": 12,
   "id": "d5656b83",
   "metadata": {},
   "outputs": [
    {
     "name": "stdout",
     "output_type": "stream",
     "text": [
      "[5, 4, 3, 2, 1]\n"
     ]
    }
   ],
   "source": [
    "d=[1,2,3,4,5]\n",
    "d.reverse()\n",
    "print(d)"
   ]
  },
  {
   "cell_type": "code",
   "execution_count": 17,
   "id": "06a03eab",
   "metadata": {},
   "outputs": [
    {
     "name": "stdout",
     "output_type": "stream",
     "text": [
      "2\n"
     ]
    }
   ],
   "source": [
    "l1=list('apple')\n",
    "print(l1.count('p'))\n"
   ]
  },
  {
   "cell_type": "code",
   "execution_count": 18,
   "id": "6a745a5e",
   "metadata": {},
   "outputs": [
    {
     "name": "stdout",
     "output_type": "stream",
     "text": [
      "5\n"
     ]
    }
   ],
   "source": [
    "l1=list('apple')\n",
    "print(len(l1))"
   ]
  },
  {
   "cell_type": "code",
   "execution_count": 19,
   "id": "9fc2b75a",
   "metadata": {},
   "outputs": [
    {
     "name": "stdout",
     "output_type": "stream",
     "text": [
      "p\n"
     ]
    }
   ],
   "source": [
    "l1=list('apple')\n",
    "print(max(l1))"
   ]
  },
  {
   "cell_type": "code",
   "execution_count": 20,
   "id": "1068d81c",
   "metadata": {},
   "outputs": [
    {
     "name": "stdout",
     "output_type": "stream",
     "text": [
      "a\n"
     ]
    }
   ],
   "source": [
    "l1=list('apple')\n",
    "print(min(l1))"
   ]
  },
  {
   "cell_type": "code",
   "execution_count": 21,
   "id": "b4d858d3",
   "metadata": {},
   "outputs": [
    {
     "name": "stdout",
     "output_type": "stream",
     "text": [
      "15\n"
     ]
    }
   ],
   "source": [
    "s=[1,2,3,4,5]\n",
    "print(sum(s))"
   ]
  },
  {
   "cell_type": "code",
   "execution_count": 25,
   "id": "1d3c3b7f",
   "metadata": {},
   "outputs": [
    {
     "name": "stdout",
     "output_type": "stream",
     "text": [
      "enter the string 5 55 554 \n"
     ]
    },
    {
     "data": {
      "text/plain": [
       "[5, 55, 554]"
      ]
     },
     "execution_count": 25,
     "metadata": {},
     "output_type": "execute_result"
    }
   ],
   "source": [
    "str1=input('enter the string ')\n",
    "list(map(int,str1.split()))"
   ]
  },
  {
   "cell_type": "code",
   "execution_count": 30,
   "id": "c6d8d3c3",
   "metadata": {},
   "outputs": [
    {
     "name": "stdout",
     "output_type": "stream",
     "text": [
      "1\n",
      "2\n",
      "5\n",
      "55\n",
      "6\n",
      "33\n"
     ]
    }
   ],
   "source": [
    "l1=[1,2,5,55,6,33]\n",
    "for i in l1:\n",
    "    print(i)"
   ]
  },
  {
   "cell_type": "code",
   "execution_count": 32,
   "id": "48ca94f8",
   "metadata": {},
   "outputs": [
    {
     "data": {
      "text/plain": [
       "True"
      ]
     },
     "execution_count": 32,
     "metadata": {},
     "output_type": "execute_result"
    }
   ],
   "source": [
    "a=[1,2,3,4,5]\n",
    "b=a\n",
    "a is b"
   ]
  },
  {
   "cell_type": "code",
   "execution_count": 33,
   "id": "bdb277f8",
   "metadata": {},
   "outputs": [
    {
     "data": {
      "text/plain": [
       "True"
      ]
     },
     "execution_count": 33,
     "metadata": {},
     "output_type": "execute_result"
    }
   ],
   "source": [
    "a=[1,2,3,4,5]\n",
    "b=a\n",
    "a==b"
   ]
  },
  {
   "cell_type": "code",
   "execution_count": 34,
   "id": "5e30e24b",
   "metadata": {},
   "outputs": [
    {
     "data": {
      "text/plain": [
       "False"
      ]
     },
     "execution_count": 34,
     "metadata": {},
     "output_type": "execute_result"
    }
   ],
   "source": [
    "a=[1,2,3,4,5]\n",
    "b=a\n",
    "a is not b"
   ]
  },
  {
   "cell_type": "code",
   "execution_count": 35,
   "id": "0fe68187",
   "metadata": {},
   "outputs": [
    {
     "data": {
      "text/plain": [
       "True"
      ]
     },
     "execution_count": 35,
     "metadata": {},
     "output_type": "execute_result"
    }
   ],
   "source": [
    "a=[1,2,3,4,5]\n",
    "a is not b"
   ]
  },
  {
   "cell_type": "code",
   "execution_count": 36,
   "id": "df8b57e4",
   "metadata": {},
   "outputs": [
    {
     "name": "stdout",
     "output_type": "stream",
     "text": [
      "[2, 3, 4, 5, 6, 6, 7, 7, 8, 8]\n"
     ]
    }
   ],
   "source": [
    "def del_hed(t):\n",
    "    del t[0]\n",
    "    print(t)\n",
    "\n",
    "\n",
    "l1=[1,2,3,4,5,6,6,7,7,8,8]\n",
    "del_hed(l1)"
   ]
  },
  {
   "cell_type": "code",
   "execution_count": 3,
   "id": "f99e21b5",
   "metadata": {},
   "outputs": [
    {
     "name": "stdout",
     "output_type": "stream",
     "text": [
      "enter the name google\n",
      "g 2\n",
      "o 2\n",
      "o 2\n",
      "g 2\n",
      "l 1\n",
      "e 1\n"
     ]
    }
   ],
   "source": [
    "name=input('enter the name ')\n",
    "for i in name:\n",
    "    print(i,name.count(i))"
   ]
  },
  {
   "cell_type": "code",
   "execution_count": null,
   "id": "e6c02414",
   "metadata": {},
   "outputs": [],
   "source": []
  },
  {
   "cell_type": "code",
   "execution_count": 46,
   "id": "1b310dbb",
   "metadata": {},
   "outputs": [
    {
     "ename": "TypeError",
     "evalue": "'list' object is not callable",
     "output_type": "error",
     "traceback": [
      "\u001b[1;31m---------------------------------------------------------------------------\u001b[0m",
      "\u001b[1;31mTypeError\u001b[0m                                 Traceback (most recent call last)",
      "Input \u001b[1;32mIn [46]\u001b[0m, in \u001b[0;36m<cell line: 2>\u001b[1;34m()\u001b[0m\n\u001b[0;32m      1\u001b[0m str1\u001b[38;5;241m=\u001b[39m\u001b[38;5;124m'\u001b[39m\u001b[38;5;124mpython\u001b[39m\u001b[38;5;124m'\u001b[39m\n\u001b[1;32m----> 2\u001b[0m \u001b[38;5;28mprint\u001b[39m(\u001b[38;5;28;43mlist\u001b[39;49m\u001b[43m(\u001b[49m\u001b[38;5;28;43mmap\u001b[39;49m\u001b[43m(\u001b[49m\u001b[43m[\u001b[49m\u001b[43m]\u001b[49m\u001b[43m,\u001b[49m\u001b[43mstr1\u001b[49m\u001b[43m)\u001b[49m\u001b[43m)\u001b[49m)\n",
      "\u001b[1;31mTypeError\u001b[0m: 'list' object is not callable"
     ]
    }
   ],
   "source": [
    "str1='python'\n",
    "print(list(map([],str1)))"
   ]
  },
  {
   "cell_type": "code",
   "execution_count": 49,
   "id": "4a02db4b",
   "metadata": {},
   "outputs": [
    {
     "name": "stdout",
     "output_type": "stream",
     "text": [
      "enter the name amaljith\n",
      "{'a': 2, 'm': 1, 'l': 1, 'j': 1, 'i': 1, 't': 1, 'h': 1}\n"
     ]
    }
   ],
   "source": [
    "name=input('enter the name ')\n",
    "dict={}\n",
    "for i in name:\n",
    "    dict[i]=name.count(i)\n",
    "print(dict)\n"
   ]
  },
  {
   "cell_type": "code",
   "execution_count": 58,
   "id": "9115122d",
   "metadata": {},
   "outputs": [
    {
     "name": "stdout",
     "output_type": "stream",
     "text": [
      "enter the name amljith\n",
      "{'a': 1, 'm': 1, 'l': 1, 'j': 1, 'i': 1, 't': 1, 'h': 1}\n"
     ]
    }
   ],
   "source": [
    "name=input('enter the name ')\n",
    "d={}\n",
    "for i in name:\n",
    "    d[i]=name.count(i)\n",
    "print(d)"
   ]
  },
  {
   "cell_type": "code",
   "execution_count": 63,
   "id": "d3a7f24d",
   "metadata": {},
   "outputs": [
    {
     "name": "stdout",
     "output_type": "stream",
     "text": [
      "enter the name amaljith\n",
      "{'t': 1, 'a': 2, 'm': 1, 'l': 1, 'h': 1, 'i': 1, 'j': 1}\n"
     ]
    }
   ],
   "source": [
    "name=input('enter the name ')\n",
    "my_counter={c: name.count(c) for c in set(name)}\n",
    "print(my_counter)"
   ]
  },
  {
   "cell_type": "code",
   "execution_count": 4,
   "id": "c15e2023",
   "metadata": {},
   "outputs": [
    {
     "name": "stdout",
     "output_type": "stream",
     "text": [
      "Snowball the Cat is 1\n",
      "Chewy the Dog is 2\n",
      "Bubbles the Fish is 2\n",
      "Gruff the Goat is 6\n"
     ]
    }
   ],
   "source": [
    "name = ['Snowball', 'Chewy', 'Bubbles', 'Gruff']\n",
    "animal = ['Cat', 'Dog', 'Fish', 'Goat']\n",
    "age = [1, 2, 2, 6]\n",
    "z = zip(name, animal, age)\n",
    "z #=> <zip at 0x111081e48>\n",
    "for name,animal,age in z:\n",
    "    print(\"%s the %s is %s\" % (name, animal, age))"
   ]
  },
  {
   "cell_type": "code",
   "execution_count": 6,
   "id": "99d580c4",
   "metadata": {},
   "outputs": [
    {
     "name": "stdout",
     "output_type": "stream",
     "text": [
      "prize is  190\n"
     ]
    }
   ],
   "source": [
    "val=[23,44,56,67]\n",
    "print('prize is ',sum(val))"
   ]
  },
  {
   "cell_type": "code",
   "execution_count": 7,
   "id": "ffb8261f",
   "metadata": {},
   "outputs": [
    {
     "name": "stdout",
     "output_type": "stream",
     "text": [
      "49680\n"
     ]
    }
   ],
   "source": [
    "val=[12,23,36,5]\n",
    "mul=1\n",
    "for i in val:\n",
    "    mul=i*mul\n",
    "print(mul)"
   ]
  },
  {
   "cell_type": "code",
   "execution_count": 10,
   "id": "94e82a15",
   "metadata": {},
   "outputs": [
    {
     "name": "stdout",
     "output_type": "stream",
     "text": [
      "452\n"
     ]
    }
   ],
   "source": [
    "val=[20,30,55,88,96,452]\n",
    "print(max(val))"
   ]
  },
  {
   "cell_type": "code",
   "execution_count": 11,
   "id": "29b714c8",
   "metadata": {},
   "outputs": [
    {
     "name": "stdout",
     "output_type": "stream",
     "text": [
      "20\n"
     ]
    }
   ],
   "source": [
    "val=[20,30,88,96,452]\n",
    "print(min(val))"
   ]
  },
  {
   "cell_type": "code",
   "execution_count": 18,
   "id": "451bb76d",
   "metadata": {},
   "outputs": [
    {
     "ename": "TypeError",
     "evalue": "'builtin_function_or_method' object is not subscriptable",
     "output_type": "error",
     "traceback": [
      "\u001b[1;31m---------------------------------------------------------------------------\u001b[0m",
      "\u001b[1;31mTypeError\u001b[0m                                 Traceback (most recent call last)",
      "Input \u001b[1;32mIn [18]\u001b[0m, in \u001b[0;36m<cell line: 3>\u001b[1;34m()\u001b[0m\n\u001b[0;32m      2\u001b[0m c\u001b[38;5;241m=\u001b[39m\u001b[38;5;241m0\u001b[39m\n\u001b[0;32m      3\u001b[0m \u001b[38;5;28;01mfor\u001b[39;00m i \u001b[38;5;129;01min\u001b[39;00m sample:\n\u001b[1;32m----> 4\u001b[0m     \u001b[38;5;28;01mif\u001b[39;00m \u001b[38;5;28;43mlen\u001b[39;49m\u001b[43m[\u001b[49m\u001b[43mi\u001b[49m\u001b[43m]\u001b[49m\u001b[38;5;241m>\u001b[39m\u001b[38;5;241m2\u001b[39m \u001b[38;5;129;01mand\u001b[39;00m i[\u001b[38;5;241m0\u001b[39m]\u001b[38;5;241m==\u001b[39mi[\u001b[38;5;241m-\u001b[39m\u001b[38;5;241m1\u001b[39m]:\n\u001b[0;32m      5\u001b[0m         \u001b[38;5;28mprint\u001b[39m(i)\n",
      "\u001b[1;31mTypeError\u001b[0m: 'builtin_function_or_method' object is not subscriptable"
     ]
    }
   ],
   "source": [
    "sample=['abc','xyz','aba',1233]\n",
    "c=0\n",
    "for i in sample:\n",
    "    if len(i)>2 and i[0]==i[-1]:\n",
    "        print(i)\n",
    "        "
   ]
  },
  {
   "cell_type": "code",
   "execution_count": 22,
   "id": "d808c8a7",
   "metadata": {},
   "outputs": [
    {
     "ename": "AttributeError",
     "evalue": "'list' object has no attribute 'split'",
     "output_type": "error",
     "traceback": [
      "\u001b[1;31m---------------------------------------------------------------------------\u001b[0m",
      "\u001b[1;31mAttributeError\u001b[0m                            Traceback (most recent call last)",
      "Input \u001b[1;32mIn [22]\u001b[0m, in \u001b[0;36m<cell line: 2>\u001b[1;34m()\u001b[0m\n\u001b[0;32m      1\u001b[0m sam\u001b[38;5;241m=\u001b[39m [(\u001b[38;5;241m2\u001b[39m, \u001b[38;5;241m5\u001b[39m), (\u001b[38;5;241m1\u001b[39m, \u001b[38;5;241m2\u001b[39m), (\u001b[38;5;241m4\u001b[39m, \u001b[38;5;241m4\u001b[39m), (\u001b[38;5;241m2\u001b[39m, \u001b[38;5;241m3\u001b[39m), (\u001b[38;5;241m2\u001b[39m, \u001b[38;5;241m1\u001b[39m)]\n\u001b[1;32m----> 2\u001b[0m d\u001b[38;5;241m=\u001b[39m\u001b[43msam\u001b[49m\u001b[38;5;241;43m.\u001b[39;49m\u001b[43msplit\u001b[49m()\n",
      "\u001b[1;31mAttributeError\u001b[0m: 'list' object has no attribute 'split'"
     ]
    }
   ],
   "source": [
    "sam= [(2, 5), (1, 2), (4, 4), (2, 3), (2, 1)]\n"
   ]
  },
  {
   "cell_type": "code",
   "execution_count": 26,
   "id": "92c2c9f9",
   "metadata": {},
   "outputs": [],
   "source": [
    "dp=[10,20,30,20,80,10,30,40]\n",
    "c=0\n",
    "for i in dp:\n",
    "    if i==dp.count(dp):\n",
    "        print(i)"
   ]
  },
  {
   "cell_type": "code",
   "execution_count": 29,
   "id": "c0ff8000",
   "metadata": {},
   "outputs": [
    {
     "name": "stdout",
     "output_type": "stream",
     "text": [
      "[10, 20, 30, 50, 60, 40, 80]\n"
     ]
    }
   ],
   "source": [
    "a = [10,20,30,20,10,50,60,40,80,50,40]\n",
    "c = []\n",
    "for i in a:\n",
    "    if i not in c:\n",
    "        c.append(i)\n",
    "print(c)"
   ]
  },
  {
   "cell_type": "code",
   "execution_count": 31,
   "id": "2bca7dcc",
   "metadata": {},
   "outputs": [
    {
     "name": "stdout",
     "output_type": "stream",
     "text": [
      "[10, 20, 30, 80, 40]\n"
     ]
    }
   ],
   "source": [
    "dp=[10,20,30,20,80,10,30,40]\n",
    "f=[]\n",
    "for i in dp:\n",
    "    if i not in f:\n",
    "        f.append(i)\n",
    "print(f)"
   ]
  }
 ],
 "metadata": {
  "kernelspec": {
   "display_name": "Python 3 (ipykernel)",
   "language": "python",
   "name": "python3"
  },
  "language_info": {
   "codemirror_mode": {
    "name": "ipython",
    "version": 3
   },
   "file_extension": ".py",
   "mimetype": "text/x-python",
   "name": "python",
   "nbconvert_exporter": "python",
   "pygments_lexer": "ipython3",
   "version": "3.10.3"
  }
 },
 "nbformat": 4,
 "nbformat_minor": 5
}
