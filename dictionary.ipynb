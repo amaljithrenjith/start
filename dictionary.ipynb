{
 "cells": [
  {
   "cell_type": "code",
   "execution_count": 4,
   "id": "da5784b9",
   "metadata": {},
   "outputs": [
    {
     "name": "stdout",
     "output_type": "stream",
     "text": [
      "{}\n"
     ]
    }
   ],
   "source": [
    "d1=dict()\n",
    "print(d1)"
   ]
  },
  {
   "cell_type": "code",
   "execution_count": 6,
   "id": "0a707470",
   "metadata": {},
   "outputs": [
    {
     "name": "stdout",
     "output_type": "stream",
     "text": [
      "{'name': 'arun', 'age': 35, 'salary': 1000}\n"
     ]
    }
   ],
   "source": [
    "d2={}\n",
    "d2['name']='arun'\n",
    "d2['age']=35\n",
    "d2['salary']=1000\n",
    "print(d2)"
   ]
  },
  {
   "cell_type": "code",
   "execution_count": 11,
   "id": "c96309bc",
   "metadata": {},
   "outputs": [
    {
     "name": "stdout",
     "output_type": "stream",
     "text": [
      "35\n"
     ]
    },
    {
     "data": {
      "text/plain": [
       "'arun'"
      ]
     },
     "execution_count": 11,
     "metadata": {},
     "output_type": "execute_result"
    }
   ],
   "source": [
    "d2={}\n",
    "d2['name']='arun'\n",
    "d2['age']=35\n",
    "d2['salary']=1000\n",
    "print(d2['age'])\n",
    "d2['name']"
   ]
  },
  {
   "cell_type": "code",
   "execution_count": 12,
   "id": "b37e3ef7",
   "metadata": {},
   "outputs": [
    {
     "name": "stdout",
     "output_type": "stream",
     "text": [
      "arun\n"
     ]
    }
   ],
   "source": [
    "d2={}\n",
    "d2['name']='arun'\n",
    "d2['age']=35\n",
    "d2['salary']=1000\n",
    "print(d2.get('name'))"
   ]
  },
  {
   "cell_type": "code",
   "execution_count": 13,
   "id": "8e833909",
   "metadata": {},
   "outputs": [
    {
     "name": "stdout",
     "output_type": "stream",
     "text": [
      "name\n",
      "age\n",
      "salary\n"
     ]
    }
   ],
   "source": [
    "d2={}\n",
    "d2['name']='arun'\n",
    "d2['age']=35\n",
    "d2['salary']=1000\n",
    "for i in d2:\n",
    "    print(i)"
   ]
  },
  {
   "cell_type": "code",
   "execution_count": 14,
   "id": "dea4e062",
   "metadata": {},
   "outputs": [
    {
     "name": "stdout",
     "output_type": "stream",
     "text": [
      "arun\n",
      "35\n",
      "1000\n"
     ]
    }
   ],
   "source": [
    "d2={}\n",
    "d2['name']='arun'\n",
    "d2['age']=35\n",
    "d2['salary']=1000\n",
    "for i in d2:\n",
    "    print(d2[i])"
   ]
  },
  {
   "cell_type": "code",
   "execution_count": 15,
   "id": "aa5667be",
   "metadata": {},
   "outputs": [
    {
     "name": "stdout",
     "output_type": "stream",
     "text": [
      "{'name': 'arun', 'age': 35, 'salary': 1000}\n",
      "{'name': 'arun', 'age': 35, 'salary': 1000, 'height': 250}\n"
     ]
    }
   ],
   "source": [
    "d2={}\n",
    "d2['name']='arun'\n",
    "d2['age']=35\n",
    "d2['salary']=1000\n",
    "print(d2)\n",
    "d2['height']=250\n",
    "print(d2)"
   ]
  },
  {
   "cell_type": "code",
   "execution_count": 16,
   "id": "5e56596f",
   "metadata": {},
   "outputs": [
    {
     "name": "stdout",
     "output_type": "stream",
     "text": [
      "{'name': 'arun', 'age': 35, 'salary': 1000}\n",
      "{'name': 'arun', 'age': 35, 'salary': 1000, 'height': 250}\n",
      "{'name': 'arun', 'age': 35, 'salary': 1000, 'height': 400}\n"
     ]
    }
   ],
   "source": [
    "d2={}\n",
    "d2['name']='arun'\n",
    "d2['age']=35\n",
    "d2['salary']=1000\n",
    "print(d2)\n",
    "d2['height']=250\n",
    "print(d2)\n",
    "d2['height']=400\n",
    "print(d2)"
   ]
  },
  {
   "cell_type": "code",
   "execution_count": 17,
   "id": "50808fa8",
   "metadata": {},
   "outputs": [
    {
     "name": "stdout",
     "output_type": "stream",
     "text": [
      "{'name': 'arun', 'age': 35, 'salary': 1000, 'height': 250}\n",
      "{'name': 'arun', 'age': 35, 'salary': 1000}\n"
     ]
    }
   ],
   "source": [
    "d2={}\n",
    "d2['name']='arun'\n",
    "d2['age']=35\n",
    "d2['salary']=1000\n",
    "d2['height']=250\n",
    "print(d2)\n",
    "d2.pop('height')\n",
    "print(d2)"
   ]
  },
  {
   "cell_type": "code",
   "execution_count": 21,
   "id": "6b11a5e6",
   "metadata": {},
   "outputs": [
    {
     "name": "stdout",
     "output_type": "stream",
     "text": [
      "{'name': 'arun', 'age': 35, 'salary': 1000}\n",
      "{'name': 'arun', 'age': 35, 'salary': 1000, 'height': 250}\n",
      "{'name': 'arun', 'age': 35, 'salary': 1000, 'height': 400}\n",
      "{'name': 'arun', 'age': 35, 'salary': 1000}\n"
     ]
    }
   ],
   "source": [
    "d2={}\n",
    "d2['name']='arun'\n",
    "d2['age']=35\n",
    "d2['salary']=1000\n",
    "print(d2)\n",
    "d2['height']=250\n",
    "print(d2)\n",
    "d2['height']=400\n",
    "print(d2)\n",
    "d2.popitem()\n",
    "print(d2)"
   ]
  },
  {
   "cell_type": "code",
   "execution_count": 22,
   "id": "873851ca",
   "metadata": {},
   "outputs": [
    {
     "name": "stdout",
     "output_type": "stream",
     "text": [
      "{'name': 'arun', 'age': 35, 'salary': 1000}\n",
      "{'name': 'arun', 'age': 35, 'salary': 1000, 'height': 250}\n",
      "{'name': 'arun', 'age': 35, 'salary': 1000, 'height': 400}\n",
      "{'name': 'arun', 'age': 35, 'height': 400}\n"
     ]
    }
   ],
   "source": [
    "d2={}\n",
    "d2['name']='arun'\n",
    "d2['age']=35\n",
    "d2['salary']=1000\n",
    "print(d2)\n",
    "d2['height']=250\n",
    "print(d2)\n",
    "d2['height']=400\n",
    "print(d2)\n",
    "del d2['salary']\n",
    "print(d2)"
   ]
  },
  {
   "cell_type": "code",
   "execution_count": 3,
   "id": "88420ad5",
   "metadata": {},
   "outputs": [
    {
     "name": "stdout",
     "output_type": "stream",
     "text": [
      "{'name': 'arun', 'age': 35, 'salary': 1000}\n",
      "{'name': 'arun', 'age': 35, 'salary': 1000, 'height': 250}\n",
      "35\n",
      "{'name': 'arun', 'age': 35, 'salary': 1000, 'height': 400}\n",
      "{}\n"
     ]
    }
   ],
   "source": [
    "d2={}\n",
    "d2['name']='arun'\n",
    "d2['age']=35\n",
    "d2['salary']=1000\n",
    "print(d2)\n",
    "d2['height']=250\n",
    "print(d2)\n",
    "print(d2['age'])\n",
    "d2['height']=400\n",
    "print(d2)\n",
    "d2.clear()\n",
    "print(d2)"
   ]
  },
  {
   "cell_type": "code",
   "execution_count": 24,
   "id": "b99d3457",
   "metadata": {},
   "outputs": [
    {
     "name": "stdout",
     "output_type": "stream",
     "text": [
      "{'name': 'arun', 'age': 35, 'salary': 1000}\n",
      "{'name': 'arun', 'age': 35, 'salary': 1000, 'height': 250}\n",
      "{'name': 'arun', 'age': 35, 'salary': 1000, 'height': 400}\n"
     ]
    },
    {
     "ename": "NameError",
     "evalue": "name 'd2' is not defined",
     "output_type": "error",
     "traceback": [
      "\u001b[1;31m---------------------------------------------------------------------------\u001b[0m",
      "\u001b[1;31mNameError\u001b[0m                                 Traceback (most recent call last)",
      "Input \u001b[1;32mIn [24]\u001b[0m, in \u001b[0;36m<cell line: 11>\u001b[1;34m()\u001b[0m\n\u001b[0;32m      9\u001b[0m \u001b[38;5;28mprint\u001b[39m(d2)\n\u001b[0;32m     10\u001b[0m \u001b[38;5;28;01mdel\u001b[39;00m d2\n\u001b[1;32m---> 11\u001b[0m \u001b[38;5;28mprint\u001b[39m(\u001b[43md2\u001b[49m)\n",
      "\u001b[1;31mNameError\u001b[0m: name 'd2' is not defined"
     ]
    }
   ],
   "source": [
    "d2={}\n",
    "d2['name']='arun'\n",
    "d2['age']=35\n",
    "d2['salary']=1000\n",
    "print(d2)\n",
    "d2['height']=250\n",
    "print(d2)\n",
    "d2['height']=400\n",
    "print(d2)\n",
    "del d2\n",
    "print(d2)"
   ]
  },
  {
   "cell_type": "code",
   "execution_count": 25,
   "id": "88b52528",
   "metadata": {},
   "outputs": [
    {
     "name": "stdout",
     "output_type": "stream",
     "text": [
      "{1: 'a', 2: 'b', 3: 'c', 4: 'd', 5: 's', 6: 'f', 7: 'h', 8: 'w'}\n"
     ]
    }
   ],
   "source": [
    "d1={1:'a',2:'b',3:'c',4:'d'}\n",
    "d2={5:'s',6:'f',7:'h',8:'w'}\n",
    "d1.update(d2)\n",
    "print(d1)"
   ]
  },
  {
   "cell_type": "code",
   "execution_count": 32,
   "id": "70f903b1",
   "metadata": {},
   "outputs": [
    {
     "name": "stdout",
     "output_type": "stream",
     "text": [
      "dict_items([(1, 'a'), (2, 'b'), (3, 'c'), (4, 'd')])\n"
     ]
    }
   ],
   "source": [
    "d1={1:'a',2:'b',3:'c',4:'d'}\n",
    "print(d1.items())\n"
   ]
  },
  {
   "cell_type": "code",
   "execution_count": 31,
   "id": "ec87a951",
   "metadata": {},
   "outputs": [
    {
     "name": "stdout",
     "output_type": "stream",
     "text": [
      "dict_keys([1, 2, 3, 4])\n"
     ]
    }
   ],
   "source": [
    "d1={1:'a',2:'b',3:'c',4:'d'}\n",
    "print(d1.keys())\n"
   ]
  },
  {
   "cell_type": "code",
   "execution_count": 33,
   "id": "60b9829f",
   "metadata": {},
   "outputs": [
    {
     "name": "stdout",
     "output_type": "stream",
     "text": [
      "dict_values(['a', 'b', 'c', 'd'])\n"
     ]
    }
   ],
   "source": [
    "d1={1:'a',2:'b',3:'c',4:'d'}\n",
    "print(d1.values())"
   ]
  },
  {
   "cell_type": "code",
   "execution_count": 36,
   "id": "06688069",
   "metadata": {},
   "outputs": [
    {
     "name": "stdout",
     "output_type": "stream",
     "text": [
      "d\n"
     ]
    }
   ],
   "source": [
    "d1={1:'a',2:'b',3:'c',4:'d'}\n",
    "print(d1.setdefault(4,'none'))"
   ]
  },
  {
   "cell_type": "code",
   "execution_count": 37,
   "id": "d40d96ec",
   "metadata": {},
   "outputs": [
    {
     "name": "stdout",
     "output_type": "stream",
     "text": [
      "none\n"
     ]
    }
   ],
   "source": [
    "d1={1:'a',2:'b',3:'c',4:'d'}\n",
    "print(d1.setdefault(7,'none'))"
   ]
  },
  {
   "cell_type": "code",
   "execution_count": 44,
   "id": "ca899d02",
   "metadata": {},
   "outputs": [
    {
     "name": "stdout",
     "output_type": "stream",
     "text": [
      "{1: 'a', 2: 'b', 3: 'c', 4: 'd'}\n",
      "{1: 'a', 2: 'b', 3: 'c', 4: 'd'}\n",
      "{1: 'w', 2: 'b', 3: 'c', 4: 'd'}\n"
     ]
    }
   ],
   "source": [
    "d1={1:'a',2:'b',3:'c',4:'d'}\n",
    "new_dict=d1.copy()\n",
    "print(new_dict)\n",
    "d1[1]='w'\n",
    "print(new_dict)\n",
    "print(d1)"
   ]
  },
  {
   "cell_type": "code",
   "execution_count": 45,
   "id": "58360fee",
   "metadata": {},
   "outputs": [
    {
     "name": "stdout",
     "output_type": "stream",
     "text": [
      "4\n"
     ]
    }
   ],
   "source": [
    "d1={1:'a',2:'b',3:'c',4:'d'}\n",
    "print(len(d1))"
   ]
  },
  {
   "cell_type": "code",
   "execution_count": 46,
   "id": "ed79cdbc",
   "metadata": {},
   "outputs": [
    {
     "name": "stdout",
     "output_type": "stream",
     "text": [
      "{10: 10, 20: 10, 30: 10, 40: 10}\n"
     ]
    }
   ],
   "source": [
    "key=[10,20,30,40]\n",
    "print(dict.fromkeys(key,10))"
   ]
  },
  {
   "cell_type": "code",
   "execution_count": 47,
   "id": "c7aa241b",
   "metadata": {},
   "outputs": [
    {
     "name": "stdout",
     "output_type": "stream",
     "text": [
      "{10: [1, 2, 3, 4], 20: [1, 2, 3, 4], 30: [1, 2, 3, 4], 40: [1, 2, 3, 4]}\n"
     ]
    }
   ],
   "source": [
    "key=[10,20,30,40]\n",
    "print(dict.fromkeys(key,[1,2,3,4]))"
   ]
  },
  {
   "cell_type": "code",
   "execution_count": 48,
   "id": "9487f129",
   "metadata": {},
   "outputs": [
    {
     "data": {
      "text/plain": [
       "True"
      ]
     },
     "execution_count": 48,
     "metadata": {},
     "output_type": "execute_result"
    }
   ],
   "source": [
    "d1={1:'a',2:'b',3:'c',4:'d',5:'e',6:'f'}\n",
    "3 in d1"
   ]
  },
  {
   "cell_type": "code",
   "execution_count": 49,
   "id": "3495728a",
   "metadata": {},
   "outputs": [
    {
     "data": {
      "text/plain": [
       "False"
      ]
     },
     "execution_count": 49,
     "metadata": {},
     "output_type": "execute_result"
    }
   ],
   "source": [
    "d1={1:'a',2:'b',3:'c',4:'d',5:'e',6:'f'}\n",
    "12 in d1"
   ]
  },
  {
   "cell_type": "code",
   "execution_count": 50,
   "id": "0dfbc0d9",
   "metadata": {},
   "outputs": [
    {
     "data": {
      "text/plain": [
       "False"
      ]
     },
     "execution_count": 50,
     "metadata": {},
     "output_type": "execute_result"
    }
   ],
   "source": [
    "d1={1:'a',2:'b',3:'c',4:'d',5:'e',6:'f'}\n",
    "'c' in d1"
   ]
  },
  {
   "cell_type": "code",
   "execution_count": 51,
   "id": "19424097",
   "metadata": {},
   "outputs": [
    {
     "data": {
      "text/plain": [
       "True"
      ]
     },
     "execution_count": 51,
     "metadata": {},
     "output_type": "execute_result"
    }
   ],
   "source": [
    "d1={1:'a',2:'b',3:'c',4:'d',5:'e',6:'f'}\n",
    "'c' in d1.values()"
   ]
  },
  {
   "cell_type": "code",
   "execution_count": 59,
   "id": "e02cd911",
   "metadata": {},
   "outputs": [
    {
     "name": "stdout",
     "output_type": "stream",
     "text": [
      "('ten', 10)\n",
      "('twenty', 20)\n",
      "('thirty', 30)\n"
     ]
    }
   ],
   "source": [
    "key=['ten','twenty','thirty']\n",
    "values=[10,20,30]\n",
    "result={}\n",
    "for i,j in zip(key,values):\n",
    "    result=i,j\n",
    "    print(result)\n"
   ]
  },
  {
   "cell_type": "code",
   "execution_count": 60,
   "id": "181a9f4b",
   "metadata": {},
   "outputs": [
    {
     "data": {
      "text/plain": [
       "{'ten': 10, 'twenty': 20, 'thirty': 30}"
      ]
     },
     "execution_count": 60,
     "metadata": {},
     "output_type": "execute_result"
    }
   ],
   "source": [
    "key=['ten','twenty','thirty']\n",
    "values=[10,20,30]\n",
    "dict(zip(key,values))\n"
   ]
  },
  {
   "cell_type": "code",
   "execution_count": 62,
   "id": "2d1f5071",
   "metadata": {},
   "outputs": [
    {
     "name": "stdout",
     "output_type": "stream",
     "text": [
      "{'ten': 10, 'twenty': 20, 'thirty': 30, 'forty': 40, 'fifty': 50}\n"
     ]
    }
   ],
   "source": [
    "d1={'ten':10,'twenty':20,'thirty':30}\n",
    "d2={'thirty':30,'forty':40,'fifty':50}\n",
    "d1.update(d2)\n",
    "print(d1)"
   ]
  },
  {
   "cell_type": "code",
   "execution_count": 2,
   "id": "046579f8",
   "metadata": {},
   "outputs": [
    {
     "name": "stdout",
     "output_type": "stream",
     "text": [
      "{'ten': 10, 'twenty': 20, 'thirty': 30, 'forty': 40, 'fifty': 50}\n"
     ]
    }
   ],
   "source": [
    "d1={'ten':10,'twenty':20,'thirty':30}\n",
    "d2={'thirty':30,'forty':40,'fifty':50}\n",
    "newdict={**d1,**d2}\n",
    "print(newdict)"
   ]
  },
  {
   "cell_type": "code",
   "execution_count": 4,
   "id": "e7c69380",
   "metadata": {},
   "outputs": [
    {
     "name": "stdout",
     "output_type": "stream",
     "text": [
      "{'rollno': {'name': 'abc', 'subject': {'physics': 30, 'history': 40}}}\n",
      "{'name': 'abc', 'subject': {'physics': 30, 'history': 40}}\n",
      "{'physics': 30, 'history': 40}\n",
      "40\n"
     ]
    }
   ],
   "source": [
    "stud={'dept':{'rollno':{'name':'abc','subject':{'physics':30,'history':40 }}}}\n",
    "print(stud['dept'])\n",
    "print(stud['dept']['rollno'])\n",
    "print(stud['dept']['rollno']['subject'])\n",
    "print(stud['dept']['rollno']['subject']['history'])\n"
   ]
  },
  {
   "cell_type": "code",
   "execution_count": 5,
   "id": "b1ad69d4",
   "metadata": {},
   "outputs": [
    {
     "name": "stdout",
     "output_type": "stream",
     "text": [
      "{'salary': 200, 'name': 'amal'}\n"
     ]
    }
   ],
   "source": [
    "emp={'name':'amal','age':23,'salary':200,'city':'tvm'}\n",
    "key={'name','salary'}\n",
    "emp1={i:emp[i] for i in key}\n",
    "print(emp1)\n"
   ]
  },
  {
   "cell_type": "code",
   "execution_count": 16,
   "id": "8e4a8f34",
   "metadata": {},
   "outputs": [
    {
     "name": "stdout",
     "output_type": "stream",
     "text": [
      "{'name': 'amal', 'age': 23, 'salary': 200, 'city': 'ekm'}\n"
     ]
    }
   ],
   "source": [
    "emp={'name':'amal','age':23,'salary':200,'city':'tvm'}\n",
    "emp['city']='ekm'\n",
    "print(emp)\n"
   ]
  },
  {
   "cell_type": "code",
   "execution_count": 6,
   "id": "e0f2648d",
   "metadata": {},
   "outputs": [
    {
     "name": "stdout",
     "output_type": "stream",
     "text": [
      "{'name': 'amal', 'age': 23, 'salary': 200, 'location': 'tvm'}\n"
     ]
    }
   ],
   "source": [
    "emp={'name':'amal','age':23,'salary':200,'city':'tvm'}\n",
    "emp['location']=emp.pop('city')\n",
    "print(emp)"
   ]
  },
  {
   "cell_type": "code",
   "execution_count": 7,
   "id": "636a997a",
   "metadata": {},
   "outputs": [
    {
     "name": "stdout",
     "output_type": "stream",
     "text": [
      "enter the number 5\n"
     ]
    },
    {
     "ename": "TypeError",
     "evalue": "'int' object is not iterable",
     "output_type": "error",
     "traceback": [
      "\u001b[1;31m---------------------------------------------------------------------------\u001b[0m",
      "\u001b[1;31mTypeError\u001b[0m                                 Traceback (most recent call last)",
      "Input \u001b[1;32mIn [7]\u001b[0m, in \u001b[0;36m<cell line: 8>\u001b[1;34m()\u001b[0m\n\u001b[0;32m      6\u001b[0m         num1\u001b[38;5;241m=\u001b[39mnum1\u001b[38;5;241m+\u001b[39mi\n\u001b[0;32m      7\u001b[0m         sqr\u001b[38;5;241m=\u001b[39msqr\u001b[38;5;241m+\u001b[39m(i\u001b[38;5;241m*\u001b[39mi)\n\u001b[1;32m----> 8\u001b[0m \u001b[38;5;28mprint\u001b[39m(\u001b[38;5;28mdict\u001b[39m(\u001b[38;5;28;43mzip\u001b[39;49m\u001b[43m(\u001b[49m\u001b[43mnum1\u001b[49m\u001b[43m,\u001b[49m\u001b[43msqr\u001b[49m\u001b[43m)\u001b[49m))\n",
      "\u001b[1;31mTypeError\u001b[0m: 'int' object is not iterable"
     ]
    }
   ],
   "source": [
    "num=int(input('enter the number '))\n",
    "num1=0\n",
    "sqr=0\n",
    "for i in range(1,num+1):\n",
    "    if i>0:\n",
    "        num1=num1+i\n",
    "        sqr=sqr+(i*i)\n",
    "print(dict(zip(num1,sqr)))"
   ]
  },
  {
   "cell_type": "code",
   "execution_count": 6,
   "id": "cf6fa6cc",
   "metadata": {},
   "outputs": [
    {
     "name": "stdout",
     "output_type": "stream",
     "text": [
      "enter the number 5\n",
      "{1: 1, 2: 4, 3: 9, 4: 16, 5: 25}\n"
     ]
    }
   ],
   "source": [
    "num=int(input('enter the number '))\n",
    "d=dict()\n",
    "for i in range(1,num+1):\n",
    "    d[i]=i*i\n",
    "print(d)"
   ]
  },
  {
   "cell_type": "code",
   "execution_count": 11,
   "id": "fc74edcc",
   "metadata": {},
   "outputs": [
    {
     "name": "stdout",
     "output_type": "stream",
     "text": [
      "{1: 1, 2: 4, 3: 9, 4: 16, 5: 25, 6: 36, 7: 49, 8: 64, 9: 81, 10: 100, 11: 121, 12: 144, 13: 169, 14: 196, 15: 225}\n"
     ]
    }
   ],
   "source": [
    "num={ i:i*i for i in range(1,16) }\n",
    "print(num)"
   ]
  },
  {
   "cell_type": "code",
   "execution_count": 14,
   "id": "9655abb0",
   "metadata": {},
   "outputs": [
    {
     "name": "stdout",
     "output_type": "stream",
     "text": [
      "666\n"
     ]
    }
   ],
   "source": [
    "nm={'x':200,'y':555,'r':666}\n",
    "print(max(nm.values()))"
   ]
  },
  {
   "cell_type": "code",
   "execution_count": 15,
   "id": "dc7ac8f2",
   "metadata": {},
   "outputs": [
    {
     "name": "stdout",
     "output_type": "stream",
     "text": [
      "r\n"
     ]
    }
   ],
   "source": [
    "nm={'x':200,'y':555,'r':666}\n",
    "print(min(nm.keys()))"
   ]
  },
  {
   "cell_type": "code",
   "execution_count": 11,
   "id": "7f74b6ae",
   "metadata": {},
   "outputs": [
    {
     "name": "stdout",
     "output_type": "stream",
     "text": [
      "{'emp1': {'name1': 'arun', 'salary1': 1000}, 'emp2': {'name2': 'abc', 'salary2': 2000}, 'emp3': {'name3': 'xyz', 'salary3': 5000}}\n"
     ]
    }
   ],
   "source": [
    "emp={'emp1':{'name1':'arun','salary1':1000},'emp2':{'name2':'abc','salary2':2000},'emp3':{'name3':'xyz','salary3':3000}}\n",
    "emp['emp3']['salary3']=5000\n",
    "print(emp)"
   ]
  },
  {
   "cell_type": "code",
   "execution_count": 14,
   "id": "2b7ad6e6",
   "metadata": {},
   "outputs": [
    {
     "name": "stdout",
     "output_type": "stream",
     "text": [
      "enter the name amaljith\n",
      "{'a': 2, 'm': 1, 'l': 1, 'j': 1, 'i': 1, 't': 1, 'h': 1}\n"
     ]
    }
   ],
   "source": [
    "name=input('enter the name ')\n",
    "d={}\n",
    "for i in name:\n",
    "    d[i]=name.count(i)\n",
    "print(d)"
   ]
  },
  {
   "cell_type": "code",
   "execution_count": 17,
   "id": "a2fd4b48",
   "metadata": {},
   "outputs": [
    {
     "name": "stdout",
     "output_type": "stream",
     "text": [
      "{0: 1, 1: 3, 2: 1, 3: 4, 4: 2, 5: 4, 6: 4, 7: 1, 8: 5, 9: 5}\n"
     ]
    }
   ],
   "source": [
    "import random\n",
    "num={i:random.randint(1,5) for i in range(10)}\n",
    "print(num)\n",
    "    \n",
    "    "
   ]
  },
  {
   "cell_type": "code",
   "execution_count": 2,
   "id": "4336cf77",
   "metadata": {},
   "outputs": [
    {
     "name": "stdout",
     "output_type": "stream",
     "text": [
      "{'hari': 90, 'kiran': 89, 'ram': 75, 'swatha': 99}\n",
      "['hari', 'kiran', 'ram', 'swatha']\n"
     ]
    }
   ],
   "source": [
    "name={'kiran':89,'hari':90,'ram':75,'swatha':99}\n",
    "k=sorted(name.keys())\n",
    "s=list()\n",
    "for i in k:\n",
    "    s.append(name[i])\n",
    "print(dict(zip(k,s)))\n",
    "\n"
   ]
  },
  {
   "cell_type": "code",
   "execution_count": 40,
   "id": "52f99c9e",
   "metadata": {},
   "outputs": [
    {
     "name": "stdout",
     "output_type": "stream",
     "text": [
      "['hari', 'kiran', 'ram', 'swatha']\n"
     ]
    }
   ],
   "source": [
    "print(k)"
   ]
  },
  {
   "cell_type": "code",
   "execution_count": 26,
   "id": "020d8795",
   "metadata": {},
   "outputs": [
    {
     "ename": "AttributeError",
     "evalue": "'dict' object has no attribute 'sort'",
     "output_type": "error",
     "traceback": [
      "\u001b[1;31m---------------------------------------------------------------------------\u001b[0m",
      "\u001b[1;31mAttributeError\u001b[0m                            Traceback (most recent call last)",
      "Input \u001b[1;32mIn [26]\u001b[0m, in \u001b[0;36m<cell line: 2>\u001b[1;34m()\u001b[0m\n\u001b[0;32m      1\u001b[0m name\u001b[38;5;241m=\u001b[39m{\u001b[38;5;124m'\u001b[39m\u001b[38;5;124mkiran\u001b[39m\u001b[38;5;124m'\u001b[39m:\u001b[38;5;241m89\u001b[39m,\u001b[38;5;124m'\u001b[39m\u001b[38;5;124mhari\u001b[39m\u001b[38;5;124m'\u001b[39m:\u001b[38;5;241m90\u001b[39m,\u001b[38;5;124m'\u001b[39m\u001b[38;5;124mram\u001b[39m\u001b[38;5;124m'\u001b[39m:\u001b[38;5;241m75\u001b[39m,\u001b[38;5;124m'\u001b[39m\u001b[38;5;124mswatha\u001b[39m\u001b[38;5;124m'\u001b[39m:\u001b[38;5;241m99\u001b[39m}\n\u001b[1;32m----> 2\u001b[0m ne\u001b[38;5;241m=\u001b[39m\u001b[43mname\u001b[49m\u001b[38;5;241;43m.\u001b[39;49m\u001b[43msort\u001b[49m(key\u001b[38;5;241m=\u001b[39m\u001b[38;5;28;01mlambda\u001b[39;00m x:x[\u001b[38;5;241m1\u001b[39m])\n\u001b[0;32m      3\u001b[0m \u001b[38;5;28mprint\u001b[39m(ne)\n",
      "\u001b[1;31mAttributeError\u001b[0m: 'dict' object has no attribute 'sort'"
     ]
    }
   ],
   "source": [
    "name={'kiran':89,'hari':90,'ram':75,'swatha':99}\n",
    "ne=name.sort(key=lambda x:x[1])\n",
    "print(ne)"
   ]
  }
 ],
 "metadata": {
  "kernelspec": {
   "display_name": "Python 3 (ipykernel)",
   "language": "python",
   "name": "python3"
  },
  "language_info": {
   "codemirror_mode": {
    "name": "ipython",
    "version": 3
   },
   "file_extension": ".py",
   "mimetype": "text/x-python",
   "name": "python",
   "nbconvert_exporter": "python",
   "pygments_lexer": "ipython3",
   "version": "3.10.3"
  }
 },
 "nbformat": 4,
 "nbformat_minor": 5
}
