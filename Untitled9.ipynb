{
 "cells": [
  {
   "cell_type": "code",
   "execution_count": 6,
   "id": "f2ce9129",
   "metadata": {},
   "outputs": [
    {
     "name": "stdout",
     "output_type": "stream",
     "text": [
      "enter the number 5\n",
      "* * * * * * \n",
      "* * * * * \n",
      "* * * * \n",
      "* * * \n",
      "* * \n",
      "* \n"
     ]
    }
   ],
   "source": [
    "num=int(input(\"enter the number \"))\n",
    "for i in range(0,num+1):\n",
    "    for j in range(i,num+1):\n",
    "        print(\"*\",end=\" \")\n",
    "    print()"
   ]
  },
  {
   "cell_type": "code",
   "execution_count": 25,
   "id": "c0a7be6a",
   "metadata": {},
   "outputs": [
    {
     "name": "stdout",
     "output_type": "stream",
     "text": [
      "enter the number 6\n",
      "\n",
      "* \n",
      "* * \n",
      "* * * \n",
      "* * * * \n",
      "* * * * * \n",
      "* * * * * * \n",
      "* * * * * \n",
      "* * * * \n",
      "* * * \n",
      "* * \n",
      "* \n"
     ]
    }
   ],
   "source": [
    "num=int(input(\"enter the number \"))\n",
    "for i in range(num):\n",
    "    for j in range(i):\n",
    "        print(\"*\",end=\" \")\n",
    "    print()\n",
    "for k in range(num,0,-1):\n",
    "    for l in range(k):\n",
    "        print(\"*\",end=\" \")\n",
    "    print()"
   ]
  },
  {
   "cell_type": "code",
   "execution_count": 51,
   "id": "f7650c95",
   "metadata": {},
   "outputs": [
    {
     "name": "stdout",
     "output_type": "stream",
     "text": [
      "rock paper scissorrock\n",
      "user is winner....\n",
      "your score is 1\n"
     ]
    }
   ],
   "source": [
    "import random\n",
    "usrPnts=0\n",
    "comPnts=0\n",
    "usrChoice=input(\"rock paper scissor \")\n",
    "comChoice=random.choice((\"rock\",'paper','scisor '))\n",
    "if usrChoice==comChoice:\n",
    "    print(\"game is tie...\")\n",
    "elif (usrChoice=='rock' and comChoice=='scisor') or (usrChoice=='paper' and comChoice=='rock') or (usrChoice=='scisor' or comChoice=='paper'):\n",
    "    print(\"user is winner....\")\n",
    "    usrPnts=usrPnts+1\n",
    "elif (comChoice=='scisor' and usrChoice=='paper') or (comChoice=='rock' and usrChoice=='scisor') or( comChoice=='paper' or usrChoice=='rock'):\n",
    "    print(\"computer winns.....\")\n",
    "    comPnts=comPnts+1\n",
    "else:\n",
    "    print(\"wrong command\")\n",
    "if usrPnts>=1:\n",
    "    print(\"your score is \"+str(usrPnts))\n",
    "elif comPnts>=1:\n",
    "    print(\"computer score is \"+str(comPnts))"
   ]
  },
  {
   "cell_type": "code",
   "execution_count": 39,
   "id": "5711a033",
   "metadata": {},
   "outputs": [
    {
     "name": "stdout",
     "output_type": "stream",
     "text": [
      "A \n",
      "B B \n",
      "C C C \n",
      "D D D D \n",
      "E E E E E \n"
     ]
    }
   ],
   "source": [
    "for i in range(65,70):\n",
    "    for j in range(65,i+1):\n",
    "        print(chr(i),end=\" \")\n",
    "    print()"
   ]
  },
  {
   "cell_type": "code",
   "execution_count": 3,
   "id": "955a8ff4",
   "metadata": {},
   "outputs": [
    {
     "name": "stdout",
     "output_type": "stream",
     "text": [
      "A \n",
      "A B \n",
      "A B C \n",
      "A B C D \n",
      "A B C D E \n"
     ]
    }
   ],
   "source": [
    "for i in range(65,70):\n",
    "    for j in range(65,i+1):\n",
    "        print(chr(j),end=\" \")\n",
    "    print()"
   ]
  },
  {
   "cell_type": "code",
   "execution_count": 6,
   "id": "b7d899b7",
   "metadata": {},
   "outputs": [
    {
     "name": "stdout",
     "output_type": "stream",
     "text": [
      "   *   \n",
      "  ***  \n",
      " ***** \n",
      "*******\n",
      " ***** \n",
      "  ***  \n",
      "   *   \n"
     ]
    }
   ],
   "source": [
    "for i in range(1,8,2):\n",
    "    print((i*'*').center(7))\n",
    "for j in range(5,0,-2):\n",
    "    print((j*'*').center(7))\n"
   ]
  },
  {
   "cell_type": "code",
   "execution_count": 7,
   "id": "9f75726a",
   "metadata": {},
   "outputs": [
    {
     "name": "stdout",
     "output_type": "stream",
     "text": [
      "   *   \n",
      "   **  \n",
      "  ***  \n",
      "  **** \n",
      " ***** \n"
     ]
    }
   ],
   "source": [
    "for i in range(1,6):\n",
    "    print((i*\"*\").center(7))"
   ]
  },
  {
   "cell_type": "code",
   "execution_count": 70,
   "id": "d2fbc3e9",
   "metadata": {},
   "outputs": [
    {
     "name": "stdout",
     "output_type": "stream",
     "text": [
      "enter the number 6\n",
      "     * \n",
      "    * * \n",
      "   * * * \n",
      "  * * * * \n",
      " * * * * * \n",
      "* * * * * * \n"
     ]
    }
   ],
   "source": [
    "n=int(input(\"enter the number \"))\n",
    "for i in range(0,n):\n",
    "    for j in range(0,n-i-1):\n",
    "        print(end=\" \")\n",
    "    for k in range(0,i+1):\n",
    "        print(\"*\",end=\" \")\n",
    "    print()"
   ]
  },
  {
   "cell_type": "code",
   "execution_count": 67,
   "id": "7bb7b437",
   "metadata": {},
   "outputs": [
    {
     "name": "stdout",
     "output_type": "stream",
     "text": [
      "    1 \n",
      "   2 2 \n",
      "  3 3 3 \n",
      " 4 4 4 4 \n",
      "5 5 5 5 5 \n"
     ]
    }
   ],
   "source": [
    "for i in range(0,5):\n",
    "    for j in range(0,5-i-1):\n",
    "        print(end=\" \")\n",
    "    for k in range(0,i+1):\n",
    "        print(i+1,end=\" \")\n",
    "    print()"
   ]
  },
  {
   "cell_type": "code",
   "execution_count": 72,
   "id": "92f929c8",
   "metadata": {},
   "outputs": [
    {
     "name": "stdout",
     "output_type": "stream",
     "text": [
      "    \n",
      "   1 \n",
      "  1 2 \n",
      " 1 2 3 \n",
      "1 2 3 4 \n"
     ]
    }
   ],
   "source": [
    "for i in range(0,5):\n",
    "    for j in range(0,5-i-1):\n",
    "        print(end=\" \")\n",
    "    for k in range(1,i+1):\n",
    "        print(k,end=\" \")\n",
    "    print()"
   ]
  },
  {
   "cell_type": "code",
   "execution_count": 39,
   "id": "6f0f2bd7",
   "metadata": {},
   "outputs": [
    {
     "name": "stdout",
     "output_type": "stream",
     "text": [
      "    1 \n",
      "   2 3 \n",
      "  4 5 6 \n",
      " 7 8 9 10 \n",
      "11 12 13 14 15 \n"
     ]
    }
   ],
   "source": [
    "m=1\n",
    "for i in range(0,5):\n",
    "    for j in range(0,5-i-1):\n",
    "        print(end=\" \")\n",
    "    for k in range(0,i+1):\n",
    "        print(m,end=\" \")\n",
    "        m=m+1\n",
    "    print()"
   ]
  },
  {
   "cell_type": "code",
   "execution_count": 40,
   "id": "cc37bb65",
   "metadata": {},
   "outputs": [
    {
     "ename": "SyntaxError",
     "evalue": "unterminated string literal (detected at line 1) (923312101.py, line 1)",
     "output_type": "error",
     "traceback": [
      "\u001b[1;36m  Input \u001b[1;32mIn [40]\u001b[1;36m\u001b[0m\n\u001b[1;33m    'it's my name'\u001b[0m\n\u001b[1;37m                 ^\u001b[0m\n\u001b[1;31mSyntaxError\u001b[0m\u001b[1;31m:\u001b[0m unterminated string literal (detected at line 1)\n"
     ]
    }
   ],
   "source": [
    "'it's my name'\n"
   ]
  },
  {
   "cell_type": "code",
   "execution_count": 43,
   "id": "65288218",
   "metadata": {},
   "outputs": [
    {
     "data": {
      "text/plain": [
       "\"it's my name\""
      ]
     },
     "execution_count": 43,
     "metadata": {},
     "output_type": "execute_result"
    }
   ],
   "source": [
    "'it\\'s my name'"
   ]
  },
  {
   "cell_type": "code",
   "execution_count": 45,
   "id": "a1ba2fa0",
   "metadata": {},
   "outputs": [
    {
     "data": {
      "text/plain": [
       "\"it\\\\'s my name\""
      ]
     },
     "execution_count": 45,
     "metadata": {},
     "output_type": "execute_result"
    }
   ],
   "source": [
    "r'it\\'s my name'"
   ]
  },
  {
   "cell_type": "code",
   "execution_count": 47,
   "id": "142faf89",
   "metadata": {},
   "outputs": [
    {
     "name": "stdout",
     "output_type": "stream",
     "text": [
      "my name is amal \n",
      "hai how are you\n",
      " ha hahahaha\n"
     ]
    }
   ],
   "source": [
    "str1='''my name is amal \\nhai how are you\\n ha hahahaha'''\n",
    "print(str1)"
   ]
  },
  {
   "cell_type": "code",
   "execution_count": 50,
   "id": "569105b3",
   "metadata": {},
   "outputs": [
    {
     "data": {
      "text/plain": [
       "'hai amal'"
      ]
     },
     "execution_count": 50,
     "metadata": {},
     "output_type": "execute_result"
    }
   ],
   "source": [
    "name='amal'\n",
    "f'hai {name}'"
   ]
  },
  {
   "cell_type": "code",
   "execution_count": 56,
   "id": "10072ed9",
   "metadata": {},
   "outputs": [
    {
     "name": "stdout",
     "output_type": "stream",
     "text": [
      "hi amal\n"
     ]
    }
   ],
   "source": [
    "name='amal'\n",
    "print(\"hi {}\".format(name))"
   ]
  },
  {
   "cell_type": "code",
   "execution_count": 58,
   "id": "003a61e9",
   "metadata": {},
   "outputs": [
    {
     "name": "stdout",
     "output_type": "stream",
     "text": [
      "hai amal\n"
     ]
    }
   ],
   "source": [
    "name='amal'\n",
    "print(\"hai \"+name)"
   ]
  },
  {
   "cell_type": "code",
   "execution_count": 63,
   "id": "61cb08c7",
   "metadata": {},
   "outputs": [
    {
     "name": "stdout",
     "output_type": "stream",
     "text": [
      "['False', 'None', 'True', 'and', 'as', 'assert', 'async', 'await', 'break', 'class', 'continue', 'def', 'del', 'elif', 'else', 'except', 'finally', 'for', 'from', 'global', 'if', 'import', 'in', 'is', 'lambda', 'nonlocal', 'not', 'or', 'pass', 'raise', 'return', 'try', 'while', 'with', 'yield']\n"
     ]
    },
    {
     "data": {
      "text/plain": [
       "35"
      ]
     },
     "execution_count": 63,
     "metadata": {},
     "output_type": "execute_result"
    }
   ],
   "source": [
    "import keyword\n",
    "print(keyword.kwlist)\n",
    "len(keyword.kwlist)"
   ]
  },
  {
   "cell_type": "code",
   "execution_count": 1,
   "id": "e8aad215",
   "metadata": {},
   "outputs": [
    {
     "name": "stdout",
     "output_type": "stream",
     "text": [
      "t\n",
      "n\n",
      "g\n",
      "g\n",
      "n\n",
      "ython \n",
      "python\n",
      "string\n",
      "python string\n",
      "n stri\n",
      "jython string\n"
     ]
    },
    {
     "data": {
      "text/plain": [
       "13"
      ]
     },
     "execution_count": 1,
     "metadata": {},
     "output_type": "execute_result"
    }
   ],
   "source": [
    "str1=\"python string\"\n",
    "print(str1[2])\n",
    "print(str1[11])\n",
    "print(str1[12])\n",
    "print(str1[-1])\n",
    "print(str1[-2])\n",
    "print(str1[1:7])\n",
    "print(str1[:6])\n",
    "print(str1[7:])\n",
    "print(str1[:])\n",
    "print(str1[-8:-2])\n",
    "new_str1=\"j\"+str1[1:]\n",
    "print(new_str1)\n",
    "len(str1)"
   ]
  },
  {
   "cell_type": "code",
   "execution_count": 19,
   "id": "16ae1051",
   "metadata": {},
   "outputs": [
    {
     "name": "stdout",
     "output_type": "stream",
     "text": [
      "enter the number 6\n",
      "     * \n",
      "    * * \n",
      "   * * * \n",
      "  * * * * \n",
      " * * * * * \n",
      "* * * * * * \n"
     ]
    }
   ],
   "source": [
    "n=int(input(\"enter the number \"))\n",
    "for i in range(n):\n",
    "    for j in range(0,n-i-1):\n",
    "        print(end=\" \")\n",
    "    for k in range(0,i+1):\n",
    "        print(\"*\",end=\" \")\n",
    "    print()"
   ]
  },
  {
   "cell_type": "code",
   "execution_count": 38,
   "id": "ba610a96",
   "metadata": {},
   "outputs": [
    {
     "name": "stdout",
     "output_type": "stream",
     "text": [
      "enter the numbr 6\n",
      "     * \n",
      "    * * \n",
      "   * * * \n",
      "  * * * * \n",
      " * * * * * \n",
      "* * * * * * \n"
     ]
    }
   ],
   "source": [
    "n=int(input(\"enter the numbr \"))\n",
    "for i in range(n):\n",
    "    for j in range(i,n-1):\n",
    "         print(end=\" \")\n",
    "    for k in range(0,i+1):\n",
    "        print(\"*\",end=\" \")\n",
    "    print()"
   ]
  },
  {
   "cell_type": "code",
   "execution_count": 50,
   "id": "ab50a075",
   "metadata": {},
   "outputs": [
    {
     "name": "stdout",
     "output_type": "stream",
     "text": [
      "enter the numbr 6\n",
      "\n",
      "* \n",
      "* * \n",
      "* * * \n",
      "* * * * \n",
      "* * * * * \n"
     ]
    }
   ],
   "source": [
    "n=int(input(\"enter the numbr \"))\n",
    "for i in range(n):\n",
    "    for j in range(i):\n",
    "        print(\"*\",end=\" \")\n",
    "    print()"
   ]
  },
  {
   "cell_type": "code",
   "execution_count": 65,
   "id": "c9162af6",
   "metadata": {},
   "outputs": [
    {
     "name": "stdout",
     "output_type": "stream",
     "text": [
      "   *  *     *  *     \n",
      "*        *        *  \n",
      "*                 *  \n",
      "   *           *     \n",
      "      *     *        \n",
      "         *           \n"
     ]
    }
   ],
   "source": [
    "n =6\n",
    "for row in range(0,n):\n",
    "    for col in range(0,n+1):\n",
    "        if(row==0 and col%3!=0) or (row==1 and col%3==0) or (row-col==2) or (row+col==8):\n",
    "            print('*',end='  ')\n",
    "        else:\n",
    "            print(' ',end='  ')\n",
    "              \n",
    "    print()"
   ]
  },
  {
   "cell_type": "code",
   "execution_count": 12,
   "id": "c479d10f",
   "metadata": {},
   "outputs": [
    {
     "data": {
      "text/plain": [
       "'lama'"
      ]
     },
     "execution_count": 12,
     "metadata": {},
     "output_type": "execute_result"
    }
   ],
   "source": [
    "str1='amal'\n",
    "str1[: : -1]"
   ]
  },
  {
   "cell_type": "code",
   "execution_count": 21,
   "id": "8d677af7",
   "metadata": {},
   "outputs": [
    {
     "name": "stdout",
     "output_type": "stream",
     "text": [
      "amal\n",
      "amal\n",
      "amal\n",
      "amal\n"
     ]
    }
   ],
   "source": [
    "str1='amal'\n",
    "\n",
    "for i in range(len(str1)):\n",
    "    len(str1)//10\n",
    "    print(str1)"
   ]
  },
  {
   "cell_type": "code",
   "execution_count": 28,
   "id": "c2d1ac39",
   "metadata": {},
   "outputs": [
    {
     "name": "stdout",
     "output_type": "stream",
     "text": [
      "enter the no 5\n",
      "* \n",
      "* * \n",
      "* * * \n",
      "* * * * \n",
      "* * * * * \n"
     ]
    }
   ],
   "source": [
    "n=int(input(\"enter the no \"))\n",
    "for i in range(n):\n",
    "    for j in range(0,i+1):\n",
    "        print(\"*\",end=\" \")\n",
    "    print()"
   ]
  },
  {
   "cell_type": "code",
   "execution_count": 46,
   "id": "bd92573d",
   "metadata": {},
   "outputs": [
    {
     "name": "stdout",
     "output_type": "stream",
     "text": [
      "enter the no5\n",
      "*\n",
      "* * * * * \n",
      "*\n",
      "* * * * \n",
      "*\n",
      "* * * \n",
      "*\n",
      "* * \n",
      "*\n",
      "* \n"
     ]
    }
   ],
   "source": [
    "n=int(input(\"enter the no\"))\n",
    "for i in range(n):\n",
    "    print(\"*\")\n",
    "    for j in range(i,n):\n",
    "        print(\"*\",end=\" \")\n",
    "    print()"
   ]
  }
 ],
 "metadata": {
  "kernelspec": {
   "display_name": "Python 3 (ipykernel)",
   "language": "python",
   "name": "python3"
  },
  "language_info": {
   "codemirror_mode": {
    "name": "ipython",
    "version": 3
   },
   "file_extension": ".py",
   "mimetype": "text/x-python",
   "name": "python",
   "nbconvert_exporter": "python",
   "pygments_lexer": "ipython3",
   "version": "3.10.3"
  }
 },
 "nbformat": 4,
 "nbformat_minor": 5
}
