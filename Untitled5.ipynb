{
 "cells": [
  {
   "cell_type": "code",
   "execution_count": 5,
   "id": "27699ea0",
   "metadata": {},
   "outputs": [
    {
     "name": "stdout",
     "output_type": "stream",
     "text": [
      "enter your marks 10\n",
      "ni thottu myrea....\n"
     ]
    }
   ],
   "source": [
    "mark=int(input(\"enter your marks \"))\n",
    "if mark>=90:\n",
    "    print(\"yor grade is O\")\n",
    "elif mark>=80:\n",
    "    print(\"your grade is A\")\n",
    "elif mark>=70:\n",
    "    print(\"your grade is B\")\n",
    "elif mark>=60:\n",
    "    print(\"your grade is C\")\n",
    "elif mark>=50:\n",
    "    print(\"your grade is D\")\n",
    "else:\n",
    "    print(\"ni thottu myrea....\")"
   ]
  },
  {
   "cell_type": "code",
   "execution_count": 7,
   "id": "92aa7e0f",
   "metadata": {},
   "outputs": [
    {
     "name": "stdout",
     "output_type": "stream",
     "text": [
      "enter the number 3\n",
      "number is odd\n"
     ]
    }
   ],
   "source": [
    "num=int(input(\"enter the number \"))\n",
    "if num%2==0:\n",
    "    print(\"number is even \")\n",
    "else:\n",
    "    print(\"number is odd\")"
   ]
  },
  {
   "cell_type": "code",
   "execution_count": 13,
   "id": "f60f3ed9",
   "metadata": {},
   "outputs": [
    {
     "name": "stdout",
     "output_type": "stream",
     "text": [
      "enter the number -8\n",
      "you are enterd negative\n"
     ]
    }
   ],
   "source": [
    "num=int(input(\"enter the number \"))\n",
    "if num>=0:\n",
    "    if num==0:\n",
    "        print(\"you are entered zero\")\n",
    "    else:\n",
    "        print(\"you are enterd psitve\")\n",
    "else:\n",
    "    print(\"you are enterd negative\")"
   ]
  },
  {
   "cell_type": "code",
   "execution_count": 20,
   "id": "6c55c950",
   "metadata": {},
   "outputs": [
    {
     "name": "stdout",
     "output_type": "stream",
     "text": [
      "\n"
     ]
    }
   ],
   "source": []
  },
  {
   "cell_type": "code",
   "execution_count": null,
   "id": "8c550999",
   "metadata": {},
   "outputs": [],
   "source": []
  }
 ],
 "metadata": {
  "kernelspec": {
   "display_name": "Python 3 (ipykernel)",
   "language": "python",
   "name": "python3"
  },
  "language_info": {
   "codemirror_mode": {
    "name": "ipython",
    "version": 3
   },
   "file_extension": ".py",
   "mimetype": "text/x-python",
   "name": "python",
   "nbconvert_exporter": "python",
   "pygments_lexer": "ipython3",
   "version": "3.10.3"
  }
 },
 "nbformat": 4,
 "nbformat_minor": 5
}
