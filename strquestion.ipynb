{
 "cells": [
  {
   "cell_type": "code",
   "execution_count": 6,
   "id": "ea0477dd",
   "metadata": {},
   "outputs": [
    {
     "name": "stdout",
     "output_type": "stream",
     "text": [
      "enter the string amaljith\n",
      "aajt\n"
     ]
    }
   ],
   "source": [
    "#odd char print\n",
    "get=input('enter the string ')\n",
    "odd_string=''\n",
    "for i in range(len(get)):\n",
    "    if i%2==0  :\n",
    "        odd_string=odd_string+get[i]\n",
    "print(odd_string)\n"
   ]
  },
  {
   "cell_type": "code",
   "execution_count": 10,
   "id": "244d1db3",
   "metadata": {},
   "outputs": [
    {
     "name": "stdout",
     "output_type": "stream",
     "text": [
      "enter the string amaljith\n",
      "aajt\n"
     ]
    }
   ],
   "source": [
    "get=input('enter the string ')\n",
    "even_string=''\n",
    "for i in range(len(get)):\n",
    "    if i%2==0:\n",
    "        even_string=even_string+get[i]\n",
    "print(even_string)"
   ]
  },
  {
   "cell_type": "code",
   "execution_count": 12,
   "id": "aeaa54f2",
   "metadata": {},
   "outputs": [
    {
     "name": "stdout",
     "output_type": "stream",
     "text": [
      "enter the string amaljith\n",
      "True\n"
     ]
    }
   ],
   "source": [
    "#start with a then print//starswith()\n",
    "user=input('enter the string ')\n",
    "check=user.startswith('a')\n",
    "print(check)"
   ]
  },
  {
   "cell_type": "code",
   "execution_count": 16,
   "id": "c623cdca",
   "metadata": {},
   "outputs": [
    {
     "name": "stdout",
     "output_type": "stream",
     "text": [
      "enetr the string smaljith\n",
      "smaljith\n"
     ]
    }
   ],
   "source": [
    "user=input('enetr the string ')\n",
    "check=user.startswith('a')\n",
    "if user.startswith('a'):\n",
    "    print(check)\n",
    "else:\n",
    "    print(user)"
   ]
  },
  {
   "cell_type": "code",
   "execution_count": 22,
   "id": "abdaaedf",
   "metadata": {},
   "outputs": [
    {
     "name": "stdout",
     "output_type": "stream",
     "text": [
      "['', ' Python', ' string', ' list of string']\n"
     ]
    }
   ],
   "source": [
    "liststr=['', \" 'Python'\", \" 'string'\", \" 'list of string'\"]\n",
    "modified_list=[item.replace(\"'\" ,'') for item in liststr]\n",
    "print(modified_list)"
   ]
  },
  {
   "cell_type": "code",
   "execution_count": null,
   "id": "fb36b898",
   "metadata": {},
   "outputs": [],
   "source": [
    "import re\n",
    "re.search"
   ]
  }
 ],
 "metadata": {
  "kernelspec": {
   "display_name": "Python 3 (ipykernel)",
   "language": "python",
   "name": "python3"
  },
  "language_info": {
   "codemirror_mode": {
    "name": "ipython",
    "version": 3
   },
   "file_extension": ".py",
   "mimetype": "text/x-python",
   "name": "python",
   "nbconvert_exporter": "python",
   "pygments_lexer": "ipython3",
   "version": "3.10.3"
  }
 },
 "nbformat": 4,
 "nbformat_minor": 5
}
