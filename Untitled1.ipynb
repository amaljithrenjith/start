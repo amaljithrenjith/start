{
 "cells": [
  {
   "cell_type": "code",
   "execution_count": 1,
   "id": "0cdf6d28",
   "metadata": {},
   "outputs": [
    {
     "data": {
      "text/plain": [
       "11"
      ]
     },
     "execution_count": 1,
     "metadata": {},
     "output_type": "execute_result"
    }
   ],
   "source": [
    "5+6"
   ]
  },
  {
   "cell_type": "code",
   "execution_count": 5,
   "id": "f47e7266",
   "metadata": {},
   "outputs": [
    {
     "name": "stdout",
     "output_type": "stream",
     "text": [
      "3\n"
     ]
    }
   ],
   "source": [
    "x=3\n",
    "print(x)\n"
   ]
  },
  {
   "cell_type": "code",
   "execution_count": 6,
   "id": "5d10f22a",
   "metadata": {},
   "outputs": [
    {
     "data": {
      "text/plain": [
       "2781806854480"
      ]
     },
     "execution_count": 6,
     "metadata": {},
     "output_type": "execute_result"
    }
   ],
   "source": [
    "x=3\n",
    "id(x)\n",
    "x=4\n",
    "id(x)"
   ]
  },
  {
   "cell_type": "code",
   "execution_count": 7,
   "id": "bb69107f",
   "metadata": {},
   "outputs": [
    {
     "data": {
      "text/plain": [
       "'0x287b09c0130'"
      ]
     },
     "execution_count": 7,
     "metadata": {},
     "output_type": "execute_result"
    }
   ],
   "source": [
    "x=3\n",
    "id(x)\n",
    "hex(id(x))"
   ]
  },
  {
   "cell_type": "code",
   "execution_count": 9,
   "id": "4134919f",
   "metadata": {},
   "outputs": [
    {
     "name": "stdout",
     "output_type": "stream",
     "text": [
      "4 3\n"
     ]
    }
   ],
   "source": [
    "x=3\n",
    "y=4\n",
    "x,y=y,x\n",
    "print(x,y)"
   ]
  },
  {
   "cell_type": "code",
   "execution_count": 11,
   "id": "7bb153d5",
   "metadata": {},
   "outputs": [
    {
     "name": "stdout",
     "output_type": "stream",
     "text": [
      "enter the value of x 5\n",
      "enter the value of y 6\n",
      "5 6\n"
     ]
    }
   ],
   "source": [
    "x=input(\"enter the value of x \")\n",
    "y=input(\"enter the value of y \")\n",
    "print(x,y)"
   ]
  },
  {
   "cell_type": "code",
   "execution_count": 14,
   "id": "b37a6ddc",
   "metadata": {},
   "outputs": [
    {
     "name": "stdout",
     "output_type": "stream",
     "text": [
      "enter the value of x 5\n",
      "enter the value of y 4\n",
      "54\n"
     ]
    }
   ],
   "source": [
    "x=input(\"enter the value of x \")\n",
    "y=input(\"enter the value of y \")\n",
    "result=x+y\n",
    "print(result)"
   ]
  },
  {
   "cell_type": "code",
   "execution_count": 13,
   "id": "e2434068",
   "metadata": {},
   "outputs": [
    {
     "name": "stdout",
     "output_type": "stream",
     "text": [
      "enter the value of x 5\n",
      "enter the value f y 4\n",
      "9\n"
     ]
    }
   ],
   "source": [
    "x=int(input(\"enter the value of x \"))\n",
    "y=int(input(\"enter the value f y \"))\n",
    "print(x+y)"
   ]
  },
  {
   "cell_type": "code",
   "execution_count": 22,
   "id": "b96843dd",
   "metadata": {},
   "outputs": [
    {
     "data": {
      "text/plain": [
       "4"
      ]
     },
     "execution_count": 22,
     "metadata": {},
     "output_type": "execute_result"
    }
   ],
   "source": [
    "2**2"
   ]
  },
  {
   "cell_type": "code",
   "execution_count": 21,
   "id": "fb74d3c8",
   "metadata": {},
   "outputs": [
    {
     "name": "stdout",
     "output_type": "stream",
     "text": [
      "enter the value of x 8\n",
      "enter the value of y 4\n",
      "adition  12 \n",
      "substraction 4 \n",
      "multiplication 32 \n",
      "divition 2.0 \n",
      "reminder 0 \n",
      "floar div 2 \n",
      "power 4096\n"
     ]
    }
   ],
   "source": [
    "x=int(input(\"enter the value of x \"))\n",
    "y=int(input(\"enter the value of y \"))\n",
    "adi=x+y\n",
    "sub=x-y\n",
    "mul=x*y\n",
    "div=x/y\n",
    "rem=x%y\n",
    "flor=x//y\n",
    "por=x**y\n",
    "print(\"adition \",adi,\"\\nsubstraction\",sub,\"\\nmultiplication\",mul,\"\\ndivition\",div,\"\\nreminder\",rem,\"\\nfloar div\",flor,\"\\npower\",por)"
   ]
  },
  {
   "cell_type": "code",
   "execution_count": 25,
   "id": "be17cd6c",
   "metadata": {},
   "outputs": [
    {
     "name": "stdout",
     "output_type": "stream",
     "text": [
      "enter the value of x 5\n",
      "enter the value of y 4\n",
      "sum is 9 \n",
      "substraction is 1\n"
     ]
    }
   ],
   "source": [
    "x=int(input(\"enter the value of x \"))\n",
    "y=int(input(\"enter the value of y \"))\n",
    "adi=x+y\n",
    "sub=x-y\n",
    "print(\"sum is {} \\nsubstraction is {}\".format(adi,sub))"
   ]
  },
  {
   "cell_type": "code",
   "execution_count": null,
   "id": "66e93ba6",
   "metadata": {},
   "outputs": [],
   "source": []
  }
 ],
 "metadata": {
  "kernelspec": {
   "display_name": "Python 3 (ipykernel)",
   "language": "python",
   "name": "python3"
  },
  "language_info": {
   "codemirror_mode": {
    "name": "ipython",
    "version": 3
   },
   "file_extension": ".py",
   "mimetype": "text/x-python",
   "name": "python",
   "nbconvert_exporter": "python",
   "pygments_lexer": "ipython3",
   "version": "3.10.3"
  }
 },
 "nbformat": 4,
 "nbformat_minor": 5
}
