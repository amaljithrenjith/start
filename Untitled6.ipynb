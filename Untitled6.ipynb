{
 "cells": [
  {
   "cell_type": "code",
   "execution_count": 1,
   "id": "534d1e8f",
   "metadata": {},
   "outputs": [
    {
     "name": "stdout",
     "output_type": "stream",
     "text": [
      "1\n",
      "2\n",
      "3\n",
      "4\n",
      "5\n",
      "6\n",
      "7\n",
      "8\n",
      "9\n",
      "10\n"
     ]
    }
   ],
   "source": [
    "for i in range(1,11):\n",
    "    print(i)"
   ]
  },
  {
   "cell_type": "code",
   "execution_count": 2,
   "id": "31aec1da",
   "metadata": {},
   "outputs": [
    {
     "name": "stdout",
     "output_type": "stream",
     "text": [
      "enter the number 20\n",
      "1\n",
      "2\n",
      "3\n",
      "4\n",
      "5\n",
      "6\n",
      "7\n",
      "8\n",
      "9\n",
      "10\n",
      "11\n",
      "12\n",
      "13\n",
      "14\n",
      "15\n",
      "16\n",
      "17\n",
      "18\n",
      "19\n"
     ]
    }
   ],
   "source": [
    "num=int(input(\"enter the number \"))\n",
    "for i in range(1,num):\n",
    "    print(i)"
   ]
  },
  {
   "cell_type": "code",
   "execution_count": 3,
   "id": "9071126b",
   "metadata": {},
   "outputs": [
    {
     "name": "stdout",
     "output_type": "stream",
     "text": [
      "enter the number 15\n",
      "0\n",
      "2\n",
      "4\n",
      "6\n",
      "8\n",
      "10\n",
      "12\n",
      "14\n"
     ]
    }
   ],
   "source": [
    "num=int(input(\"enter the number \"))\n",
    "for i in range(0,num,2):\n",
    "    print(i)"
   ]
  },
  {
   "cell_type": "code",
   "execution_count": 4,
   "id": "ee25269b",
   "metadata": {},
   "outputs": [
    {
     "name": "stdout",
     "output_type": "stream",
     "text": [
      "enter the number5\n",
      "square of number 25\n",
      "square root of number is  5.0\n"
     ]
    }
   ],
   "source": [
    "num=int(input(\"enter the number\"))\n",
    "square=num*num\n",
    "root=square**0.5\n",
    "print(\"square of number\",square)\n",
    "print(\"square root of number is \",root)"
   ]
  },
  {
   "cell_type": "code",
   "execution_count": 26,
   "id": "3d1d1286",
   "metadata": {},
   "outputs": [
    {
     "name": "stdout",
     "output_type": "stream",
     "text": [
      "enter the number 5\n",
      "1 * 5 = 5\n",
      "2 * 5 = 10\n",
      "3 * 5 = 15\n",
      "4 * 5 = 20\n",
      "5 * 5 = 25\n",
      "6 * 5 = 30\n",
      "7 * 5 = 35\n",
      "8 * 5 = 40\n",
      "9 * 5 = 45\n",
      "10 * 5 = 50\n",
      "11 * 5 = 55\n",
      "12 * 5 = 60\n"
     ]
    }
   ],
   "source": [
    "num=int(input(\"enter the number \"))\n",
    "for i in range(1,13):\n",
    "   # mul=num*i or num*i\n",
    "    print(i,\"*\",num,\"=\",num*i)"
   ]
  },
  {
   "cell_type": "code",
   "execution_count": 1,
   "id": "7a6a8c02",
   "metadata": {},
   "outputs": [
    {
     "name": "stdout",
     "output_type": "stream",
     "text": [
      "enter thenumber 5\n",
      "10\n"
     ]
    }
   ],
   "source": [
    "num=int(input(\"enter thenumber \"))\n",
    "sum=0\n",
    "for i in range(num):\n",
    "    sum=sum+i\n",
    "print(sum)\n"
   ]
  },
  {
   "cell_type": "code",
   "execution_count": 15,
   "id": "80683bea",
   "metadata": {},
   "outputs": [
    {
     "name": "stdout",
     "output_type": "stream",
     "text": [
      "enter a number 10\n",
      "1\n",
      "2\n",
      "5\n"
     ]
    }
   ],
   "source": [
    "num=int(input(\"enter a number \"))\n",
    "for i in range(1,num):\n",
    "    if num%i==0:\n",
    "        print(i)\n",
    "    "
   ]
  },
  {
   "cell_type": "code",
   "execution_count": 29,
   "id": "91b8e878",
   "metadata": {},
   "outputs": [
    {
     "name": "stdout",
     "output_type": "stream",
     "text": [
      "enter the number 5\n",
      "enter the operation -\n",
      "enter the numeber 5\n",
      "substraction is  0\n"
     ]
    }
   ],
   "source": [
    "num1=int(input(\"enter the number \"))\n",
    "opr=input(\"enter the operation \")\n",
    "num2=int(input(\"enter the numeber \"))\n",
    "if opr== \"+\":\n",
    "    print(\"sum is \",num1+num2)\n",
    "elif opr== \"-\":\n",
    "    print(\"substraction is \",num1-num2)\n",
    "elif opr== \"*\":\n",
    "    print(\"multiple is \",num1*num2)\n",
    "elif opr== \"/\":\n",
    "    print(\"division is \",num1/num2)\n",
    "else:\n",
    "    print(\"you are selected wrong operation \")"
   ]
  },
  {
   "cell_type": "code",
   "execution_count": 9,
   "id": "f9fa037d",
   "metadata": {},
   "outputs": [
    {
     "name": "stdout",
     "output_type": "stream",
     "text": [
      "enter the temperature 37\n",
      "farenheit is  98.60000000000001\n"
     ]
    }
   ],
   "source": [
    "num=int(input(\"enter the temperature \"))\n",
    "print(\"farenheit is \",num*(9/5)+32)"
   ]
  },
  {
   "cell_type": "code",
   "execution_count": 11,
   "id": "5ef72099",
   "metadata": {},
   "outputs": [
    {
     "name": "stdout",
     "output_type": "stream",
     "text": [
      "enter the number 6\n",
      "enter the number 12\n",
      "6\n"
     ]
    }
   ],
   "source": [
    "#gcd of 2 numbers \n",
    "num1=int(input(\"enter the number \"))\n",
    "num2=int(input(\"enter the number \"))\n",
    "gcd=0\n",
    "for i in range(2,min(num1,num2)+1):\n",
    "    if(num1%i==0 and num2%i==0):\n",
    "        gcd=i\n",
    "print(gcd)\n"
   ]
  },
  {
   "cell_type": "code",
   "execution_count": 24,
   "id": "905bdd1b",
   "metadata": {},
   "outputs": [
    {
     "name": "stdout",
     "output_type": "stream",
     "text": [
      "enter the base 2\n",
      "enter the exponant 3\n",
      "8\n"
     ]
    }
   ],
   "source": [
    "#exponatioal of numbers\n",
    "base=int(input(\"enter the base \"))\n",
    "exp=int(input(\"enter the exponant \"))\n",
    "reselt=1\n",
    "for i in range(exp):\n",
    "    reselt=reselt*base\n",
    "print(reselt)\n"
   ]
  },
  {
   "cell_type": "code",
   "execution_count": 8,
   "id": "8eaa3c05",
   "metadata": {},
   "outputs": [
    {
     "name": "stdout",
     "output_type": "stream",
     "text": [
      "enter the number 5\n",
      "120\n"
     ]
    }
   ],
   "source": [
    "#factoral of numbers\n",
    "num=int(input(\"enter the number \"))\n",
    "fact=1\n",
    "for i in range(1,num+1):\n",
    "    fact=fact*i\n",
    "print(fact)\n"
   ]
  },
  {
   "cell_type": "code",
   "execution_count": 1,
   "id": "de61a982",
   "metadata": {},
   "outputs": [
    {
     "name": "stdout",
     "output_type": "stream",
     "text": [
      "enter the number 5\n",
      "0\n",
      "1\n",
      "1\n",
      "2\n",
      "3\n"
     ]
    }
   ],
   "source": [
    "#fibinoca series of n nubers\n",
    "num=int(input(\"enter the number \"))\n",
    "num1=0\n",
    "num2=1\n",
    "fib=0\n",
    "print(num1)\n",
    "print(num2)\n",
    "for i in range(num-2):\n",
    "    fib=num1+num2\n",
    "    num1=num2\n",
    "    num2=fib\n",
    "    print(fib)\n",
    "\n",
    "        \n",
    "   "
   ]
  },
  {
   "cell_type": "code",
   "execution_count": 2,
   "id": "026c5b6f",
   "metadata": {},
   "outputs": [
    {
     "name": "stdout",
     "output_type": "stream",
     "text": [
      "enter the number 6\n",
      "it is not prime\n"
     ]
    }
   ],
   "source": [
    "#prime number\n",
    "num=int(input(\"enter the number \"))\n",
    "if num>1:\n",
    "    for i in range(2,num):\n",
    "        if(num%i==0):\n",
    "            print(\"it is not prime\")\n",
    "            break\n",
    "        else:\n",
    "            print(\"its is prime\")\n",
    "else:\n",
    "    print(\"its not a prime\")\n",
    "    "
   ]
  },
  {
   "cell_type": "code",
   "execution_count": 55,
   "id": "d0749a56",
   "metadata": {},
   "outputs": [
    {
     "name": "stdout",
     "output_type": "stream",
     "text": [
      "enter the year 2012\n",
      "it is\n"
     ]
    }
   ],
   "source": [
    "#leap year\n",
    "num=int(input(\"enter the year \"))\n",
    "if num%4==0 and num%400!=0:\n",
    "    print(\"it is\")\n",
    "else:\n",
    "    print(\"its not\")"
   ]
  }
 ],
 "metadata": {
  "kernelspec": {
   "display_name": "Python 3 (ipykernel)",
   "language": "python",
   "name": "python3"
  },
  "language_info": {
   "codemirror_mode": {
    "name": "ipython",
    "version": 3
   },
   "file_extension": ".py",
   "mimetype": "text/x-python",
   "name": "python",
   "nbconvert_exporter": "python",
   "pygments_lexer": "ipython3",
   "version": "3.10.3"
  }
 },
 "nbformat": 4,
 "nbformat_minor": 5
}
