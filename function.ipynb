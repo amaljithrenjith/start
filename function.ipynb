{
 "cells": [
  {
   "cell_type": "code",
   "execution_count": 4,
   "id": "3eef71a3",
   "metadata": {},
   "outputs": [
    {
     "name": "stdout",
     "output_type": "stream",
     "text": [
      "hello world\n"
     ]
    }
   ],
   "source": [
    "def sample():\n",
    "    print('hello world')\n",
    "\n",
    "sample()    "
   ]
  },
  {
   "cell_type": "code",
   "execution_count": 6,
   "id": "8e7115a8",
   "metadata": {},
   "outputs": [
    {
     "name": "stdout",
     "output_type": "stream",
     "text": [
      "20\n"
     ]
    }
   ],
   "source": [
    "def addition(a):\n",
    "    print(a+10)\n",
    "    \n",
    "addition(10)"
   ]
  },
  {
   "cell_type": "code",
   "execution_count": 15,
   "id": "60da669e",
   "metadata": {},
   "outputs": [
    {
     "name": "stdout",
     "output_type": "stream",
     "text": [
      "17\n"
     ]
    }
   ],
   "source": [
    "def sumof(a):\n",
    "    ret=a+15\n",
    "    return ret\n",
    "    \n",
    "print(sumof(2))"
   ]
  },
  {
   "cell_type": "code",
   "execution_count": 17,
   "id": "065e2503",
   "metadata": {},
   "outputs": [
    {
     "name": "stdout",
     "output_type": "stream",
     "text": [
      "enter the number 5\n",
      "5\n"
     ]
    },
    {
     "ename": "NameError",
     "evalue": "name 'adition' is not defined",
     "output_type": "error",
     "traceback": [
      "\u001b[1;31m---------------------------------------------------------------------------\u001b[0m",
      "\u001b[1;31mNameError\u001b[0m                                 Traceback (most recent call last)",
      "Input \u001b[1;32mIn [17]\u001b[0m, in \u001b[0;36m<cell line: 4>\u001b[1;34m()\u001b[0m\n\u001b[0;32m      1\u001b[0m num1\u001b[38;5;241m=\u001b[39m\u001b[38;5;28mint\u001b[39m(\u001b[38;5;28minput\u001b[39m(\u001b[38;5;124m'\u001b[39m\u001b[38;5;124menter the number \u001b[39m\u001b[38;5;124m'\u001b[39m))\n\u001b[0;32m      2\u001b[0m num2\u001b[38;5;241m=\u001b[39m\u001b[38;5;28mint\u001b[39m(\u001b[38;5;28minput\u001b[39m())\n\u001b[1;32m----> 4\u001b[0m \u001b[43madition\u001b[49m(num1,num2)\n\u001b[0;32m      6\u001b[0m \u001b[38;5;28;01mdef\u001b[39;00m \u001b[38;5;21madition\u001b[39m(num1,num2):\n\u001b[0;32m      7\u001b[0m     \u001b[38;5;28mprint\u001b[39m(\u001b[38;5;124m'\u001b[39m\u001b[38;5;124msum is \u001b[39m\u001b[38;5;124m'\u001b[39m,num1\u001b[38;5;241m+\u001b[39mnmu2)\n",
      "\u001b[1;31mNameError\u001b[0m: name 'adition' is not defined"
     ]
    }
   ],
   "source": [
    "num1=int(input('enter the number '))\n",
    "num2=int(input())\n",
    "\n",
    "adition(num1,num2)\n",
    "\n",
    "def adition(num1,num2):\n",
    "    print('sum is ',num1+nmu2)"
   ]
  },
  {
   "cell_type": "code",
   "execution_count": 18,
   "id": "4cf5b885",
   "metadata": {},
   "outputs": [
    {
     "name": "stdout",
     "output_type": "stream",
     "text": [
      "enter the number 2\n",
      "2\n"
     ]
    },
    {
     "ename": "NameError",
     "evalue": "name 'adition' is not defined",
     "output_type": "error",
     "traceback": [
      "\u001b[1;31m---------------------------------------------------------------------------\u001b[0m",
      "\u001b[1;31mNameError\u001b[0m                                 Traceback (most recent call last)",
      "Input \u001b[1;32mIn [18]\u001b[0m, in \u001b[0;36m<cell line: 3>\u001b[1;34m()\u001b[0m\n\u001b[0;32m      1\u001b[0m num1\u001b[38;5;241m=\u001b[39m\u001b[38;5;28mint\u001b[39m(\u001b[38;5;28minput\u001b[39m(\u001b[38;5;124m'\u001b[39m\u001b[38;5;124menter the number \u001b[39m\u001b[38;5;124m'\u001b[39m))\n\u001b[0;32m      2\u001b[0m num2\u001b[38;5;241m=\u001b[39m\u001b[38;5;28mint\u001b[39m(\u001b[38;5;28minput\u001b[39m())\n\u001b[1;32m----> 3\u001b[0m \u001b[38;5;28mprint\u001b[39m(\u001b[43madition\u001b[49m(num1,nmu2))\n\u001b[0;32m      5\u001b[0m \u001b[38;5;28;01mdef\u001b[39;00m \u001b[38;5;21madition\u001b[39m(num1,num2):\n\u001b[0;32m      6\u001b[0m     sumis\u001b[38;5;241m=\u001b[39mnum1\u001b[38;5;241m+\u001b[39mnum2\n",
      "\u001b[1;31mNameError\u001b[0m: name 'adition' is not defined"
     ]
    }
   ],
   "source": [
    "num1=int(input('enter the number '))\n",
    "num2=int(input())\n",
    "print(adition(num1,nmu2))\n",
    "\n",
    "def adition(num1,num2):\n",
    "    sumis=num1+num2\n",
    "    return sumis"
   ]
  },
  {
   "cell_type": "code",
   "execution_count": 29,
   "id": "f39fc16d",
   "metadata": {},
   "outputs": [
    {
     "name": "stdout",
     "output_type": "stream",
     "text": [
      "enter the number 55\n",
      "5\n",
      "60\n"
     ]
    }
   ],
   "source": [
    "def adition(num1,num2):\n",
    "    sumis=num1+num2\n",
    "    return sumis\n",
    "num1=int(input('enter the number '))\n",
    "num2=int(input())\n",
    "print(adition(num1,num2))"
   ]
  },
  {
   "cell_type": "code",
   "execution_count": 30,
   "id": "978e4968",
   "metadata": {},
   "outputs": [
    {
     "name": "stdout",
     "output_type": "stream",
     "text": [
      "enter the number 5\n",
      "5\n",
      "10\n"
     ]
    }
   ],
   "source": [
    "def adition():\n",
    "    num=int(input('enter the number '))\n",
    "    num2-int(input())\n",
    "    sum=num+num2\n",
    "    print(sum)\n",
    "\n",
    "adition()"
   ]
  },
  {
   "cell_type": "code",
   "execution_count": 9,
   "id": "449c504e",
   "metadata": {},
   "outputs": [
    {
     "name": "stdout",
     "output_type": "stream",
     "text": [
      "enter your string amaljith\n",
      "m l j i t h "
     ]
    }
   ],
   "source": [
    "str1=input('enter your string ')\n",
    "for i in str1:\n",
    "    count=0\n",
    "\n",
    "    for j in str1:\n",
    "        if i==j:\n",
    "            count+=1\n",
    "        if count > 1:\n",
    "            break\n",
    "    if count==1:\n",
    "        print(i,end=' ')\n",
    "    \n"
   ]
  },
  {
   "cell_type": "code",
   "execution_count": 12,
   "id": "df75284f",
   "metadata": {},
   "outputs": [
    {
     "name": "stdout",
     "output_type": "stream",
     "text": [
      "enter a string amaljith\n",
      "m\n"
     ]
    }
   ],
   "source": [
    "str1=input('enter a string ')\n",
    "for i in str1:\n",
    "    if str1.count(i)==1:\n",
    "        print(i)\n",
    "        break"
   ]
  },
  {
   "cell_type": "code",
   "execution_count": 17,
   "id": "e2959bd0",
   "metadata": {},
   "outputs": [
    {
     "name": "stdout",
     "output_type": "stream",
     "text": [
      "enetr the string xddf 1587 adfg 52\n",
      "1587\n",
      "52\n"
     ]
    }
   ],
   "source": [
    "str1=input('enetr the string ')\n",
    "for i in str1.split():\n",
    "    if i.isdigit() :\n",
    "        \n",
    "        print(i)"
   ]
  },
  {
   "cell_type": "code",
   "execution_count": 20,
   "id": "f0a5004f",
   "metadata": {},
   "outputs": [
    {
     "name": "stdout",
     "output_type": "stream",
     "text": [
      "22\n",
      "2222\n",
      "222222\n"
     ]
    }
   ],
   "source": [
    "for i in range(2,7,2):\n",
    "    print(i*'2')"
   ]
  }
 ],
 "metadata": {
  "kernelspec": {
   "display_name": "Python 3 (ipykernel)",
   "language": "python",
   "name": "python3"
  },
  "language_info": {
   "codemirror_mode": {
    "name": "ipython",
    "version": 3
   },
   "file_extension": ".py",
   "mimetype": "text/x-python",
   "name": "python",
   "nbconvert_exporter": "python",
   "pygments_lexer": "ipython3",
   "version": "3.10.3"
  }
 },
 "nbformat": 4,
 "nbformat_minor": 5
}
