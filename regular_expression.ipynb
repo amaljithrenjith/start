{
 "cells": [
  {
   "cell_type": "code",
   "execution_count": 2,
   "id": "74d33153",
   "metadata": {},
   "outputs": [
    {
     "name": "stdout",
     "output_type": "stream",
     "text": [
      "match found\n"
     ]
    }
   ],
   "source": [
    "import re\n",
    "pattern='eggs'\n",
    "if re.match(pattern,'eggseggseggs'):\n",
    "    print('match found')\n",
    "else:\n",
    "    print('match not found')\n"
   ]
  },
  {
   "cell_type": "code",
   "execution_count": 3,
   "id": "bb111745",
   "metadata": {},
   "outputs": [
    {
     "name": "stdout",
     "output_type": "stream",
     "text": [
      "match found\n"
     ]
    }
   ],
   "source": [
    "import re\n",
    "pattern='eggs'\n",
    "if re.match(pattern,'eggseggsbacon'):\n",
    "    print('match found')\n",
    "else:\n",
    "    print('match not found')"
   ]
  },
  {
   "cell_type": "code",
   "execution_count": 4,
   "id": "aa4de477",
   "metadata": {},
   "outputs": [
    {
     "name": "stdout",
     "output_type": "stream",
     "text": [
      "match not found\n"
     ]
    }
   ],
   "source": [
    "import re\n",
    "pattern='eggs'\n",
    "if re.match(pattern,'baconeggseggseggs'):\n",
    "    print('match found')\n",
    "else:\n",
    "    print('match not found')"
   ]
  },
  {
   "cell_type": "code",
   "execution_count": 6,
   "id": "363ca37d",
   "metadata": {},
   "outputs": [
    {
     "name": "stdout",
     "output_type": "stream",
     "text": [
      "match found\n"
     ]
    }
   ],
   "source": [
    "import re\n",
    "pattern='eggs'\n",
    "if re.search(pattern,'baconeeggseggseggs'):\n",
    "    print('match found')\n",
    "else:\n",
    "    print('match not found')\n"
   ]
  },
  {
   "cell_type": "code",
   "execution_count": 7,
   "id": "f3d00634",
   "metadata": {},
   "outputs": [
    {
     "name": "stdout",
     "output_type": "stream",
     "text": [
      "enter the string the sun in the spain\n",
      "find the space in  3\n"
     ]
    }
   ],
   "source": [
    "import re\n",
    "text=input('enter the string ')\n",
    "x= re.search('\\s',text)\n",
    "print('find the space in ',x.start())\n"
   ]
  },
  {
   "cell_type": "code",
   "execution_count": 8,
   "id": "48c974fc",
   "metadata": {},
   "outputs": [
    {
     "name": "stdout",
     "output_type": "stream",
     "text": [
      "enter the string the sun in the spain\n",
      "find the space in  (3, 4)\n"
     ]
    }
   ],
   "source": [
    "import re\n",
    "text=input('enter the string ')\n",
    "x= re.search('\\s',text)\n",
    "print('find the space in ',x.span())"
   ]
  },
  {
   "cell_type": "code",
   "execution_count": 20,
   "id": "73321392",
   "metadata": {},
   "outputs": [
    {
     "name": "stdout",
     "output_type": "stream",
     "text": [
      "find the word begin  in  Spain\n"
     ]
    }
   ],
   "source": [
    "import re\n",
    "text=r'The sun in the Spain'\n",
    "x= re.search(r'\\bS\\w+',text)\n",
    "print('find the word begin  in ',x.group())\n",
    "      "
   ]
  },
  {
   "cell_type": "code",
   "execution_count": 23,
   "id": "6778ffe7",
   "metadata": {},
   "outputs": [
    {
     "name": "stdout",
     "output_type": "stream",
     "text": [
      "['ai', 'ai']\n"
     ]
    }
   ],
   "source": [
    "import re\n",
    "text='The Rain in the Spain'\n",
    "pattern=r'ai'\n",
    "print(re.findall(pattern,text))"
   ]
  },
  {
   "cell_type": "code",
   "execution_count": 25,
   "id": "36273e79",
   "metadata": {},
   "outputs": [
    {
     "name": "stdout",
     "output_type": "stream",
     "text": [
      "The9Rain9in9the9Spain\n"
     ]
    }
   ],
   "source": [
    "import re\n",
    "text='The Rain in the Spain'\n",
    "print(re.sub('\\s','9',text))"
   ]
  },
  {
   "cell_type": "code",
   "execution_count": 26,
   "id": "6e82ffbd",
   "metadata": {},
   "outputs": [
    {
     "name": "stdout",
     "output_type": "stream",
     "text": [
      "The9Rain9in the Spain\n"
     ]
    }
   ],
   "source": [
    "import re\n",
    "text='The Rain in the Spain'\n",
    "print(re.sub('\\s','9',text,2))"
   ]
  },
  {
   "cell_type": "code",
   "execution_count": 27,
   "id": "65195429",
   "metadata": {},
   "outputs": [
    {
     "name": "stdout",
     "output_type": "stream",
     "text": [
      "I am DEV ,my name is DEV\n"
     ]
    }
   ],
   "source": [
    "import re\n",
    "text='I am Arun ,my name is Arun'\n",
    "print(re.sub('Arun','DEV',text))"
   ]
  }
 ],
 "metadata": {
  "kernelspec": {
   "display_name": "Python 3 (ipykernel)",
   "language": "python",
   "name": "python3"
  },
  "language_info": {
   "codemirror_mode": {
    "name": "ipython",
    "version": 3
   },
   "file_extension": ".py",
   "mimetype": "text/x-python",
   "name": "python",
   "nbconvert_exporter": "python",
   "pygments_lexer": "ipython3",
   "version": "3.10.3"
  }
 },
 "nbformat": 4,
 "nbformat_minor": 5
}
