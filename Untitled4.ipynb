{
 "cells": [
  {
   "cell_type": "code",
   "execution_count": 9,
   "id": "3c3a9d01",
   "metadata": {},
   "outputs": [
    {
     "name": "stdout",
     "output_type": "stream",
     "text": [
      "enter the first value 5\n",
      "enter the second value 6\n",
      "enter the third value 8\n",
      "third number is bigger\n"
     ]
    }
   ],
   "source": [
    "num1=int(input(\"enter the first value \"))\n",
    "num2=int(input(\"enter the second value \"))\n",
    "num3=int(input(\"enter the third value \"))\n",
    "if num1>num2 and num1>num3:\n",
    "    print(\"first number is bigger\")\n",
    "elif num2>num3:\n",
    "    print(\"second number is bigger\")\n",
    "else:\n",
    "    print(\"third number is bigger\")"
   ]
  },
  {
   "cell_type": "code",
   "execution_count": null,
   "id": "68e39a98",
   "metadata": {},
   "outputs": [],
   "source": []
  },
  {
   "cell_type": "code",
   "execution_count": null,
   "id": "027d2d86",
   "metadata": {},
   "outputs": [],
   "source": []
  }
 ],
 "metadata": {
  "kernelspec": {
   "display_name": "Python 3 (ipykernel)",
   "language": "python",
   "name": "python3"
  },
  "language_info": {
   "codemirror_mode": {
    "name": "ipython",
    "version": 3
   },
   "file_extension": ".py",
   "mimetype": "text/x-python",
   "name": "python",
   "nbconvert_exporter": "python",
   "pygments_lexer": "ipython3",
   "version": "3.10.3"
  }
 },
 "nbformat": 4,
 "nbformat_minor": 5
}
