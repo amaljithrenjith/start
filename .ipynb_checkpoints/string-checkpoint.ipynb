{
 "cells": [
  {
   "cell_type": "code",
   "execution_count": 1,
   "id": "7815b0ae",
   "metadata": {},
   "outputs": [
    {
     "name": "stdout",
     "output_type": "stream",
     "text": [
      "pythonstring\n"
     ]
    }
   ],
   "source": [
    " #string concatenation\n",
    "s='python''string'\n",
    "print(s)"
   ]
  },
  {
   "cell_type": "code",
   "execution_count": 2,
   "id": "0fa83b86",
   "metadata": {},
   "outputs": [
    {
     "name": "stdout",
     "output_type": "stream",
     "text": [
      "pythonstring\n"
     ]
    }
   ],
   "source": [
    "s='python'+'string'\n",
    "print(s)"
   ]
  },
  {
   "cell_type": "code",
   "execution_count": 3,
   "id": "5ce0d8b3",
   "metadata": {},
   "outputs": [
    {
     "name": "stdout",
     "output_type": "stream",
     "text": [
      "pythonstring\n"
     ]
    }
   ],
   "source": [
    "\n",
    "s='python'\n",
    "s+='string'\n",
    "print(s)"
   ]
  },
  {
   "cell_type": "code",
   "execution_count": 4,
   "id": "624e7554",
   "metadata": {},
   "outputs": [
    {
     "name": "stdout",
     "output_type": "stream",
     "text": [
      "pythonstring\n"
     ]
    }
   ],
   "source": [
    "s1='python'\n",
    "s2=s1+'string'\n",
    "print(s2)"
   ]
  },
  {
   "cell_type": "code",
   "execution_count": 12,
   "id": "d0b6cd86",
   "metadata": {},
   "outputs": [
    {
     "name": "stdout",
     "output_type": "stream",
     "text": [
      "python string\n"
     ]
    }
   ],
   "source": [
    "s1='python'\n",
    "s2='string'\n",
    "s=' '.join([s1,s2])\n",
    "print(s)"
   ]
  },
  {
   "cell_type": "code",
   "execution_count": 14,
   "id": "06a07479",
   "metadata": {},
   "outputs": [
    {
     "data": {
      "text/plain": [
       "'pythonstring'"
      ]
     },
     "execution_count": 14,
     "metadata": {},
     "output_type": "execute_result"
    }
   ],
   "source": [
    "s1='python'\n",
    "s2='string'\n",
    "f'{s1}{s2}'"
   ]
  },
  {
   "cell_type": "code",
   "execution_count": 20,
   "id": "c82ec10c",
   "metadata": {},
   "outputs": [
    {
     "name": "stdout",
     "output_type": "stream",
     "text": [
      "python string\n"
     ]
    }
   ],
   "source": [
    "s1='python'\n",
    "s2='string'\n",
    "print('{} {}'.format(s1,s2))"
   ]
  },
  {
   "cell_type": "code",
   "execution_count": 24,
   "id": "3ffe1b3c",
   "metadata": {},
   "outputs": [
    {
     "name": "stdout",
     "output_type": "stream",
     "text": [
      "python string\n"
     ]
    }
   ],
   "source": [
    "s1='python'\n",
    "s2='string'\n",
    "print('%s %s' %(s1,s2))"
   ]
  },
  {
   "cell_type": "code",
   "execution_count": 29,
   "id": "9502cb26",
   "metadata": {},
   "outputs": [
    {
     "name": "stdout",
     "output_type": "stream",
     "text": [
      "4\n"
     ]
    }
   ],
   "source": [
    "s1='hello everyone'\n",
    "print(s1.count('e'))"
   ]
  },
  {
   "cell_type": "code",
   "execution_count": 30,
   "id": "73542469",
   "metadata": {},
   "outputs": [
    {
     "name": "stdout",
     "output_type": "stream",
     "text": [
      "2\n"
     ]
    }
   ],
   "source": [
    "compny='cb tech tvm'\n",
    "print(compny.count('t'))"
   ]
  },
  {
   "cell_type": "code",
   "execution_count": 31,
   "id": "390350bf",
   "metadata": {},
   "outputs": [
    {
     "name": "stdout",
     "output_type": "stream",
     "text": [
      "0\n"
     ]
    }
   ],
   "source": [
    "com='cb tech tvm'\n",
    "print(com.count('q'))"
   ]
  },
  {
   "cell_type": "code",
   "execution_count": 32,
   "id": "80fe4911",
   "metadata": {},
   "outputs": [
    {
     "name": "stdout",
     "output_type": "stream",
     "text": [
      "3\n"
     ]
    }
   ],
   "source": [
    "s1='good morning'\n",
    "print(s1.count('o'))"
   ]
  },
  {
   "cell_type": "code",
   "execution_count": 43,
   "id": "96c11278",
   "metadata": {},
   "outputs": [
    {
     "name": "stdout",
     "output_type": "stream",
     "text": [
      "3\n"
     ]
    }
   ],
   "source": [
    "s1='good morning'\n",
    "count=0\n",
    "for i in s1:\n",
    "    if i=='o':\n",
    "        count=count+1\n",
    "print(count)"
   ]
  },
  {
   "cell_type": "code",
   "execution_count": 47,
   "id": "62ace230",
   "metadata": {},
   "outputs": [
    {
     "name": "stdout",
     "output_type": "stream",
     "text": [
      "0\n"
     ]
    }
   ],
   "source": [
    "x=[['we are good ','how are you'],['iam in ukraine','how can i be good']]\n",
    "print(x.count('o'))"
   ]
  },
  {
   "cell_type": "code",
   "execution_count": 49,
   "id": "fe040f7c",
   "metadata": {},
   "outputs": [
    {
     "name": "stdout",
     "output_type": "stream",
     "text": [
      "0\n",
      "0\n"
     ]
    }
   ],
   "source": [
    "x=[['we are good ','how are you'],['iam in ukraine','how can i be good']]\n",
    "for i in x:\n",
    "    print(i.count('o'))"
   ]
  },
  {
   "cell_type": "code",
   "execution_count": 52,
   "id": "5f2edbd2",
   "metadata": {},
   "outputs": [
    {
     "name": "stdout",
     "output_type": "stream",
     "text": [
      "0 10\n",
      "1 20\n",
      "2 30\n"
     ]
    }
   ],
   "source": [
    "#enumenator function to check inside the list// it wil print index and value\n",
    "a=[10,20,30]\n",
    "for i,j in enumerate(a):\n",
    "    print(i,j)"
   ]
  },
  {
   "cell_type": "code",
   "execution_count": 51,
   "id": "a47d713c",
   "metadata": {},
   "outputs": [
    {
     "name": "stdout",
     "output_type": "stream",
     "text": [
      "0 ['we are good ', 'how are you']\n",
      "1 ['iam in ukraine', 'how can i be good']\n"
     ]
    }
   ],
   "source": [
    "x=[['we are good ','how are you'],['iam in ukraine','how can i be good']]\n",
    "for i,j in enumerate(x):\n",
    "    print(i,j)"
   ]
  },
  {
   "cell_type": "code",
   "execution_count": 54,
   "id": "73e0656a",
   "metadata": {},
   "outputs": [
    {
     "name": "stdout",
     "output_type": "stream",
     "text": [
      "7\n"
     ]
    }
   ],
   "source": [
    "x=[['we are good ','how are you'],['iam in ukraine','how can i be good']]\n",
    "count=0\n",
    "for i,j in enumerate(x):\n",
    "    for char in j:\n",
    "        count=count+char.count(\"o\")\n",
    "print(count)"
   ]
  },
  {
   "cell_type": "code",
   "execution_count": 56,
   "id": "aef20d91",
   "metadata": {},
   "outputs": [
    {
     "name": "stdout",
     "output_type": "stream",
     "text": [
      "amal jith r\n",
      "amal jith\n"
     ]
    }
   ],
   "source": [
    "name='amal jith'\n",
    "print(name.replace('jith','jith r'))\n",
    "print(name)"
   ]
  },
  {
   "cell_type": "code",
   "execution_count": 59,
   "id": "e6716d21",
   "metadata": {},
   "outputs": [
    {
     "name": "stdout",
     "output_type": "stream",
     "text": [
      "4\n",
      "11\n",
      "-1\n"
     ]
    }
   ],
   "source": [
    "place='trivandrum kerala'\n",
    "print(place.find('a'))\n",
    "print(place.find('kerala'))\n",
    "print(place.find('tn'))"
   ]
  }
 ],
 "metadata": {
  "kernelspec": {
   "display_name": "Python 3 (ipykernel)",
   "language": "python",
   "name": "python3"
  },
  "language_info": {
   "codemirror_mode": {
    "name": "ipython",
    "version": 3
   },
   "file_extension": ".py",
   "mimetype": "text/x-python",
   "name": "python",
   "nbconvert_exporter": "python",
   "pygments_lexer": "ipython3",
   "version": "3.10.3"
  }
 },
 "nbformat": 4,
 "nbformat_minor": 5
}
