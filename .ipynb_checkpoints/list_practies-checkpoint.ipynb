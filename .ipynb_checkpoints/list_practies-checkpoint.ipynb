{
 "cells": [
  {
   "cell_type": "code",
   "execution_count": 11,
   "id": "8625846e",
   "metadata": {},
   "outputs": [
    {
     "name": "stdout",
     "output_type": "stream",
     "text": [
      "[100, 400, 900, 1600, 2500]\n"
     ]
    }
   ],
   "source": [
    "l1=[10,20,30,40,50]\n",
    "l2=[]\n",
    "for i in l1:\n",
    "    if i not in l2:\n",
    "        l2.append(i*i)\n",
    "    \n",
    "print(l2)"
   ]
  },
  {
   "cell_type": "code",
   "execution_count": 22,
   "id": "06c8a0cb",
   "metadata": {},
   "outputs": [
    {
     "name": "stdout",
     "output_type": "stream",
     "text": [
      "[4, 16, 36]\n"
     ]
    }
   ],
   "source": [
    "l1=[1,2,3,4,5,6]\n",
    "l2=[]\n",
    "for i in l1:\n",
    "    if i%2==0:\n",
    "        l2.append(i*i)\n",
    "print(l2)"
   ]
  },
  {
   "cell_type": "code",
   "execution_count": 28,
   "id": "7a83bac4",
   "metadata": {},
   "outputs": [
    {
     "name": "stdout",
     "output_type": "stream",
     "text": [
      "axp"
     ]
    }
   ],
   "source": [
    "names=['abc','xyz','pwr']\n",
    "for i in names:\n",
    "    print(i[0],end='')"
   ]
  },
  {
   "cell_type": "code",
   "execution_count": 17,
   "id": "a19803d5",
   "metadata": {},
   "outputs": [
    {
     "name": "stdout",
     "output_type": "stream",
     "text": [
      "[2, 4, 6, 8, 10, 12, 14, 16, 18, 20, 22, 24, 26, 28, 30, 32, 34, 36, 38, 40, 42, 44, 46, 48]\n",
      "[51, 53, 55, 57, 59, 61, 63, 65, 67, 69, 71, 73, 75, 77, 79, 81, 83, 85, 87, 89, 91, 93, 95, 97, 99]\n"
     ]
    },
    {
     "ename": "ValueError",
     "evalue": "too many values to unpack (expected 2)",
     "output_type": "error",
     "traceback": [
      "\u001b[1;31m---------------------------------------------------------------------------\u001b[0m",
      "\u001b[1;31mValueError\u001b[0m                                Traceback (most recent call last)",
      "Input \u001b[1;32mIn [17]\u001b[0m, in \u001b[0;36m<cell line: 12>\u001b[1;34m()\u001b[0m\n\u001b[0;32m     10\u001b[0m         l2\u001b[38;5;241m.\u001b[39mappend(i)\n\u001b[0;32m     11\u001b[0m \u001b[38;5;28mprint\u001b[39m(l2)\n\u001b[1;32m---> 12\u001b[0m \u001b[38;5;28;01mfor\u001b[39;00m i,j \u001b[38;5;129;01min\u001b[39;00m l1,l2:\n\u001b[0;32m     13\u001b[0m     \u001b[38;5;28mprint\u001b[39m(reselt\u001b[38;5;241m.\u001b[39mappend(i\u001b[38;5;241m*\u001b[39mj))\n",
      "\u001b[1;31mValueError\u001b[0m: too many values to unpack (expected 2)"
     ]
    }
   ],
   "source": [
    "l1=[]\n",
    "l2=[]\n",
    "reselt=[]\n",
    "for i in range(1,50):\n",
    "    if i%2==0:\n",
    "        l1.append(i)\n",
    "print(l1)\n",
    "for i in range(50,100):\n",
    "    if i%2==1:\n",
    "        l2.append(i)\n",
    "print(l2)\n",
    "for i,j in l1,l2:\n",
    "    print(reselt.append(i*j))\n"
   ]
  },
  {
   "cell_type": "code",
   "execution_count": 4,
   "id": "e337e393",
   "metadata": {},
   "outputs": [
    {
     "name": "stdout",
     "output_type": "stream",
     "text": [
      "[50, 156, 270, 392, 522, 660, 806, 960, 1122, 1292, 1470, 1656, 1850, 2052, 2262, 2480, 2706, 2940, 3182, 3432, 3690, 3956, 4230, 4512, 4802]\n"
     ]
    }
   ],
   "source": [
    "l1=range(1,50)\n",
    "l2=range(50,100)\n",
    "result=[]\n",
    "for i,j in zip(l1[::2],l2[::2]):\n",
    "    result.append(i*j)\n",
    "print(result)"
   ]
  },
  {
   "cell_type": "code",
   "execution_count": 63,
   "id": "70823d19",
   "metadata": {},
   "outputs": [
    {
     "name": "stdout",
     "output_type": "stream",
     "text": [
      "[1, 2, 3, 4, 5, 6]\n"
     ]
    }
   ],
   "source": [
    "l1=[1,2,2,3,4,4,5,6,5]\n",
    "l2=[]\n",
    "for i in l1:\n",
    "    if i not in l2:\n",
    "        l2.append(i)\n",
    "print(l2)\n"
   ]
  },
  {
   "cell_type": "code",
   "execution_count": 73,
   "id": "075aab1a",
   "metadata": {},
   "outputs": [
    {
     "name": "stdout",
     "output_type": "stream",
     "text": [
      "1 2 3 4\n",
      "[1, 2, 3, 4]\n"
     ]
    }
   ],
   "source": [
    "num1=input().split()\n",
    "print(list(map(int,num1)))"
   ]
  },
  {
   "cell_type": "code",
   "execution_count": 6,
   "id": "bd9ffbd1",
   "metadata": {},
   "outputs": [
    {
     "name": "stdout",
     "output_type": "stream",
     "text": [
      "55\n"
     ]
    }
   ],
   "source": [
    "l1=[5,0,55,4,25,2]\n",
    "temp=l1[0]\n",
    "for i in l1:\n",
    "    if i>temp:\n",
    "        temp=i\n",
    "print(temp)"
   ]
  },
  {
   "cell_type": "code",
   "execution_count": 9,
   "id": "3b647644",
   "metadata": {},
   "outputs": [
    {
     "name": "stdout",
     "output_type": "stream",
     "text": [
      "2 5 4 5 510\n",
      "510\n"
     ]
    }
   ],
   "source": [
    "l1=input().split()\n",
    "temp=l1[0]\n",
    "for i in l1:\n",
    "    if i>temp:\n",
    "        temp=i\n",
    "print(temp)"
   ]
  },
  {
   "cell_type": "code",
   "execution_count": 10,
   "id": "9d0f4cb0",
   "metadata": {},
   "outputs": [
    {
     "name": "stdout",
     "output_type": "stream",
     "text": [
      "5 10 20 55\n"
     ]
    },
    {
     "data": {
      "text/plain": [
       "55"
      ]
     },
     "execution_count": 10,
     "metadata": {},
     "output_type": "execute_result"
    }
   ],
   "source": [
    "num1=input().split()\n",
    "max(map(int,num1))"
   ]
  },
  {
   "cell_type": "code",
   "execution_count": 3,
   "id": "c5f3d8a1",
   "metadata": {},
   "outputs": [
    {
     "name": "stdout",
     "output_type": "stream",
     "text": [
      "2 5 4 6 \n",
      "['2']\n",
      "['5']\n",
      "['4']\n",
      "['6']\n"
     ]
    }
   ],
   "source": [
    "num1=input().split()\n",
    "for i in num1:\n",
    "    print(list(i))\n",
    "    "
   ]
  },
  {
   "cell_type": "code",
   "execution_count": 4,
   "id": "8be421cc",
   "metadata": {},
   "outputs": [
    {
     "name": "stdout",
     "output_type": "stream",
     "text": [
      "1\n",
      "1\n"
     ]
    }
   ],
   "source": [
    "lst=['abc','xyz','aba','1231']\n",
    "for i in lst:\n",
    "    if len(i)>2 and i[0]==i[-1]:\n",
    "        print(lst.count(i))"
   ]
  },
  {
   "cell_type": "code",
   "execution_count": 19,
   "id": "22ddaa67",
   "metadata": {},
   "outputs": [
    {
     "name": "stdout",
     "output_type": "stream",
     "text": [
      "2\n"
     ]
    }
   ],
   "source": [
    "lst=['abc','xyz','aba','1231']\n",
    "count=0\n",
    "for i in lst:\n",
    "    if len(i)>2 and i[0]==i[-1]:\n",
    "        count=count+1\n",
    "print(count)"
   ]
  },
  {
   "cell_type": "code",
   "execution_count": 24,
   "id": "4a9e5c79",
   "metadata": {},
   "outputs": [
    {
     "name": "stdout",
     "output_type": "stream",
     "text": [
      "1\n"
     ]
    }
   ],
   "source": [
    "lst=['abc','xyz','aba','1231','asd']\n",
    "count=0\n",
    "for i in lst:\n",
    "    if len(i)>2 and (i[::]==i[::-1]):\n",
    "        count=count+1\n",
    "print(count)\n"
   ]
  },
  {
   "cell_type": "raw",
   "id": "78fbdc3e",
   "metadata": {},
   "source": [
    "l1=[('dinu',300),('cinu',400),('binu',100),('anu',200)]\n",
    "l1.sort(65)\n",
    "print(l1)"
   ]
  },
  {
   "cell_type": "code",
   "execution_count": 3,
   "id": "947fa12d",
   "metadata": {},
   "outputs": [
    {
     "name": "stdout",
     "output_type": "stream",
     "text": [
      "[('anu', 200), ('binu', 100), ('cinu', 400), ('dinu', 300)]\n"
     ]
    }
   ],
   "source": [
    "l1=[('dinu',300),('cinu',400),('binu',100),('anu',200)]\n",
    "l2=sorted(l1)\n",
    "print(l2)"
   ]
  },
  {
   "cell_type": "code",
   "execution_count": 16,
   "id": "55b37f3e",
   "metadata": {},
   "outputs": [
    {
     "name": "stdout",
     "output_type": "stream",
     "text": [
      "[('binu', 100), ('anu', 200), ('dinu', 300), ('cinu', 400)]\n"
     ]
    }
   ],
   "source": [
    "l1=[('dinu',300),('cinu',400),('binu',100),('anu',200)]\n",
    "l1.sort(key=lambda x:x[1])\n",
    "print(l1)"
   ]
  },
  {
   "cell_type": "code",
   "execution_count": null,
   "id": "ccebba96",
   "metadata": {},
   "outputs": [],
   "source": [
    "l1=[('dinu',300),('cinu',400),('binu',100),('anu',200)]\n",
    "l2=sorted(l1,key= )\n",
    "print(l2)"
   ]
  },
  {
   "cell_type": "code",
   "execution_count": 6,
   "id": "8fd55071",
   "metadata": {},
   "outputs": [
    {
     "name": "stdout",
     "output_type": "stream",
     "text": [
      "[1, 4, 9, 16, 25]\n"
     ]
    }
   ],
   "source": [
    "l1=[1,2,3,4,5]\n",
    "l2=[]\n",
    "for i in l1:\n",
    "    l2.append(i**2)\n",
    "print(l2)"
   ]
  },
  {
   "cell_type": "code",
   "execution_count": 8,
   "id": "e17ad061",
   "metadata": {},
   "outputs": [
    {
     "name": "stdout",
     "output_type": "stream",
     "text": [
      "[1, 4, 9, 16, 25]\n"
     ]
    }
   ],
   "source": [
    "l1=[1,2,3,4,5]\n",
    "l2=[i**2 for i in l1]\n",
    "print(l2)"
   ]
  },
  {
   "cell_type": "code",
   "execution_count": 10,
   "id": "4fa3f38c",
   "metadata": {},
   "outputs": [
    {
     "name": "stdout",
     "output_type": "stream",
     "text": [
      "[4, 16]\n"
     ]
    }
   ],
   "source": [
    "l1=[1,2,3,4,5]\n",
    "l2=[i**2 for i in l1 if i%2==0]\n",
    "print(l2)"
   ]
  },
  {
   "cell_type": "code",
   "execution_count": 16,
   "id": "c9cc62db",
   "metadata": {},
   "outputs": [
    {
     "name": "stdout",
     "output_type": "stream",
     "text": [
      "['1', '2', '3']\n"
     ]
    }
   ],
   "source": [
    "str1='123abc@$%&*!'\n",
    "str2=[i for i in str1 if i.isdigit()]\n",
    "print(str2)"
   ]
  },
  {
   "cell_type": "code",
   "execution_count": 6,
   "id": "4a85d94e",
   "metadata": {},
   "outputs": [
    {
     "name": "stdout",
     "output_type": "stream",
     "text": [
      "[50, 156, 270, 392, 522, 660, 806, 960, 1122, 1292, 1470, 1656, 1850, 2052, 2262, 2480, 2706, 2940, 3182, 3432, 3690, 3956, 4230, 4512, 4802]\n"
     ]
    }
   ],
   "source": [
    "l1=range(1,50)\n",
    "l2=range(50,100)\n",
    "result=[i*j for i,j in zip(l1[::2],l2[::2]) ]\n",
    "print(result)"
   ]
  },
  {
   "cell_type": "code",
   "execution_count": 12,
   "id": "4d09b42a",
   "metadata": {},
   "outputs": [
    {
     "name": "stdout",
     "output_type": "stream",
     "text": [
      "[86, 122, 164, 212]\n"
     ]
    }
   ],
   "source": [
    "x=[5,6,7,8]\n",
    "c=[1,2,3,4]\n",
    "a,b=3,2\n",
    "y=[(a*i*i)+(b*i)+(j) for i,j in  zip(x[::],c[::])]\n",
    "print(y)"
   ]
  },
  {
   "cell_type": "code",
   "execution_count": 19,
   "id": "78c3602f",
   "metadata": {},
   "outputs": [
    {
     "data": {
      "text/plain": [
       "12"
      ]
     },
     "execution_count": 19,
     "metadata": {},
     "output_type": "execute_result"
    }
   ],
   "source": [
    "l1=[1,2,3,4,5,6]\n",
    "sum([i for i in l1 if i%2==0])\n"
   ]
  },
  {
   "cell_type": "code",
   "execution_count": 25,
   "id": "a8224ee0",
   "metadata": {},
   "outputs": [
    {
     "name": "stdout",
     "output_type": "stream",
     "text": [
      "[101, 103, 105, 107, 109, 111, 113, 115, 117, 119, 121, 123, 125, 127, 129, 131, 133, 135, 137, 139, 141, 143, 145, 147, 149]\n",
      "[100, 102, 104, 106, 108, 110, 112, 114, 116, 118, 120, 122, 124, 126, 128, 130, 132, 134, 136, 138, 140, 142, 144, 146, 148]\n"
     ]
    }
   ],
   "source": [
    "odd=[]\n",
    "evn=[]\n",
    "[evn.append(i) if i%2==0 else odd.append(i) for i in range(100,150)]\n",
    "print(odd)\n",
    "print(evn)\n"
   ]
  },
  {
   "cell_type": "markdown",
   "id": "ebeadc7f",
   "metadata": {},
   "source": [
    "### tuple"
   ]
  },
  {
   "cell_type": "code",
   "execution_count": 27,
   "id": "24e23db8",
   "metadata": {},
   "outputs": [
    {
     "data": {
      "text/plain": [
       "list"
      ]
     },
     "execution_count": 27,
     "metadata": {},
     "output_type": "execute_result"
    }
   ],
   "source": [
    "#tuple \n",
    "a=[1]\n",
    "type(a)"
   ]
  },
  {
   "cell_type": "code",
   "execution_count": null,
   "id": "839d194b",
   "metadata": {},
   "outputs": [],
   "source": []
  },
  {
   "cell_type": "code",
   "execution_count": 28,
   "id": "b56cc2a2",
   "metadata": {},
   "outputs": [
    {
     "data": {
      "text/plain": [
       "int"
      ]
     },
     "execution_count": 28,
     "metadata": {},
     "output_type": "execute_result"
    }
   ],
   "source": [
    "a=(1)\n",
    "type(a)"
   ]
  },
  {
   "cell_type": "code",
   "execution_count": 29,
   "id": "f0cc7956",
   "metadata": {},
   "outputs": [
    {
     "data": {
      "text/plain": [
       "tuple"
      ]
     },
     "execution_count": 29,
     "metadata": {},
     "output_type": "execute_result"
    }
   ],
   "source": [
    "a=(1,)\n",
    "type(a)"
   ]
  },
  {
   "cell_type": "code",
   "execution_count": 30,
   "id": "29e1ae08",
   "metadata": {},
   "outputs": [
    {
     "name": "stdout",
     "output_type": "stream",
     "text": [
      "(1, 2, 3, 4, 5)\n"
     ]
    }
   ],
   "source": [
    "a=1,2,3,4,5\n",
    "print(a)"
   ]
  },
  {
   "cell_type": "code",
   "execution_count": 31,
   "id": "3d93fe86",
   "metadata": {},
   "outputs": [
    {
     "ename": "AttributeError",
     "evalue": "'tuple' object has no attribute 'sort'",
     "output_type": "error",
     "traceback": [
      "\u001b[1;31m---------------------------------------------------------------------------\u001b[0m",
      "\u001b[1;31mAttributeError\u001b[0m                            Traceback (most recent call last)",
      "Input \u001b[1;32mIn [31]\u001b[0m, in \u001b[0;36m<cell line: 2>\u001b[1;34m()\u001b[0m\n\u001b[0;32m      1\u001b[0m a\u001b[38;5;241m=\u001b[39m(\u001b[38;5;241m1\u001b[39m,\u001b[38;5;241m2\u001b[39m,\u001b[38;5;241m3\u001b[39m,\u001b[38;5;241m4\u001b[39m)\n\u001b[1;32m----> 2\u001b[0m \u001b[43ma\u001b[49m\u001b[38;5;241;43m.\u001b[39;49m\u001b[43msort\u001b[49m()\n\u001b[0;32m      3\u001b[0m \u001b[38;5;28mprint\u001b[39m(a)\n",
      "\u001b[1;31mAttributeError\u001b[0m: 'tuple' object has no attribute 'sort'"
     ]
    }
   ],
   "source": [
    "a=(1,2,3,4)\n",
    "a.sort()\n",
    "print(a)"
   ]
  },
  {
   "cell_type": "code",
   "execution_count": 37,
   "id": "5c881c17",
   "metadata": {},
   "outputs": [
    {
     "name": "stdout",
     "output_type": "stream",
     "text": [
      "(2, 3, 4, 6, 7)\n"
     ]
    }
   ],
   "source": [
    "a=(2,3,4,6,7)\n",
    "a[0]==1\n",
    "print(a)"
   ]
  },
  {
   "cell_type": "code",
   "execution_count": 38,
   "id": "4af02372",
   "metadata": {},
   "outputs": [
    {
     "ename": "AttributeError",
     "evalue": "'tuple' object has no attribute 'reverse'",
     "output_type": "error",
     "traceback": [
      "\u001b[1;31m---------------------------------------------------------------------------\u001b[0m",
      "\u001b[1;31mAttributeError\u001b[0m                            Traceback (most recent call last)",
      "Input \u001b[1;32mIn [38]\u001b[0m, in \u001b[0;36m<cell line: 2>\u001b[1;34m()\u001b[0m\n\u001b[0;32m      1\u001b[0m a\u001b[38;5;241m=\u001b[39m\u001b[38;5;241m1\u001b[39m,\u001b[38;5;241m2\u001b[39m,\u001b[38;5;241m3\u001b[39m,\u001b[38;5;241m4\u001b[39m,\u001b[38;5;241m5\u001b[39m\n\u001b[1;32m----> 2\u001b[0m \u001b[43ma\u001b[49m\u001b[38;5;241;43m.\u001b[39;49m\u001b[43mreverse\u001b[49m()\n\u001b[0;32m      3\u001b[0m \u001b[38;5;28mprint\u001b[39m(a)\n",
      "\u001b[1;31mAttributeError\u001b[0m: 'tuple' object has no attribute 'reverse'"
     ]
    }
   ],
   "source": [
    "a=1,2,3,4,5\n",
    "a.reverse()\n",
    "print(a)"
   ]
  },
  {
   "cell_type": "code",
   "execution_count": 40,
   "id": "11a5b0b9",
   "metadata": {},
   "outputs": [
    {
     "name": "stdout",
     "output_type": "stream",
     "text": [
      "100\n",
      "(1, 2, 3, [100, 200])\n"
     ]
    }
   ],
   "source": [
    "t=1,2,3,[100,200]\n",
    "print(t[3][0])\n"
   ]
  },
  {
   "cell_type": "code",
   "execution_count": 42,
   "id": "a37a380e",
   "metadata": {},
   "outputs": [
    {
     "name": "stdout",
     "output_type": "stream",
     "text": [
      "10\n",
      "20\n",
      "30\n"
     ]
    }
   ],
   "source": [
    "a=10,20,30\n",
    "num1,num2,num3=a\n",
    "print(num1)\n",
    "print(num2)\n",
    "print(num3)\n",
    "\n"
   ]
  },
  {
   "cell_type": "code",
   "execution_count": 43,
   "id": "62aca019",
   "metadata": {},
   "outputs": [
    {
     "name": "stdout",
     "output_type": "stream",
     "text": [
      "1\n",
      "2\n"
     ]
    }
   ],
   "source": [
    "a=1,2,3\n",
    "f,_,g=a\n",
    "print(f)\n",
    "print(_)"
   ]
  },
  {
   "cell_type": "code",
   "execution_count": 45,
   "id": "1532d8f5",
   "metadata": {},
   "outputs": [
    {
     "name": "stdout",
     "output_type": "stream",
     "text": [
      "amal\n",
      "kerala\n"
     ]
    }
   ],
   "source": [
    "t=('amal',23,1000,'tvm','kerala')\n",
    "name=t[0]\n",
    "state=t[-1]\n",
    "print(name)\n",
    "print(state)"
   ]
  },
  {
   "cell_type": "code",
   "execution_count": 46,
   "id": "64384bec",
   "metadata": {},
   "outputs": [
    {
     "name": "stdout",
     "output_type": "stream",
     "text": [
      "amal\n",
      "kerala\n"
     ]
    }
   ],
   "source": [
    "t=('amal',23,1000,'tvm','kerala')\n",
    "name,*_,state=t\n",
    "print(name)\n",
    "print(state)"
   ]
  },
  {
   "cell_type": "code",
   "execution_count": 50,
   "id": "b876233b",
   "metadata": {},
   "outputs": [
    {
     "name": "stdout",
     "output_type": "stream",
     "text": [
      "amal\n",
      "tvm\n",
      "kerala\n",
      "23 1000\n"
     ]
    }
   ],
   "source": [
    "t=('amal',23,1000,'tvm','kerala')\n",
    "name,*_,city,state=t\n",
    "print(name)\n",
    "print(city)\n",
    "print(state)\n",
    "print(*_)"
   ]
  },
  {
   "cell_type": "code",
   "execution_count": 26,
   "id": "f0e56032",
   "metadata": {},
   "outputs": [
    {
     "name": "stdout",
     "output_type": "stream",
     "text": [
      "60000\n"
     ]
    }
   ],
   "source": [
    "emp1=('amal',\"ap\",10000)\n",
    "emp2=('jagan','bp',20000)\n",
    "emp3=('deyash','cp',30000)\n",
    "data=[emp1,emp2,emp3]\n",
    "salary=0\n",
    "for i in data:\n",
    "    salary=salary+i[2]\n",
    "print(salary)\n",
    "    "
   ]
  }
 ],
 "metadata": {
  "kernelspec": {
   "display_name": "Python 3 (ipykernel)",
   "language": "python",
   "name": "python3"
  },
  "language_info": {
   "codemirror_mode": {
    "name": "ipython",
    "version": 3
   },
   "file_extension": ".py",
   "mimetype": "text/x-python",
   "name": "python",
   "nbconvert_exporter": "python",
   "pygments_lexer": "ipython3",
   "version": "3.10.3"
  }
 },
 "nbformat": 4,
 "nbformat_minor": 5
}
