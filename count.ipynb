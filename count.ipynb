{
 "cells": [
  {
   "cell_type": "code",
   "execution_count": 6,
   "id": "7e9d152e",
   "metadata": {},
   "outputs": [
    {
     "name": "stdout",
     "output_type": "stream",
     "text": [
      "the no of vowels is 6\n"
     ]
    }
   ],
   "source": [
    "str1=\"i love india \"\n",
    "count=0\n",
    "for i in str1:\n",
    "    if i in 'aeiouAEIOU':\n",
    "        count=count+1\n",
    "print('the no of vowels is',count)"
   ]
  },
  {
   "cell_type": "code",
   "execution_count": 8,
   "id": "2b04064a",
   "metadata": {},
   "outputs": [
    {
     "name": "stdout",
     "output_type": "stream",
     "text": [
      "enter the string i love india\n",
      "the vowel a in 1\n",
      "the vowel e in 1\n",
      "the vowel i in 3\n",
      "the vowel o in 1\n",
      "the vowel u in 0\n"
     ]
    }
   ],
   "source": [
    "#COUNT THE INDUGAL VOWELS IN STRING\n",
    "name=input(\"enter the string \")\n",
    "count=0\n",
    "str1=name.lower()\n",
    "print('the vowel a in',str1.count('a'))\n",
    "print('the vowel e in',str1.count('e'))\n",
    "print('the vowel i in',str1.count('i'))\n",
    "print('the vowel o in',str1.count('o'))\n",
    "print('the vowel u in',str1.count('u'))\n",
    "\n",
    "\n"
   ]
  },
  {
   "cell_type": "code",
   "execution_count": 13,
   "id": "25aab065",
   "metadata": {},
   "outputs": [
    {
     "name": "stdout",
     "output_type": "stream",
     "text": [
      "['cbtech', 'technolagy', 'tvm']\n",
      "['cbtech', 'technolagy', 'tvm']\n",
      "['cb', 'ech ', 'echnolagy ', 'vm']\n"
     ]
    }
   ],
   "source": [
    "compny='cbtech technolagy tvm'\n",
    "print(compny.split())\n",
    "print(compny.split(\" \"))\n",
    "print(compny.split('t'))\n",
    "\n"
   ]
  },
  {
   "cell_type": "code",
   "execution_count": 16,
   "id": "2b539a89",
   "metadata": {},
   "outputs": [
    {
     "name": "stdout",
     "output_type": "stream",
     "text": [
      "xy z\n",
      "xy z    \n",
      "    xy z\n"
     ]
    }
   ],
   "source": [
    "#strip function\n",
    "word='    xy z    '\n",
    "print(word.strip())\n",
    "print(word.lstrip())\n",
    "print(word.rstrip())"
   ]
  },
  {
   "cell_type": "code",
   "execution_count": 20,
   "id": "36577a9a",
   "metadata": {},
   "outputs": [
    {
     "name": "stdout",
     "output_type": "stream",
     "text": [
      "hi iam ## here\n",
      "hi iam  here\n"
     ]
    }
   ],
   "source": [
    "x='#####hi iam ## here##'\n",
    "print(x.strip('#'))\n",
    "y=x.strip('#')\n",
    "print(y.replace('#',''))\n"
   ]
  },
  {
   "cell_type": "code",
   "execution_count": 22,
   "id": "3550ba04",
   "metadata": {},
   "outputs": [
    {
     "name": "stdout",
     "output_type": "stream",
     "text": [
      "r$plac$\n"
     ]
    }
   ],
   "source": [
    "##replace function\n",
    "x='replace'\n",
    "x=x.replace('e','$')\n",
    "print(x)"
   ]
  },
  {
   "cell_type": "code",
   "execution_count": 25,
   "id": "517459eb",
   "metadata": {},
   "outputs": [
    {
     "name": "stdout",
     "output_type": "stream",
     "text": [
      "replace\n"
     ]
    }
   ],
   "source": [
    "x='replace'\n",
    "x=x.replace('e','$').replace('$','e')\n",
    "print(x)"
   ]
  },
  {
   "cell_type": "code",
   "execution_count": 23,
   "id": "370c4ba4",
   "metadata": {},
   "outputs": [
    {
     "name": "stdout",
     "output_type": "stream",
     "text": [
      "replac$\n"
     ]
    }
   ],
   "source": [
    "x='replace'\n",
    "x=x.replace('e','$').replace('$','e',1)\n",
    "print(x)"
   ]
  },
  {
   "cell_type": "code",
   "execution_count": 24,
   "id": "7986269a",
   "metadata": {},
   "outputs": [
    {
     "name": "stdout",
     "output_type": "stream",
     "text": [
      "replace\n"
     ]
    }
   ],
   "source": [
    "x='replace'\n",
    "x=x.replace('e','$').replace('$','e',2)\n",
    "print(x)"
   ]
  },
  {
   "cell_type": "code",
   "execution_count": 31,
   "id": "11f72237",
   "metadata": {},
   "outputs": [
    {
     "name": "stdout",
     "output_type": "stream",
     "text": [
      "h:e:l:l:o: :w:o:r:l:d\n",
      "dlrow olleh\n"
     ]
    }
   ],
   "source": [
    "s1='abc'\n",
    "s2='xyz'\n",
    "s='hello world'\n",
    "s3=':'.join(s)\n",
    "s4=''.join(reversed(s))\n",
    "print(s3)\n",
    "print(s4)"
   ]
  },
  {
   "cell_type": "code",
   "execution_count": 36,
   "id": "78ec7423",
   "metadata": {},
   "outputs": [
    {
     "name": "stdout",
     "output_type": "stream",
     "text": [
      "hello world\n",
      "HELLO WORLD\n",
      "Hello World\n",
      "Hello world\n",
      "hELLO wORLD\n"
     ]
    }
   ],
   "source": [
    "str1=\"Hello World\"\n",
    "print(str1.lower())\n",
    "print(str1.upper())\n",
    "print(str1.title())\n",
    "print(str1.capitalize())\n",
    "print(str1.swapcase())"
   ]
  },
  {
   "cell_type": "code",
   "execution_count": 37,
   "id": "14939498",
   "metadata": {},
   "outputs": [
    {
     "name": "stdout",
     "output_type": "stream",
     "text": [
      "!\"#$%&'()*+,-./:;<=>?@[\\]^_`{|}~\n"
     ]
    }
   ],
   "source": [
    "import string\n",
    "print(string.punctuation)"
   ]
  },
  {
   "cell_type": "code",
   "execution_count": 102,
   "id": "ecbe066d",
   "metadata": {},
   "outputs": [
    {
     "name": "stdout",
     "output_type": "stream",
     "text": [
      "enter the number 5\n",
      "* \n",
      "* * \n",
      "* * * \n",
      "* * * * \n",
      "* * * \n",
      "* * \n",
      "* \n"
     ]
    }
   ],
   "source": [
    "num=int(input(\"enter the number \"))\n",
    "for i in range(1,num):\n",
    "    for j in range(1,i+1):\n",
    "        print(\"*\",end=\" \")\n",
    "            \n",
    "    print()\n",
    "for k in range(num-1,1,-1):\n",
    "    for l in range(k,1,-1):\n",
    "        print(\"*\",end=\" \")\n",
    "    print()"
   ]
  },
  {
   "cell_type": "code",
   "execution_count": 40,
   "id": "7646ec3b",
   "metadata": {
    "scrolled": true
   },
   "outputs": [
    {
     "name": "stdout",
     "output_type": "stream",
     "text": [
      "p\n",
      "pr\n",
      "pro\n",
      "prog\n",
      "progr\n",
      "progra\n",
      "program\n",
      "programi\n",
      "programin\n",
      "programing\n"
     ]
    }
   ],
   "source": [
    "py='programing'\n",
    "str=''\n",
    "for i in py:\n",
    "    for j in i:\n",
    "        str=str+i\n",
    "        print(str,end='')\n",
    "    print()\n",
    "\n",
    "\n"
   ]
  },
  {
   "cell_type": "code",
   "execution_count": 6,
   "id": "d600cfe1",
   "metadata": {},
   "outputs": [
    {
     "name": "stdout",
     "output_type": "stream",
     "text": [
      "p\n",
      "pr\n",
      "pro\n",
      "prog\n",
      "progr\n",
      "progra\n",
      "program\n",
      "programi\n",
      "programin\n",
      "programing\n",
      "\n",
      "programingp\n",
      "programingpr\n",
      "programingpro\n",
      "programingprog\n",
      "programingprogr\n",
      "programingprogra\n",
      "programingprogram\n",
      "programingprogrami\n",
      "programingprogramin\n",
      "programingprograming\n"
     ]
    }
   ],
   "source": [
    "py='programing'\n",
    "str=''\n",
    "for i in py:\n",
    "    str+=i\n",
    "    print(str)\n",
    "print()\n",
    "for i in py:\n",
    "    str+=i\n",
    "    print(str)\n",
    "       \n",
    "    "
   ]
  },
  {
   "cell_type": "code",
   "execution_count": 123,
   "id": "7933c4ad",
   "metadata": {},
   "outputs": [
    {
     "name": "stdout",
     "output_type": "stream",
     "text": [
      "p\n",
      "pr\n",
      "pro\n",
      "prog\n",
      "progr\n",
      "progra\n",
      "program\n",
      "programi\n",
      "programin\n",
      "programing\n",
      "\n"
     ]
    }
   ],
   "source": [
    "py='programing'\n",
    "str=''\n",
    "for i in py:\n",
    "    str+=i\n",
    "    print(str)\n",
    "print()"
   ]
  },
  {
   "cell_type": "code",
   "execution_count": 5,
   "id": "468d15b5",
   "metadata": {},
   "outputs": [
    {
     "name": "stdout",
     "output_type": "stream",
     "text": [
      "programing\n",
      "programin\n",
      "programi\n",
      "program\n",
      "progra\n",
      "progr\n",
      "prog\n",
      "pro\n",
      "pr\n",
      "p\n",
      "p\n",
      "pr\n",
      "pro\n",
      "prog\n",
      "progr\n",
      "progra\n",
      "program\n",
      "programi\n",
      "programin\n",
      "programing\n"
     ]
    }
   ],
   "source": [
    "py='programing'\n",
    "for i in range(len(py)):\n",
    "    print(py[ :len(py)-i])\n",
    "for i in range(len(py)):\n",
    "    print(py[0:i+1])"
   ]
  },
  {
   "cell_type": "code",
   "execution_count": 125,
   "id": "f2dd0a54",
   "metadata": {},
   "outputs": [
    {
     "name": "stdout",
     "output_type": "stream",
     "text": [
      "enter the name amaljith\n",
      "tis not\n"
     ]
    }
   ],
   "source": [
    "name=input('enter the name ')\n",
    "if name==name[ : :-1]:\n",
    "    print('its paliendrom')\n",
    "else:\n",
    "    print('it is not')"
   ]
  },
  {
   "cell_type": "code",
   "execution_count": 128,
   "id": "f2939846",
   "metadata": {},
   "outputs": [
    {
     "name": "stdout",
     "output_type": "stream",
     "text": [
      "enter the name amma\n",
      "its paliendrom\n"
     ]
    }
   ],
   "source": [
    "name=input('enter the name ')\n",
    "if name==''.join(reversed(name)):\n",
    "    print('its paliendrom')\n",
    "else:\n",
    "    print('it is not')"
   ]
  },
  {
   "cell_type": "code",
   "execution_count": 9,
   "id": "6f65ed01",
   "metadata": {},
   "outputs": [
    {
     "name": "stdout",
     "output_type": "stream",
     "text": [
      "enter the name amma\n",
      "its paliyandrom\n"
     ]
    }
   ],
   "source": [
    "name=input('enter the name ')\n",
    "str1=''\n",
    "for i in name:\n",
    "    str1=i+str1\n",
    "if name==str1:\n",
    "    print('its paliyandrom')\n",
    "else:\n",
    "    print('its not')"
   ]
  },
  {
   "cell_type": "code",
   "execution_count": 13,
   "id": "4f7e36d8",
   "metadata": {},
   "outputs": [
    {
     "name": "stdout",
     "output_type": "stream",
     "text": [
      "jith amal \n"
     ]
    }
   ],
   "source": [
    "x='amal jith'\n",
    "str1=''\n",
    "for i in x.split(' '):\n",
    "    str1=i+' '+str1\n",
    "print(str1)"
   ]
  },
  {
   "cell_type": "code",
   "execution_count": 9,
   "id": "6c42a57c",
   "metadata": {},
   "outputs": [
    {
     "name": "stdout",
     "output_type": "stream",
     "text": [
      "enter the name amal\n",
      "l a m a\n"
     ]
    }
   ],
   "source": [
    "name=input('enter the name ')\n",
    "name1=name[ : :-1]\n",
    "print(' '.join((name1)))"
   ]
  },
  {
   "cell_type": "code",
   "execution_count": 8,
   "id": "e4005f17",
   "metadata": {},
   "outputs": [],
   "source": [
    "for i in range(500):\n",
    "    if i>100:\n",
    "        istr=str(i)\n",
    "        size=len(istr)\n",
    "        rev=istr[::-1]\n",
    "if i==rev:\n",
    "    print(i)\n",
    "        \n",
    "        \n",
    "        \n",
    "        \n",
    "       \n",
    "\n",
    "        \n",
    "        \n",
    "        "
   ]
  },
  {
   "cell_type": "code",
   "execution_count": 27,
   "id": "80b75d14",
   "metadata": {},
   "outputs": [
    {
     "name": "stdout",
     "output_type": "stream",
     "text": [
      "101\n",
      "111\n",
      "121\n",
      "131\n",
      "141\n",
      "151\n",
      "161\n",
      "171\n",
      "181\n",
      "191\n",
      "202\n",
      "212\n",
      "222\n",
      "232\n",
      "242\n",
      "252\n",
      "262\n",
      "272\n",
      "282\n",
      "292\n",
      "303\n",
      "313\n",
      "323\n",
      "333\n",
      "343\n",
      "353\n",
      "363\n",
      "373\n",
      "383\n",
      "393\n",
      "404\n",
      "414\n",
      "424\n",
      "434\n",
      "444\n",
      "454\n",
      "464\n",
      "474\n",
      "484\n",
      "494\n"
     ]
    }
   ],
   "source": [
    "for i in range(1,500):\n",
    "    a=str(i)\n",
    "    if len(a)>2 and a==a[::-1]:\n",
    "        print(a)"
   ]
  },
  {
   "cell_type": "code",
   "execution_count": 7,
   "id": "70e5e835",
   "metadata": {},
   "outputs": [
    {
     "name": "stdout",
     "output_type": "stream",
     "text": [
      "123\n"
     ]
    }
   ],
   "source": [
    "num=123\n",
    "num1=str(num)\n",
    "rev=''.join(reversed(num1))\n",
    "print(num1)"
   ]
  },
  {
   "cell_type": "code",
   "execution_count": 14,
   "id": "9824fead",
   "metadata": {},
   "outputs": [
    {
     "name": "stdout",
     "output_type": "stream",
     "text": [
      "amal@gmail.com\n",
      "amal123@gmail.com\n"
     ]
    }
   ],
   "source": [
    "name='hi my name is amaljith,contact at amal@gmail.com also amal123@gmail.com'\n",
    "for i in name.split():\n",
    "    if '@' in i:\n",
    "        print(i)"
   ]
  },
  {
   "cell_type": "code",
   "execution_count": 2,
   "id": "2d783447",
   "metadata": {},
   "outputs": [
    {
     "data": {
      "text/plain": [
       "['hi',\n",
       " 'my',\n",
       " 'name',\n",
       " 'is',\n",
       " 'amaljith,contact',\n",
       " 'at',\n",
       " 'amal@gmail.com',\n",
       " 'also',\n",
       " 'amal123@gmail.com']"
      ]
     },
     "execution_count": 2,
     "metadata": {},
     "output_type": "execute_result"
    }
   ],
   "source": [
    "name='hi my name is amaljith,contact at amal@gmail.com also amal123@gmail.com'\n",
    "name.split()\n",
    "    \n"
   ]
  },
  {
   "cell_type": "code",
   "execution_count": 12,
   "id": "96dd9359",
   "metadata": {},
   "outputs": [
    {
     "name": "stdout",
     "output_type": "stream",
     "text": [
      "['amal@gmail.com', 'amal123@gmail.com']\n"
     ]
    },
    {
     "data": {
      "text/plain": [
       "re.DOTALL"
      ]
     },
     "execution_count": 12,
     "metadata": {},
     "output_type": "execute_result"
    }
   ],
   "source": [
    "import re\n",
    "name='hi my name is amaljith,contact at amal@gmail.com also amal123@gmail.com'\n",
    "email=re.findall(r\"[a-zA-Z0-9]+@+[a-zA-Z]+\\.+[a-zA-Z]+\",name)\n",
    "print(email)\n"
   ]
  },
  {
   "cell_type": "code",
   "execution_count": 20,
   "id": "675f36b8",
   "metadata": {},
   "outputs": [
    {
     "name": "stdout",
     "output_type": "stream",
     "text": [
      "xycabz\n"
     ]
    }
   ],
   "source": [
    "str1='abc'\n",
    "str2='xyz'\n",
    "str3=str1.replace(str1[0:2],str2[0:2])\n",
    "str4=str2.replace(str2[0:2],str1[0:2])\n",
    "print(''.join((str3,str4)))"
   ]
  },
  {
   "cell_type": "code",
   "execution_count": 42,
   "id": "44fb1771",
   "metadata": {},
   "outputs": [
    {
     "name": "stdout",
     "output_type": "stream",
     "text": [
      "321\n"
     ]
    }
   ],
   "source": [
    "n=123\n",
    "rev=0\n",
    "while (n!=0):\n",
    "    d=n%10\n",
    "    rev=rev*10+d\n",
    "    n=n//10\n",
    "print(rev)"
   ]
  },
  {
   "cell_type": "code",
   "execution_count": 15,
   "id": "3ecd6f4f",
   "metadata": {},
   "outputs": [
    {
     "data": {
      "text/plain": [
       "True"
      ]
     },
     "execution_count": 15,
     "metadata": {},
     "output_type": "execute_result"
    }
   ],
   "source": [
    "#\n",
    "x='amal'\n",
    "x.isalpha()"
   ]
  },
  {
   "cell_type": "code",
   "execution_count": 16,
   "id": "75f2a16c",
   "metadata": {},
   "outputs": [
    {
     "data": {
      "text/plain": [
       "False"
      ]
     },
     "execution_count": 16,
     "metadata": {},
     "output_type": "execute_result"
    }
   ],
   "source": [
    "x='amal jith'\n",
    "x.isalpha()"
   ]
  },
  {
   "cell_type": "code",
   "execution_count": 22,
   "id": "091eb7df",
   "metadata": {},
   "outputs": [
    {
     "data": {
      "text/plain": [
       "False"
      ]
     },
     "execution_count": 22,
     "metadata": {},
     "output_type": "execute_result"
    }
   ],
   "source": [
    "x='123344555'\n",
    "x.isalpha()\n"
   ]
  },
  {
   "cell_type": "code",
   "execution_count": 21,
   "id": "9e0407b8",
   "metadata": {},
   "outputs": [
    {
     "data": {
      "text/plain": [
       "True"
      ]
     },
     "execution_count": 21,
     "metadata": {},
     "output_type": "execute_result"
    }
   ],
   "source": [
    "x='123344555'\n",
    "\n",
    "x.isdigit()"
   ]
  },
  {
   "cell_type": "code",
   "execution_count": 35,
   "id": "f7b38edb",
   "metadata": {},
   "outputs": [
    {
     "name": "stdout",
     "output_type": "stream",
     "text": [
      "digit is  3 lower ia  3 upper is  6 special is  12\n"
     ]
    }
   ],
   "source": [
    "x='123 hi HaHAAAA !@#$%^&*()_+'\n",
    "import string\n",
    "countdigit=0\n",
    "countlower=0\n",
    "countupper=0\n",
    "countspecial=0\n",
    "for i in x:\n",
    "    if i.isdigit():\n",
    "        countdigit=countdigit+1\n",
    "    if i.islower():\n",
    "        countlower=countlower+1\n",
    "    if i.isupper():\n",
    "        countupper=countupper+1\n",
    "    if i in string.punctuation:\n",
    "        countspecial=countspecial+1\n",
    "print(\"digit is \",countdigit,'lower ia ',countlower,'upper is ',countupper,'special is ',countspecial)\n",
    "\n",
    "\n"
   ]
  },
  {
   "cell_type": "code",
   "execution_count": 35,
   "id": "23f172d1",
   "metadata": {},
   "outputs": [
    {
     "name": "stdout",
     "output_type": "stream",
     "text": [
      " 123 HI AA haaaa!@#$%^&*()_+\n"
     ]
    }
   ],
   "source": [
    "import string\n",
    "x='123 hi aa HAAAA !@#$%^&*()_+'\n",
    "z=x.split()\n",
    "y=' '\n",
    "for i in x.split():\n",
    "    if i.islower():\n",
    "        y=y+' '+i.upper()\n",
    "    if i.isupper():\n",
    "        y=y+' '+i.lower()\n",
    "    if i.isdigit():\n",
    "        y=y+i\n",
    "    if i in '!@#$%^&*()_+':\n",
    "        y=y+i\n",
    "    \n",
    "print(y)\n",
    "\n"
   ]
  },
  {
   "cell_type": "code",
   "execution_count": 17,
   "id": "af70dc2e",
   "metadata": {},
   "outputs": [
    {
     "name": "stdout",
     "output_type": "stream",
     "text": [
      "amaljith\n",
      "amaljit\n",
      "amalji\n",
      "amalj\n",
      "amal\n",
      "ama\n",
      "am\n",
      "a\n",
      "a\n",
      "am\n",
      "ama\n",
      "amal\n",
      "amalj\n",
      "amalji\n",
      "amaljit\n",
      "amaljith\n"
     ]
    }
   ],
   "source": [
    "#\n",
    "p='amaljith'\n",
    "for i in range(len(p)):\n",
    "    print(p[:len(p)-i])\n",
    "for i in range(len(p)):\n",
    "    print(p[:i+1])"
   ]
  },
  {
   "cell_type": "code",
   "execution_count": 30,
   "id": "5ee64654",
   "metadata": {},
   "outputs": [
    {
     "name": "stdout",
     "output_type": "stream",
     "text": [
      "101 111 121 131 141 151 161 171 181 191 202 212 222 232 242 252 262 272 282 292 303 313 323 333 343 353 363 373 383 393 404 414 424 434 444 454 464 474 484 494 505 515 525 535 545 555 565 575 585 595 606 616 626 636 646 656 666 676 686 696 707 717 727 737 747 757 767 777 787 797 808 818 828 838 848 858 868 878 888 898 909 919 929 939 949 959 969 979 989 999 "
     ]
    }
   ],
   "source": [
    "for i in range(1,1000):\n",
    "    a=str(i)\n",
    "    if len(a)>2 and a==a[::-1]:\n",
    "        print(a,end=' ')"
   ]
  },
  {
   "cell_type": "code",
   "execution_count": 43,
   "id": "c400b92f",
   "metadata": {},
   "outputs": [
    {
     "name": "stdout",
     "output_type": "stream",
     "text": [
      "smsl\n"
     ]
    }
   ],
   "source": [
    "name='amal'\n",
    "if 'a' not in name:\n",
    "    print(name)"
   ]
  },
  {
   "cell_type": "code",
   "execution_count": 42,
   "id": "4b72a771",
   "metadata": {},
   "outputs": [],
   "source": [
    "name='amal'\n",
    "\n",
    "if 'a' in name:\n",
    "    print(name)"
   ]
  },
  {
   "cell_type": "code",
   "execution_count": 46,
   "id": "9233b635",
   "metadata": {},
   "outputs": [
    {
     "name": "stderr",
     "output_type": "stream",
     "text": [
      "<>:2: SyntaxWarning: \"is not\" with a literal. Did you mean \"!=\"?\n",
      "<>:2: SyntaxWarning: \"is not\" with a literal. Did you mean \"!=\"?\n",
      "C:\\Users\\ASUS\\AppData\\Local\\Temp\\ipykernel_14136\\99720575.py:2: SyntaxWarning: \"is not\" with a literal. Did you mean \"!=\"?\n",
      "  if 4 is not x:\n"
     ]
    }
   ],
   "source": [
    "x=4\n",
    "if 4 is not x:\n",
    "    print(x)"
   ]
  },
  {
   "cell_type": "code",
   "execution_count": 63,
   "id": "543cd51c",
   "metadata": {},
   "outputs": [
    {
     "name": "stdout",
     "output_type": "stream",
     "text": [
      "ht\n",
      "hb\n",
      "jjsk\n"
     ]
    }
   ],
   "source": [
    "name='a ht hb jjsk'\n",
    "for i in name.split():\n",
    "    if len(i)%2==0:\n",
    "        print(i)\n"
   ]
  }
 ],
 "metadata": {
  "kernelspec": {
   "display_name": "Python 3 (ipykernel)",
   "language": "python",
   "name": "python3"
  },
  "language_info": {
   "codemirror_mode": {
    "name": "ipython",
    "version": 3
   },
   "file_extension": ".py",
   "mimetype": "text/x-python",
   "name": "python",
   "nbconvert_exporter": "python",
   "pygments_lexer": "ipython3",
   "version": "3.10.3"
  }
 },
 "nbformat": 4,
 "nbformat_minor": 5
}
