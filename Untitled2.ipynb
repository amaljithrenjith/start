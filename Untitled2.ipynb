{
 "cells": [
  {
   "cell_type": "code",
   "execution_count": 3,
   "id": "118afcbf",
   "metadata": {},
   "outputs": [
    {
     "name": "stdout",
     "output_type": "stream",
     "text": [
      "enter the value of x 5\n",
      "enter the value of y 4\n",
      "5\n"
     ]
    }
   ],
   "source": [
    "x=int(input(\"enter the value of x \"))\n",
    "y=int(input(\"enter the value of y \"))\n",
    "c=x\n",
    "\n",
    "print(c)"
   ]
  },
  {
   "cell_type": "code",
   "execution_count": 4,
   "id": "d6cd9b21",
   "metadata": {},
   "outputs": [
    {
     "name": "stdout",
     "output_type": "stream",
     "text": [
      "enter the value 5\n",
      "square root is = 25\n"
     ]
    }
   ],
   "source": [
    "x=int(input(\"enter the value \"))\n",
    "reselt=x*x\n",
    "print(\"square root is =\",reselt)"
   ]
  },
  {
   "cell_type": "code",
   "execution_count": 5,
   "id": "a4989847",
   "metadata": {},
   "outputs": [
    {
     "name": "stdout",
     "output_type": "stream",
     "text": [
      "enter thr nameamaljith\n",
      "renjith\n"
     ]
    },
    {
     "data": {
      "text/plain": [
       "('amaljith', 'renjith')"
      ]
     },
     "execution_count": 5,
     "metadata": {},
     "output_type": "execute_result"
    }
   ],
   "source": [
    "x=input(\"enter thr name\")\n",
    "y=input()\n",
    "x,y"
   ]
  },
  {
   "cell_type": "code",
   "execution_count": null,
   "id": "9cc8472d",
   "metadata": {},
   "outputs": [],
   "source": []
  }
 ],
 "metadata": {
  "kernelspec": {
   "display_name": "Python 3 (ipykernel)",
   "language": "python",
   "name": "python3"
  },
  "language_info": {
   "codemirror_mode": {
    "name": "ipython",
    "version": 3
   },
   "file_extension": ".py",
   "mimetype": "text/x-python",
   "name": "python",
   "nbconvert_exporter": "python",
   "pygments_lexer": "ipython3",
   "version": "3.10.3"
  }
 },
 "nbformat": 4,
 "nbformat_minor": 5
}
