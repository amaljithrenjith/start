{
 "cells": [
  {
   "cell_type": "code",
   "execution_count": 1,
   "id": "f6acde9b",
   "metadata": {},
   "outputs": [
    {
     "name": "stdout",
     "output_type": "stream",
     "text": [
      "enter your string name amaljith\n",
      "8\n"
     ]
    }
   ],
   "source": [
    "name=input(\"enter your string name \")\n",
    "h=len(name)\n",
    "print(h)"
   ]
  },
  {
   "cell_type": "code",
   "execution_count": 12,
   "id": "eeac0432",
   "metadata": {},
   "outputs": [
    {
     "name": "stdout",
     "output_type": "stream",
     "text": [
      "enter the name amaljith\n",
      "{'a': 2, 'm': 1, 'l': 1, 'j': 1, 'i': 1, 't': 1, 'h': 1}\n"
     ]
    }
   ],
   "source": [
    "name=input(\"enter the name \")\n",
    "dict={}\n",
    "for i in name:\n",
    "    keys=dict.keys()\n",
    "    if i in keys:\n",
    "        dict[i]+=1\n",
    "    else:\n",
    "        dict[i]=1\n",
    "print(dict)   "
   ]
  },
  {
   "cell_type": "code",
   "execution_count": 6,
   "id": "83391a96",
   "metadata": {},
   "outputs": [
    {
     "name": "stdout",
     "output_type": "stream",
     "text": [
      "3 0\n"
     ]
    }
   ],
   "source": [
    "x='hello everyone hello hai hello guys '\n",
    "for i,j in enumerate(x):\n",
    "    y=x.count('hello')\n",
    "    y2=x.find('hello')\n",
    "print(y,y2)"
   ]
  },
  {
   "cell_type": "code",
   "execution_count": 38,
   "id": "14e6e4ad",
   "metadata": {},
   "outputs": [
    {
     "name": "stdout",
     "output_type": "stream",
     "text": [
      "enter the name amaljith\n",
      "am th\n"
     ]
    }
   ],
   "source": [
    "name=input('enter the name ')\n",
    "for i in name:\n",
    "    if len(name)<=2:\n",
    "        print(i,end='')\n",
    "    else:\n",
    "        s1=name[0:2] \n",
    "        s2=name[-2:]\n",
    "print('{} {}'.format(s1,s2))  \n",
    "        "
   ]
  },
  {
   "cell_type": "code",
   "execution_count": 36,
   "id": "c0264666",
   "metadata": {},
   "outputs": [
    {
     "name": "stdout",
     "output_type": "stream",
     "text": [
      "enter the name gfb\n",
      "gf fb\n"
     ]
    }
   ],
   "source": [
    "name=input('enter the name ')\n",
    "s1=name[0:2] \n",
    "s2=name[-2:]\n",
    "print('{} {}'.format(s1,s2))\n",
    "        "
   ]
  },
  {
   "cell_type": "code",
   "execution_count": null,
   "id": "09600409",
   "metadata": {},
   "outputs": [],
   "source": []
  },
  {
   "cell_type": "markdown",
   "id": "3a576579",
   "metadata": {},
   "source": []
  },
  {
   "cell_type": "code",
   "execution_count": 58,
   "id": "9c9c5f9a",
   "metadata": {},
   "outputs": [
    {
     "name": "stdout",
     "output_type": "stream",
     "text": [
      "enter the string sd\n",
      "sd\n"
     ]
    }
   ],
   "source": [
    "name=input('enter the string ')\n",
    "if len(name)>2:\n",
    "    if name[-3:]=='ing':\n",
    "        print(name+'ly')\n",
    "    else:\n",
    "        print(name+'ing')\n",
    "else:\n",
    "    print(name)"
   ]
  },
  {
   "cell_type": "code",
   "execution_count": 68,
   "id": "1d625253",
   "metadata": {},
   "outputs": [
    {
     "name": "stdout",
     "output_type": "stream",
     "text": [
      "enetr the name amal is not\n",
      "amal is \n",
      "amal is not\n"
     ]
    }
   ],
   "source": [
    "name=input(\"enetr the name \")\n",
    "\n",
    "print(name.replace('not',''))\n",
    "print(name.replace('poor','good'))"
   ]
  },
  {
   "cell_type": "code",
   "execution_count": 71,
   "id": "faaa5687",
   "metadata": {},
   "outputs": [
    {
     "name": "stdout",
     "output_type": "stream",
     "text": [
      "enetr the name amaljith\n",
      "AMALJITH\n",
      "amaljith\n"
     ]
    }
   ],
   "source": [
    "name=input('enetr the name ')\n",
    "print(name.upper())\n",
    "print(name.lower())"
   ]
  },
  {
   "cell_type": "code",
   "execution_count": null,
   "id": "997b6619",
   "metadata": {},
   "outputs": [],
   "source": [
    "name=input('enter the name ')\n",
    "reselt='\n",
    "for i in range(len(name)):\n",
    "    if i % 2 == 0:\n",
    "        reselt=reselt+name[i]\n",
    "print(reselt)\n"
   ]
  }
 ],
 "metadata": {
  "kernelspec": {
   "display_name": "Python 3 (ipykernel)",
   "language": "python",
   "name": "python3"
  },
  "language_info": {
   "codemirror_mode": {
    "name": "ipython",
    "version": 3
   },
   "file_extension": ".py",
   "mimetype": "text/x-python",
   "name": "python",
   "nbconvert_exporter": "python",
   "pygments_lexer": "ipython3",
   "version": "3.10.3"
  }
 },
 "nbformat": 4,
 "nbformat_minor": 5
}
