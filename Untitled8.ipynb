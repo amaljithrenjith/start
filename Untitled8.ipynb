{
 "cells": [
  {
   "cell_type": "code",
   "execution_count": 4,
   "id": "b0fda06a",
   "metadata": {},
   "outputs": [
    {
     "name": "stdout",
     "output_type": "stream",
     "text": [
      "n521\n",
      "125"
     ]
    }
   ],
   "source": [
    "#reverse of a number\n",
    "n=int(input('n'))\n",
    "rev=0\n",
    "while (n!=0):\n",
    "    d=n%10\n",
    "    n=n//10\n",
    "    print(d,end=\"\")"
   ]
  },
  {
   "cell_type": "code",
   "execution_count": 20,
   "id": "1e04ea51",
   "metadata": {},
   "outputs": [
    {
     "name": "stdout",
     "output_type": "stream",
     "text": [
      "321\n"
     ]
    }
   ],
   "source": [
    "n=123\n",
    "rev=0\n",
    "while (n!=0):\n",
    "    d=n%10\n",
    "    rev=rev*10+d\n",
    "    n=n//10\n",
    "print(rev)"
   ]
  },
  {
   "cell_type": "code",
   "execution_count": 18,
   "id": "dba1bc57",
   "metadata": {},
   "outputs": [
    {
     "data": {
      "text/plain": [
       "'c'"
      ]
     },
     "execution_count": 18,
     "metadata": {},
     "output_type": "execute_result"
    }
   ],
   "source": [
    "import random\n",
    "random.random()\n",
    "random.randint(1,10)\n",
    "random.choice((\"a,b,c\"))"
   ]
  },
  {
   "cell_type": "code",
   "execution_count": 30,
   "id": "fb20e8c8",
   "metadata": {},
   "outputs": [
    {
     "name": "stdout",
     "output_type": "stream",
     "text": [
      "123\n",
      "456\n",
      "789\n"
     ]
    }
   ],
   "source": [
    "\n",
    "for i in range(1,10):\n",
    "    print(i,end=\"\")\n",
    "    if(i%3==0):\n",
    "        print()"
   ]
  },
  {
   "cell_type": "code",
   "execution_count": 35,
   "id": "674ccb70",
   "metadata": {},
   "outputs": [
    {
     "name": "stdout",
     "output_type": "stream",
     "text": [
      "1 1\n",
      "1 2\n",
      "1 3\n",
      "2 1\n",
      "2 2\n",
      "2 3\n",
      "3 1\n",
      "3 2\n",
      "3 3\n"
     ]
    }
   ],
   "source": [
    "for i in range(1,4):\n",
    "    for j in range(1,4):\n",
    "        print(i,j )"
   ]
  },
  {
   "cell_type": "code",
   "execution_count": 43,
   "id": "9f7d6ede",
   "metadata": {},
   "outputs": [
    {
     "name": "stdout",
     "output_type": "stream",
     "text": [
      "***\n",
      "***\n",
      "***\n"
     ]
    }
   ],
   "source": [
    "for i in range(0,3):\n",
    "    for j in range(1,4):\n",
    "        print(\"*\",end=\"\")\n",
    "    print()   "
   ]
  },
  {
   "cell_type": "code",
   "execution_count": 45,
   "id": "f0557736",
   "metadata": {},
   "outputs": [
    {
     "name": "stdout",
     "output_type": "stream",
     "text": [
      "000\n",
      "111\n",
      "222\n"
     ]
    }
   ],
   "source": [
    "for i in range(0,3):\n",
    "    for j in range(1,4):\n",
    "        print(i,end=\"\")\n",
    "    print()"
   ]
  },
  {
   "cell_type": "code",
   "execution_count": 46,
   "id": "97270c63",
   "metadata": {},
   "outputs": [
    {
     "name": "stdout",
     "output_type": "stream",
     "text": [
      "123\n",
      "123\n",
      "123\n"
     ]
    }
   ],
   "source": [
    "for i in range(0,3):\n",
    "    for j in range(1,4):\n",
    "        print(j,end=\"\")\n",
    "    print()"
   ]
  },
  {
   "cell_type": "code",
   "execution_count": 50,
   "id": "6451fb7e",
   "metadata": {},
   "outputs": [
    {
     "name": "stdout",
     "output_type": "stream",
     "text": [
      "0 1 0 2 0 3 \n",
      "1 1 1 2 1 3 \n",
      "2 1 2 2 2 3 \n"
     ]
    }
   ],
   "source": [
    "for i in range(0,3):\n",
    "    for j in range(1,4):\n",
    "        print(i,j,end=\" \")\n",
    "    print()"
   ]
  },
  {
   "cell_type": "code",
   "execution_count": 57,
   "id": "1d3ea655",
   "metadata": {},
   "outputs": [
    {
     "name": "stdout",
     "output_type": "stream",
     "text": [
      "1 \n",
      "2 2 \n",
      "3 3 3 \n",
      "4 4 4 4 \n",
      "5 5 5 5 5 \n"
     ]
    }
   ],
   "source": [
    "for i in range(1,6):\n",
    "    for j in range(i):\n",
    "        print(i,end=\" \")\n",
    "    print()"
   ]
  },
  {
   "cell_type": "code",
   "execution_count": 58,
   "id": "e57116d7",
   "metadata": {},
   "outputs": [
    {
     "name": "stdout",
     "output_type": "stream",
     "text": [
      "1 \n",
      "1 2 \n",
      "1 2 3 \n",
      "1 2 3 4 \n",
      "1 2 3 4 5 \n"
     ]
    }
   ],
   "source": [
    "for i in range(1,6):\n",
    "    for j in range(1,i+1):\n",
    "        print(j,end=\" \")\n",
    "    print()"
   ]
  },
  {
   "cell_type": "code",
   "execution_count": 61,
   "id": "d3893fb9",
   "metadata": {},
   "outputs": [
    {
     "name": "stdout",
     "output_type": "stream",
     "text": [
      "5 5 5 5 5 \n",
      "4 4 4 4 \n",
      "3 3 3 \n",
      "2 2 \n",
      "1 \n"
     ]
    }
   ],
   "source": [
    "for i in range(5,0,-1):\n",
    "    for j in range(i,0,-1):\n",
    "        print(i,end=\" \")\n",
    "    print()"
   ]
  },
  {
   "cell_type": "code",
   "execution_count": 62,
   "id": "69496feb",
   "metadata": {},
   "outputs": [
    {
     "name": "stdout",
     "output_type": "stream",
     "text": [
      "5 4 3 2 1 \n",
      "4 3 2 1 \n",
      "3 2 1 \n",
      "2 1 \n",
      "1 \n"
     ]
    }
   ],
   "source": [
    "for i in range(5,0,-1):\n",
    "    for j in range(i,0,-1):\n",
    "        print(j,end=\" \")\n",
    "    print()"
   ]
  },
  {
   "cell_type": "code",
   "execution_count": 69,
   "id": "4df3ca5c",
   "metadata": {},
   "outputs": [
    {
     "name": "stdout",
     "output_type": "stream",
     "text": [
      "12345\n",
      "1234\n",
      "123\n",
      "12\n",
      "1\n"
     ]
    }
   ],
   "source": [
    "for i in range(5,0,-1):\n",
    "    for j in range (1,i+1):\n",
    "        print(j,end=\"\")\n",
    "    print()"
   ]
  },
  {
   "cell_type": "code",
   "execution_count": 5,
   "id": "44a679bf",
   "metadata": {},
   "outputs": [
    {
     "name": "stdout",
     "output_type": "stream",
     "text": [
      "\n",
      "* \n",
      "* * \n",
      "* * * \n",
      "* * * * \n",
      "* * * * * \n"
     ]
    }
   ],
   "source": [
    " for i in range(6):\n",
    "        for j in range(i):\n",
    "            print(\"*\",end=\" \")\n",
    "        print()"
   ]
  },
  {
   "cell_type": "code",
   "execution_count": 74,
   "id": "c5fdf1be",
   "metadata": {},
   "outputs": [
    {
     "name": "stdout",
     "output_type": "stream",
     "text": [
      "*\n",
      "**\n",
      "***\n",
      "****\n",
      "*****\n"
     ]
    }
   ],
   "source": [
    "for i in range(1,6):\n",
    "    print(i*\"*\")"
   ]
  },
  {
   "cell_type": "code",
   "execution_count": 87,
   "id": "41d6c039",
   "metadata": {},
   "outputs": [],
   "source": [
    "for i in range(6,1):\n",
    "    print(i*\"*\")"
   ]
  },
  {
   "cell_type": "code",
   "execution_count": 79,
   "id": "11123cf9",
   "metadata": {},
   "outputs": [
    {
     "name": "stdout",
     "output_type": "stream",
     "text": [
      "* * * * * * \n",
      "* * * * * \n",
      "* * * * \n",
      "* * * \n",
      "* * \n",
      "* \n"
     ]
    }
   ],
   "source": [
    "for i in range(6,0,-1):\n",
    "    for j in range(i,0,-1):\n",
    "        print(\"*\",end=\" \")\n",
    "    print()"
   ]
  },
  {
   "cell_type": "code",
   "execution_count": 80,
   "id": "bd388309",
   "metadata": {},
   "outputs": [
    {
     "name": "stdout",
     "output_type": "stream",
     "text": [
      "* * * * * * \n",
      "* * * * * \n",
      "* * * * \n",
      "* * * \n",
      "* * \n",
      "* \n"
     ]
    }
   ],
   "source": [
    "for i in range(6,0,-1):\n",
    "    for j in range(i):\n",
    "        print(\"*\",end=\" \")\n",
    "    print()"
   ]
  },
  {
   "cell_type": "code",
   "execution_count": 82,
   "id": "4687f034",
   "metadata": {},
   "outputs": [
    {
     "name": "stdout",
     "output_type": "stream",
     "text": [
      "A\n"
     ]
    }
   ],
   "source": [
    "print(chr(65))"
   ]
  },
  {
   "cell_type": "code",
   "execution_count": 30,
   "id": "5f1a57da",
   "metadata": {},
   "outputs": [
    {
     "name": "stdout",
     "output_type": "stream",
     "text": [
      "enter the number 5\n",
      "* \n",
      "* * \n",
      "* * * \n",
      "* * * * \n",
      "* * * \n",
      "* * \n",
      "* \n"
     ]
    }
   ],
   "source": [
    "num=int(input(\"enter the number \"))\n",
    "for i in range(1,num):\n",
    "    for j in range(1,i+1):\n",
    "        print(\"*\",end=\" \")\n",
    "            \n",
    "    print()\n",
    "    if (num-1)==i:\n",
    "        for k in range(num-1,1,-1):\n",
    "            for l in range(k,1,-1):\n",
    "                print(\"*\",end=\" \")\n",
    "            print()\n",
    "                \n",
    "            "
   ]
  },
  {
   "cell_type": "code",
   "execution_count": 32,
   "id": "64d00277",
   "metadata": {},
   "outputs": [
    {
     "name": "stdout",
     "output_type": "stream",
     "text": [
      "enter the number 7\n",
      "* \n",
      "* * \n",
      "* * * \n",
      "* * * * \n",
      "* * * * * \n",
      "* * * * * * \n",
      "* * * * * \n",
      "* * * * \n",
      "* * * \n",
      "* * \n",
      "* \n"
     ]
    }
   ],
   "source": [
    "num=int(input(\"enter the number \"))\n",
    "for i in range(1,num):\n",
    "    for j in range(1,i+1):\n",
    "        print(\"*\",end=\" \")\n",
    "            \n",
    "    print()\n",
    "for k in range(num-1,1,-1):\n",
    "    for l in range(k,1,-1):\n",
    "        print(\"*\",end=\" \")\n",
    "    print()"
   ]
  },
  {
   "cell_type": "code",
   "execution_count": 40,
   "id": "f68960ad",
   "metadata": {},
   "outputs": [
    {
     "name": "stdout",
     "output_type": "stream",
     "text": [
      "enter the number 6\n",
      "          * \n",
      "         * * \n",
      "        * * * \n",
      "       * * * * \n",
      "      * * * * * \n",
      "     * * * * * * \n"
     ]
    }
   ],
   "source": [
    "num=int(input(\"enter the number \"))\n",
    "m=2*num-2\n",
    "for i in range(0,num):\n",
    "    for j in range(0,m):\n",
    "        print(end=\" \")\n",
    "    m=m-1\n",
    "    for k in range(0,i+1):\n",
    "        print(\"*\",end=\" \")\n",
    "    print()"
   ]
  },
  {
   "cell_type": "code",
   "execution_count": 37,
   "id": "f06a5b58",
   "metadata": {},
   "outputs": [
    {
     "ename": "IndentationError",
     "evalue": "unexpected indent (2353268728.py, line 26)",
     "output_type": "error",
     "traceback": [
      "\u001b[1;36m  Input \u001b[1;32mIn [37]\u001b[1;36m\u001b[0m\n\u001b[1;33m    comPnts=='true'\u001b[0m\n\u001b[1;37m    ^\u001b[0m\n\u001b[1;31mIndentationError\u001b[0m\u001b[1;31m:\u001b[0m unexpected indent\n"
     ]
    }
   ],
   "source": [
    "pnts=0\n",
    "usrPnts=false\n",
    "comPnts=false\n",
    "usrChoice=input(\" for rock  for papper  for scissors \")\n",
    "import random\n",
    "comChoice=random.choice(('rock','papper','scissors'))\n",
    "if usrChoice==comChoice:\n",
    "    print(\"you both are selected same \")\n",
    "elif usrChoice==\"rock\":\n",
    "    if comChoice=='papper':\n",
    "        print(\"computer wins\")\n",
    "        comPnts=='true'\n",
    "    else:\n",
    "        print(\"user wins\")\n",
    "        usrpnts=='true'\n",
    "elif usrChoice==\"papper\":\n",
    "    if comChoice=='scissors':\n",
    "        print(\"computer winner\")\n",
    "        comPnts=='true'\n",
    "    else:\n",
    "        print(\"user winner\")\n",
    "        usrpnts=='true'\n",
    "elif usrChoice==\"scissors\":\n",
    "    if comChoice==\"rock\":\n",
    "        print(\"computer wins\")\n",
    "         comPnts=='true'\n",
    "    else:\n",
    "        print(\"user winner\")\n",
    "        usrpnts=='true'\n",
    "else:\n",
    "    print(\"yu fool wrong command\")\n",
    "if usrPts=='true':\n",
    "    for i in range(10,usrpts+10):\n",
    "        print(\"score is\"+i)\n",
    "        break:\n",
    "elif comPnts=='true':\n",
    "    for j in range(10,compts+10):\n",
    "        print(\"score is\"+i)\n",
    "        break:"
   ]
  },
  {
   "cell_type": "code",
   "execution_count": 34,
   "id": "0d1cde23",
   "metadata": {},
   "outputs": [
    {
     "name": "stdout",
     "output_type": "stream",
     "text": [
      "rock paper scissor rock\n",
      "computer winns....!\n"
     ]
    }
   ],
   "source": [
    "import random\n",
    "usrChoice=input(\"rock paper scissor \")\n",
    "comChoice=random.choice((\"rock\",\"paper\",\"scissor\"))\n",
    "if usrChoice==comChoice:\n",
    "    print(\"GAME TIE.....\")\n",
    "elif (usrChoice=='rock' and comChoice=='scissor') or (usrChoice=='scissor' and comChoice=='paper') or (usrChoice=='paper' and comChoice=='rock'):\n",
    "    print(\"user is winner...!\")\n",
    "elif (usrChoice=='rock' and comChoice=='paper') or (usrChoice=='scissor' and comChoice=='rock') or (usrChoice=='paper' and comChoice==\"scissor\"):\n",
    "    print(\"computer winns....!\")\n",
    "else:\n",
    "    print(\"wrong command...\")"
   ]
  },
  {
   "cell_type": "code",
   "execution_count": null,
   "id": "89d33dc3",
   "metadata": {},
   "outputs": [
    {
     "name": "stdout",
     "output_type": "stream",
     "text": [
      "pls enter your guess, rock/paper/scissors:rock\n",
      "the computer chose scissors\n",
      "yay u scored\n",
      "the user score is: 1\n",
      "pls enter your guess, rock/paper/scissors:paper\n",
      "the computer chose scissors\n",
      "the computer scored\n",
      "the pc score is: 1\n",
      "pls enter your guess, rock/paper/scissors:rock\n",
      "the computer chose rock\n",
      "Tie!!\n",
      "pls enter your guess, rock/paper/scissors:rock\n",
      "the computer chose rock\n",
      "Tie!!\n",
      "pls enter your guess, rock/paper/scissors:rock\n",
      "the computer chose rock\n",
      "Tie!!\n",
      "pls enter your guess, rock/paper/scissors:scissor\n",
      "the computer chose paper\n",
      "pls enter your guess, rock/paper/scissors:paper\n",
      "the computer chose paper\n",
      "Tie!!\n"
     ]
    }
   ],
   "source": [
    "import random\n",
    "\n",
    "user_score = int(0)\n",
    "pc_score = int(0)\n",
    "score_limit = 5\n",
    "\n",
    "\n",
    "while user_score != score_limit or pc_score != score_limit:\n",
    "\n",
    "    user_guess: str = input(str(\"pls enter your guess, rock/paper/scissors:\"))\n",
    "\n",
    "    my_list = \"rock\", \"paper\", \"scissors\"\n",
    "    pc_guess = random.choice(my_list)\n",
    "    print(\"the computer chose\", pc_guess)\n",
    "\n",
    "    if pc_guess == \"rock\" and user_guess == \"rock\":\n",
    "        print ( \"Tie!!\" )\n",
    "\n",
    "    if pc_guess == \"paper\" and user_guess == \"paper\":\n",
    "        print ( \"Tie!!\" )\n",
    "\n",
    "    if pc_guess == \"scissors\" and user_guess == \"scissors\":\n",
    "        print ( \"Tie!!\" )\n",
    " \n",
    "    if pc_guess == \"paper\" and user_guess == \"rock\":\n",
    "        print ( \"the computer scores\" )\n",
    "\n",
    "        pc_score = pc_score + 1\n",
    "        print ( \"the pc score is:\", pc_score )\n",
    "\n",
    "    if pc_guess == \"rock\" and user_guess == \"paper\":\n",
    "        print ( \"yay u scored\" )\n",
    "\n",
    "        user_score = user_score + 1\n",
    "        print ( \"the user score is:\", user_score )\n",
    "\n",
    "    if pc_guess == \"rock\" and user_guess == \"scissors\":\n",
    "        print ( \"the computer scored\" )\n",
    "\n",
    "        pc_score = int ( pc_score ) + 1\n",
    "        print ( \"the pc score is:\", pc_score )\n",
    "\n",
    "    if pc_guess == \"scissors\" and user_guess == \"rock\":\n",
    "        print ( \"yay u scored\" )\n",
    "\n",
    "        user_score = user_score + 1\n",
    "        print ( \"the user score is:\", user_score )\n",
    "\n",
    "    if pc_guess == \"paper\" and user_guess == \"scissors\":\n",
    "        print ( \"yay u scored\" )\n",
    "\n",
    "        user_score = user_score + 1\n",
    "        print ( \"the user score is:\", user_score )\n",
    "\n",
    "    if pc_guess == \"scissors\" and user_guess == \"paper\":\n",
    "        print ( \"the computer scored\" )\n",
    "\n",
    "        pc_score = int ( pc_score ) + 1\n",
    "        print ( \"the pc score is:\", pc_score )\n",
    "\n",
    "        pc_guess = random.choice ( my_list )\n",
    "\n",
    "    if user_score == score_limit:\n",
    "        print(\"yay the u won\")\n",
    "\n",
    "        break\n",
    "\n",
    "    elif pc_score == score_limit:\n",
    "        print(\"oopsies, the computer won, better luck next time\")\n",
    "\n",
    "        break"
   ]
  }
 ],
 "metadata": {
  "kernelspec": {
   "display_name": "Python 3 (ipykernel)",
   "language": "python",
   "name": "python3"
  },
  "language_info": {
   "codemirror_mode": {
    "name": "ipython",
    "version": 3
   },
   "file_extension": ".py",
   "mimetype": "text/x-python",
   "name": "python",
   "nbconvert_exporter": "python",
   "pygments_lexer": "ipython3",
   "version": "3.10.3"
  }
 },
 "nbformat": 4,
 "nbformat_minor": 5
}
