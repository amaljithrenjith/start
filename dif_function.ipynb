{
 "cells": [
  {
   "cell_type": "code",
   "execution_count": 4,
   "id": "e04724d5",
   "metadata": {},
   "outputs": [
    {
     "name": "stdout",
     "output_type": "stream",
     "text": [
      "enter the number 5\n",
      "120\n"
     ]
    }
   ],
   "source": [
    "def factroil(a):\n",
    "    fact=1\n",
    "    for i in range(1,a+1):\n",
    "        fact=fact*i\n",
    "    print(fact)\n",
    "    \n",
    "    \n",
    "    \n",
    "num1=int(input('enter the number '))\n",
    "factroil(num1)"
   ]
  },
  {
   "cell_type": "code",
   "execution_count": 3,
   "id": "382dc69c",
   "metadata": {},
   "outputs": [
    {
     "name": "stdout",
     "output_type": "stream",
     "text": [
      "enter the number 5\n",
      "120\n"
     ]
    }
   ],
   "source": [
    "def factroil(a):\n",
    "    if a==1:\n",
    "        return 1\n",
    "    else:\n",
    "        return a*factroil(a-1)\n",
    "\n",
    "\n",
    "\n",
    "num=int(input('enter the number '))\n",
    "print(factroil(num))"
   ]
  },
  {
   "cell_type": "code",
   "execution_count": 6,
   "id": "c6a77598",
   "metadata": {},
   "outputs": [
    {
     "name": "stdout",
     "output_type": "stream",
     "text": [
      "25\n"
     ]
    }
   ],
   "source": [
    "##lambda function case1\n",
    "result=(lambda x:x**2)\n",
    "print(result(5))"
   ]
  },
  {
   "cell_type": "code",
   "execution_count": 7,
   "id": "4b6f000c",
   "metadata": {},
   "outputs": [
    {
     "name": "stdout",
     "output_type": "stream",
     "text": [
      "25\n"
     ]
    }
   ],
   "source": [
    "#case2\n",
    "result=(lambda x:x**2)(5)\n",
    "print(result)"
   ]
  },
  {
   "cell_type": "code",
   "execution_count": 8,
   "id": "b67bcf25",
   "metadata": {},
   "outputs": [
    {
     "name": "stdout",
     "output_type": "stream",
     "text": [
      "25\n"
     ]
    }
   ],
   "source": [
    "#case3\n",
    "print((lambda x:x**2)(5))"
   ]
  },
  {
   "cell_type": "code",
   "execution_count": 17,
   "id": "15592d8c",
   "metadata": {},
   "outputs": [
    {
     "name": "stdout",
     "output_type": "stream",
     "text": [
      "a p\n",
      "b r\n",
      "c r\n",
      "d s\n"
     ]
    }
   ],
   "source": [
    "a='abcd'\n",
    "b='prrs'\n",
    "for i in range(len(a)):\n",
    "        print(a[i],b[i])\n"
   ]
  },
  {
   "cell_type": "code",
   "execution_count": 18,
   "id": "a28e33c6",
   "metadata": {},
   "outputs": [
    {
     "name": "stdout",
     "output_type": "stream",
     "text": [
      "a p\n",
      "b r\n",
      "c r\n",
      "d s\n"
     ]
    }
   ],
   "source": [
    "#using zip function\n",
    "a='abcd'\n",
    "b='prrs'\n",
    "for i,j in zip(a,b):\n",
    "    print(i,j)"
   ]
  },
  {
   "cell_type": "code",
   "execution_count": 25,
   "id": "485ddc37",
   "metadata": {},
   "outputs": [
    {
     "name": "stdout",
     "output_type": "stream",
     "text": [
      "[1, 4, 27, 256, 3125, 46656, 823543, 16777216, 387420489]\n"
     ]
    }
   ],
   "source": [
    "def sqr(n):\n",
    "    return n**n\n",
    "\n",
    "num=[1,2,3,4,5,6,7,8,9]\n",
    "\n",
    "print(list(map(sqr,num)))\n"
   ]
  },
  {
   "cell_type": "code",
   "execution_count": 21,
   "id": "f35bade9",
   "metadata": {},
   "outputs": [
    {
     "name": "stdout",
     "output_type": "stream",
     "text": [
      "[1.0, 2.0, 3.0, 4.0, 5.0, 6.0, 7.0, 8.0, 9.0]\n"
     ]
    }
   ],
   "source": [
    "num=[1,2,3,4,5,6,7,8,9]\n",
    "print(list(map(float,num)))\n"
   ]
  },
  {
   "cell_type": "code",
   "execution_count": 22,
   "id": "4afa652b",
   "metadata": {},
   "outputs": [
    {
     "name": "stdout",
     "output_type": "stream",
     "text": [
      "[5, 3, 3, 5]\n"
     ]
    }
   ],
   "source": [
    "str1=['hello','fff','ddd','hwggs']\n",
    "print(list(map(len,str1)))"
   ]
  },
  {
   "cell_type": "code",
   "execution_count": 23,
   "id": "9fa0669a",
   "metadata": {},
   "outputs": [
    {
     "data": {
      "text/plain": [
       "[1, 4, 27, 256, 3125, 46656, 823543]"
      ]
     },
     "execution_count": 23,
     "metadata": {},
     "output_type": "execute_result"
    }
   ],
   "source": [
    "l1=[1,2,3,4,5,6,7]\n",
    "l2=[1,2,3,4,5,6,7]\n",
    "list(map(pow,l1,l2))"
   ]
  },
  {
   "cell_type": "code",
   "execution_count": 3,
   "id": "cf0fc2b9",
   "metadata": {},
   "outputs": [
    {
     "name": "stdout",
     "output_type": "stream",
     "text": [
      "12 * 0 = 0\n",
      "12 * 1 = 12\n",
      "12 * 2 = 24\n",
      "12 * 3 = 36\n",
      "12 * 4 = 48\n",
      "12 * 5 = 60\n",
      "12 * 6 = 72\n",
      "12 * 7 = 84\n",
      "12 * 8 = 96\n",
      "12 * 9 = 108\n",
      "12 * 10 = 120\n",
      "12 * 11 = 132\n",
      "12 * 12 = 144\n"
     ]
    }
   ],
   "source": [
    "def multable(n):\n",
    "    if n==0:\n",
    "        return\n",
    "    for i in range(n+1):\n",
    "        \n",
    "         print(n,'*',i,'=',n*i)\n",
    "            \n",
    "            \n",
    "multable(12)"
   ]
  },
  {
   "cell_type": "code",
   "execution_count": 8,
   "id": "23779a3d",
   "metadata": {},
   "outputs": [
    {
     "name": "stdout",
     "output_type": "stream",
     "text": [
      "12 * 1 = 12\n",
      "12 * 2 = 24\n",
      "12 * 3 = 36\n",
      "12 * 4 = 48\n",
      "12 * 5 = 60\n",
      "12 * 6 = 72\n",
      "12 * 7 = 84\n",
      "12 * 8 = 96\n",
      "12 * 9 = 108\n",
      "12 * 10 = 120\n"
     ]
    }
   ],
   "source": [
    "def multable(n,i=1):\n",
    "    if i>10:\n",
    "        return\n",
    "    print(n,'*',i,'=',n*i)\n",
    "    \n",
    "    multable(n,i+1)\n",
    "            \n",
    "            \n",
    "multable(12)"
   ]
  },
  {
   "cell_type": "code",
   "execution_count": 11,
   "id": "dd743af5",
   "metadata": {},
   "outputs": [
    {
     "data": {
      "text/plain": [
       "10"
      ]
     },
     "execution_count": 11,
     "metadata": {},
     "output_type": "execute_result"
    }
   ],
   "source": [
    "z=-10\n",
    "abs(z)"
   ]
  },
  {
   "cell_type": "code",
   "execution_count": 12,
   "id": "4a2ef6b2",
   "metadata": {},
   "outputs": [
    {
     "data": {
      "text/plain": [
       "3"
      ]
     },
     "execution_count": 12,
     "metadata": {},
     "output_type": "execute_result"
    }
   ],
   "source": [
    "round(3.2547)"
   ]
  },
  {
   "cell_type": "code",
   "execution_count": 13,
   "id": "4799b845",
   "metadata": {},
   "outputs": [
    {
     "data": {
      "text/plain": [
       "3.255"
      ]
     },
     "execution_count": 13,
     "metadata": {},
     "output_type": "execute_result"
    }
   ],
   "source": [
    "round(3.2546,3)"
   ]
  },
  {
   "cell_type": "code",
   "execution_count": 16,
   "id": "af8d29a6",
   "metadata": {},
   "outputs": [
    {
     "name": "stdout",
     "output_type": "stream",
     "text": [
      "\n"
     ]
    }
   ],
   "source": [
    "import sys\n",
    "name=sys.stdin.readline(2)\n",
    "print(name)"
   ]
  },
  {
   "cell_type": "code",
   "execution_count": 19,
   "id": "13b92f58",
   "metadata": {},
   "outputs": [
    {
     "ename": "SyntaxError",
     "evalue": "invalid syntax (3724638470.py, line 2)",
     "output_type": "error",
     "traceback": [
      "\u001b[1;36m  Input \u001b[1;32mIn [19]\u001b[1;36m\u001b[0m\n\u001b[1;33m    if (2000%4==0 and %400!==0) or (2000%4==0 and %100=0 and %400==0):\u001b[0m\n\u001b[1;37m                      ^\u001b[0m\n\u001b[1;31mSyntaxError\u001b[0m\u001b[1;31m:\u001b[0m invalid syntax\n"
     ]
    }
   ],
   "source": [
    "def leap_year(y):\n",
    "    if (2000%4==0 and %400!==0) or (2000%4==0 and %100=0 and %400==0):\n",
    "        print('false')\n",
    "    else:\n",
    "        print('true')\n",
    "        \n",
    "year=int(input('enter the year '))\n",
    "leap_year(year)"
   ]
  },
  {
   "cell_type": "code",
   "execution_count": null,
   "id": "aeff110a",
   "metadata": {},
   "outputs": [],
   "source": [
    "def credit_num(c):\n",
    "    c=str(n)\n",
    "    print(n[:8]+'x'*6)\n",
    "\n",
    "\n",
    "\n",
    "c_num=int(input('enter the creditbcard number '))\n",
    "credit_num(c_num)\n"
   ]
  },
  {
   "cell_type": "code",
   "execution_count": 39,
   "id": "1ea513e5",
   "metadata": {},
   "outputs": [
    {
     "name": "stdout",
     "output_type": "stream",
     "text": [
      "enetr the number 123456789987\n",
      "12345678xxxx\n"
     ]
    }
   ],
   "source": [
    "num=input('enetr the number ')\n",
    "length=len(num)\n",
    "star=(length-8)*'x'\n",
    "print(num[:-4]+star)"
   ]
  },
  {
   "cell_type": "code",
   "execution_count": null,
   "id": "7eebad20",
   "metadata": {},
   "outputs": [],
   "source": [
    "def maskify(cc):\n",
    "    str = ''\n",
    "    for char in cc[:-4]:\n",
    "        str += '#'\n",
    "    str += cc[-4:]\n",
    "    return str\n",
    "print(maskify(1234567890987654321))"
   ]
  },
  {
   "cell_type": "code",
   "execution_count": 7,
   "id": "a669e2ab",
   "metadata": {},
   "outputs": [
    {
     "name": "stdout",
     "output_type": "stream",
     "text": [
      "enter the number 5\n",
      "\n",
      "0 \n",
      "0 1 \n",
      "0 1 2 \n",
      "0 1 2 3 \n"
     ]
    }
   ],
   "source": [
    "num=int(input('enter the number '))\n",
    "for i in range(num):\n",
    "    for j in range(i):\n",
    "        print(j, end=' ')\n",
    "    print()"
   ]
  },
  {
   "cell_type": "code",
   "execution_count": 8,
   "id": "2eeaa5b9",
   "metadata": {},
   "outputs": [
    {
     "name": "stdout",
     "output_type": "stream",
     "text": [
      "enter the number 5\n",
      "\n",
      "1 \n",
      "2 2 \n",
      "3 3 3 \n",
      "4 4 4 4 \n"
     ]
    }
   ],
   "source": [
    "num=int(input('enter the number '))\n",
    "for i in range(num):\n",
    "    for j in range(i):\n",
    "        print(i, end=' ')\n",
    "    print()"
   ]
  },
  {
   "cell_type": "code",
   "execution_count": 11,
   "id": "4093d9c4",
   "metadata": {},
   "outputs": [
    {
     "name": "stdout",
     "output_type": "stream",
     "text": [
      "enter the number 5\n",
      "0 1 2 3 4 \n"
     ]
    }
   ],
   "source": [
    "num=int(input('enter the number '))\n",
    "for i in range(num):\n",
    "    print(i, end=' ')\n",
    "print()"
   ]
  },
  {
   "cell_type": "code",
   "execution_count": 14,
   "id": "4d9d5eb6",
   "metadata": {},
   "outputs": [
    {
     "name": "stdout",
     "output_type": "stream",
     "text": [
      "enter the number 5\n",
      "5 5 5 5 5 \n",
      "4 4 4 4 \n",
      "3 3 3 \n",
      "2 2 \n",
      "1 \n"
     ]
    }
   ],
   "source": [
    "num=int(input('enter the number '))\n",
    "for i in range(num,0,-1):\n",
    "    for j in range(i):\n",
    "        print(i,end=' ')\n",
    "    print()"
   ]
  },
  {
   "cell_type": "code",
   "execution_count": 15,
   "id": "7efaf29e",
   "metadata": {},
   "outputs": [
    {
     "name": "stdout",
     "output_type": "stream",
     "text": [
      "enter the number 5\n",
      "0 1 2 3 4 \n",
      "0 1 2 3 \n",
      "0 1 2 \n",
      "0 1 \n",
      "0 \n"
     ]
    }
   ],
   "source": [
    "num=int(input('enter the number '))\n",
    "for i in range(num,0,-1):\n",
    "    for j in range(i):\n",
    "        print(j,end=' ')\n",
    "    print()"
   ]
  },
  {
   "cell_type": "code",
   "execution_count": 24,
   "id": "26f58d2a",
   "metadata": {},
   "outputs": [
    {
     "name": "stdout",
     "output_type": "stream",
     "text": [
      "enter the number 5\n",
      "5 5 5 5 5 \n",
      "4 4 4 4 \n",
      "3 3 3 \n",
      "2 2 \n",
      "1 \n"
     ]
    }
   ],
   "source": [
    "num=int(input('enter the number '))\n",
    "for i in range(num,0,-1):\n",
    "    for j in range(i):\n",
    "        print(i,end=' ')\n",
    "    print()"
   ]
  },
  {
   "cell_type": "code",
   "execution_count": 39,
   "id": "d2bc18f4",
   "metadata": {},
   "outputs": [
    {
     "name": "stdout",
     "output_type": "stream",
     "text": [
      "enter the number 10\n",
      "         # \n",
      "        # # \n",
      "       # # # \n",
      "      # # # # \n",
      "     # # # # # \n",
      "    # # # # # # \n",
      "   # # # # # # # \n",
      "  # # # # # # # # \n",
      " # # # # # # # # # \n",
      "# # # # # # # # # # \n"
     ]
    }
   ],
   "source": [
    "num=int(input('enter the number '))\n",
    "for i in range(0,num):\n",
    "    for j in range(0,num-i-1):\n",
    "        print(end=' ')\n",
    "    for k in range(0,i+1):\n",
    "        print('#',end=' ')\n",
    "    print()"
   ]
  },
  {
   "cell_type": "code",
   "execution_count": 38,
   "id": "914b22c4",
   "metadata": {},
   "outputs": [
    {
     "name": "stdout",
     "output_type": "stream",
     "text": [
      "enter the number 5\n",
      "# # # # # # # # # # # # # # # \n"
     ]
    }
   ],
   "source": [
    "num=int(input('enter the number '))\n",
    "for i in range(0,num):\n",
    "     for k in range(0,i+1):\n",
    "        print('#',end=' ')\n"
   ]
  },
  {
   "cell_type": "code",
   "execution_count": 54,
   "id": "b5f41fba",
   "metadata": {},
   "outputs": [
    {
     "name": "stdout",
     "output_type": "stream",
     "text": [
      "enter the number 5\n",
      "    # \n",
      "   # # \n",
      "  # # # \n",
      " # # # # \n",
      "# # # # # \n"
     ]
    }
   ],
   "source": [
    "num=int(input('enter the number '))\n",
    "for i in range(0,num):\n",
    "    for j in range(0,num-i-1):\n",
    "        print(end=' ')\n",
    "    for k in range(0,i+1):\n",
    "        print('#',end=' ')\n",
    "    print()\n"
   ]
  },
  {
   "cell_type": "code",
   "execution_count": 49,
   "id": "8151afec",
   "metadata": {},
   "outputs": [
    {
     "name": "stdout",
     "output_type": "stream",
     "text": [
      "enter the number 5\n",
      "# # # # # \n",
      " # # # # \n",
      "  # # # \n",
      "   # # \n",
      "    # \n"
     ]
    }
   ],
   "source": [
    "num=int(input('enter the number '))\n",
    "for i in range(num,0,-1):\n",
    "    for j in range(0,num-i):\n",
    "        print(end=' ')\n",
    "    for k in range(0,i):\n",
    "        print('#',end=' ')\n",
    "    print()"
   ]
  },
  {
   "cell_type": "code",
   "execution_count": 52,
   "id": "11e7f6d0",
   "metadata": {},
   "outputs": [
    {
     "name": "stdout",
     "output_type": "stream",
     "text": [
      "enter the number 5\n",
      "    # \n",
      "   # # \n",
      "  # # # \n",
      " # # # # \n",
      "# # # # # \n",
      "# # # # # \n",
      " # # # # \n",
      "  # # # \n",
      "   # # \n",
      "    # \n"
     ]
    }
   ],
   "source": [
    "num=int(input('enter the number '))\n",
    "for i in range(0,num):\n",
    "    for j in range(0,num-i-1):\n",
    "        print(end=' ')\n",
    "    for k in range(0,i+1):\n",
    "        print('#',end=' ')\n",
    "    print()\n",
    "for i in range(num,0,-1):\n",
    "    for j in range(0,num-i):\n",
    "        print(end=' ')\n",
    "    for k in range(0,i):\n",
    "        print('#',end=' ')\n",
    "    print()\n",
    "   "
   ]
  },
  {
   "cell_type": "code",
   "execution_count": 56,
   "id": "dc0e86a4",
   "metadata": {},
   "outputs": [
    {
     "name": "stdout",
     "output_type": "stream",
     "text": [
      "enter the number 5\n",
      "\n",
      "* \n",
      "* * \n",
      "* * * \n",
      "* * * * \n",
      "* * * * * \n",
      "* * * * \n",
      "* * * \n",
      "* * \n",
      "* \n"
     ]
    }
   ],
   "source": [
    "num=int(input('enter the number '))\n",
    "for i in range(0,num):\n",
    "    for j in range(i):\n",
    "        print('*',end=' ')\n",
    "    print()\n",
    "for i in range(num,0,-1):\n",
    "    for k in range(i):\n",
    "        print('*',end=' ')\n",
    "    print()"
   ]
  },
  {
   "cell_type": "code",
   "execution_count": 57,
   "id": "9ed42d07",
   "metadata": {},
   "outputs": [
    {
     "name": "stdout",
     "output_type": "stream",
     "text": [
      "enter the name google\n",
      "{'g': 2, 'o': 2, 'l': 1, 'e': 1}\n"
     ]
    }
   ],
   "source": [
    "name=input(\"enter the name \")\n",
    "dict={}\n",
    "for i in name:\n",
    "    keys=dict.keys()\n",
    "    if i in keys:\n",
    "        dict[i]+=1\n",
    "    else:\n",
    "        dict[i]=1\n",
    "print(dict)"
   ]
  },
  {
   "cell_type": "code",
   "execution_count": 72,
   "id": "2d498449",
   "metadata": {},
   "outputs": [
    {
     "name": "stdout",
     "output_type": "stream",
     "text": [
      "enter the name amal\n",
      "a\n",
      "m\n",
      "a\n",
      "l\n"
     ]
    }
   ],
   "source": [
    "name=input('enter the name ')\n",
    "for i in name:\n",
    "    if i.isidentifier():\n",
    "        print(i)"
   ]
  }
 ],
 "metadata": {
  "kernelspec": {
   "display_name": "Python 3 (ipykernel)",
   "language": "python",
   "name": "python3"
  },
  "language_info": {
   "codemirror_mode": {
    "name": "ipython",
    "version": 3
   },
   "file_extension": ".py",
   "mimetype": "text/x-python",
   "name": "python",
   "nbconvert_exporter": "python",
   "pygments_lexer": "ipython3",
   "version": "3.10.3"
  }
 },
 "nbformat": 4,
 "nbformat_minor": 5
}
